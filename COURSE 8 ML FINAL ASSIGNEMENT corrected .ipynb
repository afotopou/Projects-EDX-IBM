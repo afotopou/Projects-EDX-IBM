{
 "cells": [
  {
   "cell_type": "markdown",
   "metadata": {
    "button": false,
    "new_sheet": false,
    "run_control": {
     "read_only": false
    }
   },
   "source": [
    "<center>\n",
    "    <img src=\"https://cf-courses-data.s3.us.cloud-object-storage.appdomain.cloud/IBMDeveloperSkillsNetwork-ML0101EN-SkillsNetwork/labs/Module%206/images/IDSNlogo.png\" width=\"300\" alt=\"cognitiveclass.ai logo\"  />\n",
    "</center>\n",
    "\n",
    "# Classification with Python\n",
    "\n",
    "Estimated time needed: **25** minutes\n",
    "\n",
    "## Objectives\n",
    "\n",
    "After completing this lab you will be able to:\n",
    "\n",
    "*   Confidently create classification models\n"
   ]
  },
  {
   "cell_type": "markdown",
   "metadata": {
    "button": false,
    "new_sheet": false,
    "run_control": {
     "read_only": false
    }
   },
   "source": [
    "In this notebook we try to practice all the classification algorithms that we learned in this course.\n",
    "\n",
    "We load a dataset using Pandas library, and apply the following algorithms, and find the best one for this specific dataset by accuracy evaluation methods.\n",
    "\n",
    "Let's first load required libraries:\n"
   ]
  },
  {
   "cell_type": "code",
   "execution_count": 1,
   "metadata": {
    "button": false,
    "new_sheet": false,
    "run_control": {
     "read_only": false
    }
   },
   "outputs": [],
   "source": [
    "import itertools\n",
    "import numpy as np\n",
    "import matplotlib.pyplot as plt\n",
    "from matplotlib.ticker import NullFormatter\n",
    "import pandas as pd\n",
    "import numpy as np\n",
    "import matplotlib.ticker as ticker\n",
    "from sklearn import preprocessing\n",
    "%matplotlib inline"
   ]
  },
  {
   "cell_type": "markdown",
   "metadata": {
    "button": false,
    "new_sheet": false,
    "run_control": {
     "read_only": false
    }
   },
   "source": [
    "### About dataset\n"
   ]
  },
  {
   "cell_type": "markdown",
   "metadata": {
    "button": false,
    "new_sheet": false,
    "run_control": {
     "read_only": false
    }
   },
   "source": [
    "This dataset is about the performance of basketball teams. The **cbb.csv** data set includes performance data about five seasons of 354 basketball teams. It includes following fields:\n",
    "\n",
    "| Field          | Description                                                                           |\n",
    "|----------------|---------------------------------------------------------------------------------------|\n",
    "|TEAM |\tThe Division I college basketball school|\n",
    "|CONF|\tThe Athletic Conference in which the school participates in (A10 = Atlantic 10, ACC = Atlantic Coast Conference, AE = America East, Amer = American, ASun = ASUN, B10 = Big Ten, B12 = Big 12, BE = Big East, BSky = Big Sky, BSth = Big South, BW = Big West, CAA = Colonial Athletic Association, CUSA = Conference USA, Horz = Horizon League, Ivy = Ivy League, MAAC = Metro Atlantic Athletic Conference, MAC = Mid-American Conference, MEAC = Mid-Eastern Athletic Conference, MVC = Missouri Valley Conference, MWC = Mountain West, NEC = Northeast Conference, OVC = Ohio Valley Conference, P12 = Pac-12, Pat = Patriot League, SB = Sun Belt, SC = Southern Conference, SEC = South Eastern Conference, Slnd = Southland Conference, Sum = Summit League, SWAC = Southwestern Athletic Conference, WAC = Western Athletic Conference, WCC = West Coast Conference)|\n",
    "|G|\tNumber of games played|\n",
    "|W|\tNumber of games won|\n",
    "|ADJOE|\tAdjusted Offensive Efficiency (An estimate of the offensive efficiency (points scored per 100 possessions) a team would have against the average Division I defense)|\n",
    "|ADJDE|\tAdjusted Defensive Efficiency (An estimate of the defensive efficiency (points allowed per 100 possessions) a team would have against the average Division I offense)|\n",
    "|BARTHAG|\tPower Rating (Chance of beating an average Division I team)|\n",
    "|EFG_O|\tEffective Field Goal Percentage Shot|\n",
    "|EFG_D|\tEffective Field Goal Percentage Allowed|\n",
    "|TOR|\tTurnover Percentage Allowed (Turnover Rate)|\n",
    "|TORD|\tTurnover Percentage Committed (Steal Rate)|\n",
    "|ORB|\tOffensive Rebound Percentage|\n",
    "|DRB|\tDefensive Rebound Percentage|\n",
    "|FTR|\tFree Throw Rate (How often the given team shoots Free Throws)|\n",
    "|FTRD|\tFree Throw Rate Allowed|\n",
    "|2P_O|\tTwo-Point Shooting Percentage|\n",
    "|2P_D|\tTwo-Point Shooting Percentage Allowed|\n",
    "|3P_O|\tThree-Point Shooting Percentage|\n",
    "|3P_D|\tThree-Point Shooting Percentage Allowed|\n",
    "|ADJ_T|\tAdjusted Tempo (An estimate of the tempo (possessions per 40 minutes) a team would have against the team that wants to play at an average Division I tempo)|\n",
    "|WAB|\tWins Above Bubble (The bubble refers to the cut off between making the NCAA March Madness Tournament and not making it)|\n",
    "|POSTSEASON|\tRound where the given team was eliminated or where their season ended (R68 = First Four, R64 = Round of 64, R32 = Round of 32, S16 = Sweet Sixteen, E8 = Elite Eight, F4 = Final Four, 2ND = Runner-up, Champion = Winner of the NCAA March Madness Tournament for that given year)|\n",
    "|SEED|\tSeed in the NCAA March Madness Tournament|\n",
    "|YEAR|\tSeason\n"
   ]
  },
  {
   "cell_type": "markdown",
   "metadata": {
    "button": false,
    "new_sheet": false,
    "run_control": {
     "read_only": false
    }
   },
   "source": [
    "### Load Data From CSV File\n"
   ]
  },
  {
   "cell_type": "markdown",
   "metadata": {
    "button": false,
    "new_sheet": false,
    "run_control": {
     "read_only": false
    }
   },
   "source": [
    "Let's load the dataset \\[NB Need to provide link to csv file]\n"
   ]
  },
  {
   "cell_type": "code",
   "execution_count": 2,
   "metadata": {
    "button": false,
    "new_sheet": false,
    "run_control": {
     "read_only": false
    }
   },
   "outputs": [
    {
     "data": {
      "text/html": [
       "<div>\n",
       "<style scoped>\n",
       "    .dataframe tbody tr th:only-of-type {\n",
       "        vertical-align: middle;\n",
       "    }\n",
       "\n",
       "    .dataframe tbody tr th {\n",
       "        vertical-align: top;\n",
       "    }\n",
       "\n",
       "    .dataframe thead th {\n",
       "        text-align: right;\n",
       "    }\n",
       "</style>\n",
       "<table border=\"1\" class=\"dataframe\">\n",
       "  <thead>\n",
       "    <tr style=\"text-align: right;\">\n",
       "      <th></th>\n",
       "      <th>TEAM</th>\n",
       "      <th>CONF</th>\n",
       "      <th>G</th>\n",
       "      <th>W</th>\n",
       "      <th>ADJOE</th>\n",
       "      <th>ADJDE</th>\n",
       "      <th>BARTHAG</th>\n",
       "      <th>EFG_O</th>\n",
       "      <th>EFG_D</th>\n",
       "      <th>TOR</th>\n",
       "      <th>...</th>\n",
       "      <th>FTRD</th>\n",
       "      <th>2P_O</th>\n",
       "      <th>2P_D</th>\n",
       "      <th>3P_O</th>\n",
       "      <th>3P_D</th>\n",
       "      <th>ADJ_T</th>\n",
       "      <th>WAB</th>\n",
       "      <th>POSTSEASON</th>\n",
       "      <th>SEED</th>\n",
       "      <th>YEAR</th>\n",
       "    </tr>\n",
       "  </thead>\n",
       "  <tbody>\n",
       "    <tr>\n",
       "      <th>0</th>\n",
       "      <td>North Carolina</td>\n",
       "      <td>ACC</td>\n",
       "      <td>40</td>\n",
       "      <td>33</td>\n",
       "      <td>123.3</td>\n",
       "      <td>94.9</td>\n",
       "      <td>0.9531</td>\n",
       "      <td>52.6</td>\n",
       "      <td>48.1</td>\n",
       "      <td>15.4</td>\n",
       "      <td>...</td>\n",
       "      <td>30.4</td>\n",
       "      <td>53.9</td>\n",
       "      <td>44.6</td>\n",
       "      <td>32.7</td>\n",
       "      <td>36.2</td>\n",
       "      <td>71.7</td>\n",
       "      <td>8.6</td>\n",
       "      <td>2ND</td>\n",
       "      <td>1.0</td>\n",
       "      <td>2016</td>\n",
       "    </tr>\n",
       "    <tr>\n",
       "      <th>1</th>\n",
       "      <td>Villanova</td>\n",
       "      <td>BE</td>\n",
       "      <td>40</td>\n",
       "      <td>35</td>\n",
       "      <td>123.1</td>\n",
       "      <td>90.9</td>\n",
       "      <td>0.9703</td>\n",
       "      <td>56.1</td>\n",
       "      <td>46.7</td>\n",
       "      <td>16.3</td>\n",
       "      <td>...</td>\n",
       "      <td>30.0</td>\n",
       "      <td>57.4</td>\n",
       "      <td>44.1</td>\n",
       "      <td>36.2</td>\n",
       "      <td>33.9</td>\n",
       "      <td>66.7</td>\n",
       "      <td>8.9</td>\n",
       "      <td>Champions</td>\n",
       "      <td>2.0</td>\n",
       "      <td>2016</td>\n",
       "    </tr>\n",
       "    <tr>\n",
       "      <th>2</th>\n",
       "      <td>Notre Dame</td>\n",
       "      <td>ACC</td>\n",
       "      <td>36</td>\n",
       "      <td>24</td>\n",
       "      <td>118.3</td>\n",
       "      <td>103.3</td>\n",
       "      <td>0.8269</td>\n",
       "      <td>54.0</td>\n",
       "      <td>49.5</td>\n",
       "      <td>15.3</td>\n",
       "      <td>...</td>\n",
       "      <td>26.0</td>\n",
       "      <td>52.9</td>\n",
       "      <td>46.5</td>\n",
       "      <td>37.4</td>\n",
       "      <td>36.9</td>\n",
       "      <td>65.5</td>\n",
       "      <td>2.3</td>\n",
       "      <td>E8</td>\n",
       "      <td>6.0</td>\n",
       "      <td>2016</td>\n",
       "    </tr>\n",
       "    <tr>\n",
       "      <th>3</th>\n",
       "      <td>Virginia</td>\n",
       "      <td>ACC</td>\n",
       "      <td>37</td>\n",
       "      <td>29</td>\n",
       "      <td>119.9</td>\n",
       "      <td>91.0</td>\n",
       "      <td>0.9600</td>\n",
       "      <td>54.8</td>\n",
       "      <td>48.4</td>\n",
       "      <td>15.1</td>\n",
       "      <td>...</td>\n",
       "      <td>33.4</td>\n",
       "      <td>52.6</td>\n",
       "      <td>46.3</td>\n",
       "      <td>40.3</td>\n",
       "      <td>34.7</td>\n",
       "      <td>61.9</td>\n",
       "      <td>8.6</td>\n",
       "      <td>E8</td>\n",
       "      <td>1.0</td>\n",
       "      <td>2016</td>\n",
       "    </tr>\n",
       "    <tr>\n",
       "      <th>4</th>\n",
       "      <td>Kansas</td>\n",
       "      <td>B12</td>\n",
       "      <td>37</td>\n",
       "      <td>32</td>\n",
       "      <td>120.9</td>\n",
       "      <td>90.4</td>\n",
       "      <td>0.9662</td>\n",
       "      <td>55.7</td>\n",
       "      <td>45.1</td>\n",
       "      <td>17.8</td>\n",
       "      <td>...</td>\n",
       "      <td>37.3</td>\n",
       "      <td>52.7</td>\n",
       "      <td>43.4</td>\n",
       "      <td>41.3</td>\n",
       "      <td>32.5</td>\n",
       "      <td>70.1</td>\n",
       "      <td>11.6</td>\n",
       "      <td>E8</td>\n",
       "      <td>1.0</td>\n",
       "      <td>2016</td>\n",
       "    </tr>\n",
       "  </tbody>\n",
       "</table>\n",
       "<p>5 rows × 24 columns</p>\n",
       "</div>"
      ],
      "text/plain": [
       "             TEAM CONF   G   W  ADJOE  ADJDE  BARTHAG  EFG_O  EFG_D   TOR  \\\n",
       "0  North Carolina  ACC  40  33  123.3   94.9   0.9531   52.6   48.1  15.4   \n",
       "1       Villanova   BE  40  35  123.1   90.9   0.9703   56.1   46.7  16.3   \n",
       "2      Notre Dame  ACC  36  24  118.3  103.3   0.8269   54.0   49.5  15.3   \n",
       "3        Virginia  ACC  37  29  119.9   91.0   0.9600   54.8   48.4  15.1   \n",
       "4          Kansas  B12  37  32  120.9   90.4   0.9662   55.7   45.1  17.8   \n",
       "\n",
       "   ...  FTRD  2P_O  2P_D  3P_O  3P_D  ADJ_T   WAB  POSTSEASON  SEED  YEAR  \n",
       "0  ...  30.4  53.9  44.6  32.7  36.2   71.7   8.6         2ND   1.0  2016  \n",
       "1  ...  30.0  57.4  44.1  36.2  33.9   66.7   8.9   Champions   2.0  2016  \n",
       "2  ...  26.0  52.9  46.5  37.4  36.9   65.5   2.3          E8   6.0  2016  \n",
       "3  ...  33.4  52.6  46.3  40.3  34.7   61.9   8.6          E8   1.0  2016  \n",
       "4  ...  37.3  52.7  43.4  41.3  32.5   70.1  11.6          E8   1.0  2016  \n",
       "\n",
       "[5 rows x 24 columns]"
      ]
     },
     "execution_count": 2,
     "metadata": {},
     "output_type": "execute_result"
    }
   ],
   "source": [
    "df = pd.read_csv('https://cf-courses-data.s3.us.cloud-object-storage.appdomain.cloud/IBMDeveloperSkillsNetwork-ML0101EN-SkillsNetwork/labs/Module%206/cbb.csv')\n",
    "df.head()"
   ]
  },
  {
   "cell_type": "code",
   "execution_count": 3,
   "metadata": {},
   "outputs": [
    {
     "data": {
      "text/plain": [
       "(1406, 24)"
      ]
     },
     "execution_count": 3,
     "metadata": {},
     "output_type": "execute_result"
    }
   ],
   "source": [
    "df.shape"
   ]
  },
  {
   "cell_type": "markdown",
   "metadata": {},
   "source": [
    "## Add Column\n",
    "\n",
    "Next we'll add a column that will contain \"true\" if the wins above bubble are over 7 and \"false\" if not. We'll call this column Win Index or \"windex\" for short.\n"
   ]
  },
  {
   "cell_type": "markdown",
   "metadata": {},
   "source": [
    "**Original IBM assignment had neglected to include 2nd and champions in the F4 class. Below we fix it**"
   ]
  },
  {
   "cell_type": "code",
   "execution_count": 4,
   "metadata": {},
   "outputs": [
    {
     "data": {
      "text/html": [
       "<div>\n",
       "<style scoped>\n",
       "    .dataframe tbody tr th:only-of-type {\n",
       "        vertical-align: middle;\n",
       "    }\n",
       "\n",
       "    .dataframe tbody tr th {\n",
       "        vertical-align: top;\n",
       "    }\n",
       "\n",
       "    .dataframe thead th {\n",
       "        text-align: right;\n",
       "    }\n",
       "</style>\n",
       "<table border=\"1\" class=\"dataframe\">\n",
       "  <thead>\n",
       "    <tr style=\"text-align: right;\">\n",
       "      <th></th>\n",
       "      <th>TEAM</th>\n",
       "      <th>CONF</th>\n",
       "      <th>G</th>\n",
       "      <th>W</th>\n",
       "      <th>ADJOE</th>\n",
       "      <th>ADJDE</th>\n",
       "      <th>BARTHAG</th>\n",
       "      <th>EFG_O</th>\n",
       "      <th>EFG_D</th>\n",
       "      <th>TOR</th>\n",
       "      <th>...</th>\n",
       "      <th>2P_O</th>\n",
       "      <th>2P_D</th>\n",
       "      <th>3P_O</th>\n",
       "      <th>3P_D</th>\n",
       "      <th>ADJ_T</th>\n",
       "      <th>WAB</th>\n",
       "      <th>POSTSEASON</th>\n",
       "      <th>SEED</th>\n",
       "      <th>YEAR</th>\n",
       "      <th>windex</th>\n",
       "    </tr>\n",
       "  </thead>\n",
       "  <tbody>\n",
       "    <tr>\n",
       "      <th>0</th>\n",
       "      <td>North Carolina</td>\n",
       "      <td>ACC</td>\n",
       "      <td>40</td>\n",
       "      <td>33</td>\n",
       "      <td>123.3</td>\n",
       "      <td>94.9</td>\n",
       "      <td>0.9531</td>\n",
       "      <td>52.6</td>\n",
       "      <td>48.1</td>\n",
       "      <td>15.4</td>\n",
       "      <td>...</td>\n",
       "      <td>53.9</td>\n",
       "      <td>44.6</td>\n",
       "      <td>32.7</td>\n",
       "      <td>36.2</td>\n",
       "      <td>71.7</td>\n",
       "      <td>8.6</td>\n",
       "      <td>F4</td>\n",
       "      <td>1.0</td>\n",
       "      <td>2016</td>\n",
       "      <td>True</td>\n",
       "    </tr>\n",
       "    <tr>\n",
       "      <th>1</th>\n",
       "      <td>Villanova</td>\n",
       "      <td>BE</td>\n",
       "      <td>40</td>\n",
       "      <td>35</td>\n",
       "      <td>123.1</td>\n",
       "      <td>90.9</td>\n",
       "      <td>0.9703</td>\n",
       "      <td>56.1</td>\n",
       "      <td>46.7</td>\n",
       "      <td>16.3</td>\n",
       "      <td>...</td>\n",
       "      <td>57.4</td>\n",
       "      <td>44.1</td>\n",
       "      <td>36.2</td>\n",
       "      <td>33.9</td>\n",
       "      <td>66.7</td>\n",
       "      <td>8.9</td>\n",
       "      <td>F4</td>\n",
       "      <td>2.0</td>\n",
       "      <td>2016</td>\n",
       "      <td>True</td>\n",
       "    </tr>\n",
       "    <tr>\n",
       "      <th>2</th>\n",
       "      <td>Notre Dame</td>\n",
       "      <td>ACC</td>\n",
       "      <td>36</td>\n",
       "      <td>24</td>\n",
       "      <td>118.3</td>\n",
       "      <td>103.3</td>\n",
       "      <td>0.8269</td>\n",
       "      <td>54.0</td>\n",
       "      <td>49.5</td>\n",
       "      <td>15.3</td>\n",
       "      <td>...</td>\n",
       "      <td>52.9</td>\n",
       "      <td>46.5</td>\n",
       "      <td>37.4</td>\n",
       "      <td>36.9</td>\n",
       "      <td>65.5</td>\n",
       "      <td>2.3</td>\n",
       "      <td>E8</td>\n",
       "      <td>6.0</td>\n",
       "      <td>2016</td>\n",
       "      <td>False</td>\n",
       "    </tr>\n",
       "    <tr>\n",
       "      <th>3</th>\n",
       "      <td>Virginia</td>\n",
       "      <td>ACC</td>\n",
       "      <td>37</td>\n",
       "      <td>29</td>\n",
       "      <td>119.9</td>\n",
       "      <td>91.0</td>\n",
       "      <td>0.9600</td>\n",
       "      <td>54.8</td>\n",
       "      <td>48.4</td>\n",
       "      <td>15.1</td>\n",
       "      <td>...</td>\n",
       "      <td>52.6</td>\n",
       "      <td>46.3</td>\n",
       "      <td>40.3</td>\n",
       "      <td>34.7</td>\n",
       "      <td>61.9</td>\n",
       "      <td>8.6</td>\n",
       "      <td>E8</td>\n",
       "      <td>1.0</td>\n",
       "      <td>2016</td>\n",
       "      <td>True</td>\n",
       "    </tr>\n",
       "    <tr>\n",
       "      <th>4</th>\n",
       "      <td>Kansas</td>\n",
       "      <td>B12</td>\n",
       "      <td>37</td>\n",
       "      <td>32</td>\n",
       "      <td>120.9</td>\n",
       "      <td>90.4</td>\n",
       "      <td>0.9662</td>\n",
       "      <td>55.7</td>\n",
       "      <td>45.1</td>\n",
       "      <td>17.8</td>\n",
       "      <td>...</td>\n",
       "      <td>52.7</td>\n",
       "      <td>43.4</td>\n",
       "      <td>41.3</td>\n",
       "      <td>32.5</td>\n",
       "      <td>70.1</td>\n",
       "      <td>11.6</td>\n",
       "      <td>E8</td>\n",
       "      <td>1.0</td>\n",
       "      <td>2016</td>\n",
       "      <td>True</td>\n",
       "    </tr>\n",
       "    <tr>\n",
       "      <th>5</th>\n",
       "      <td>Oregon</td>\n",
       "      <td>P12</td>\n",
       "      <td>37</td>\n",
       "      <td>30</td>\n",
       "      <td>118.4</td>\n",
       "      <td>96.2</td>\n",
       "      <td>0.9163</td>\n",
       "      <td>52.3</td>\n",
       "      <td>48.9</td>\n",
       "      <td>16.1</td>\n",
       "      <td>...</td>\n",
       "      <td>52.6</td>\n",
       "      <td>46.1</td>\n",
       "      <td>34.4</td>\n",
       "      <td>36.2</td>\n",
       "      <td>69.0</td>\n",
       "      <td>6.7</td>\n",
       "      <td>E8</td>\n",
       "      <td>1.0</td>\n",
       "      <td>2016</td>\n",
       "      <td>False</td>\n",
       "    </tr>\n",
       "    <tr>\n",
       "      <th>6</th>\n",
       "      <td>Syracuse</td>\n",
       "      <td>ACC</td>\n",
       "      <td>37</td>\n",
       "      <td>23</td>\n",
       "      <td>111.9</td>\n",
       "      <td>93.6</td>\n",
       "      <td>0.8857</td>\n",
       "      <td>50.0</td>\n",
       "      <td>47.3</td>\n",
       "      <td>18.1</td>\n",
       "      <td>...</td>\n",
       "      <td>47.2</td>\n",
       "      <td>48.1</td>\n",
       "      <td>36.0</td>\n",
       "      <td>30.7</td>\n",
       "      <td>65.5</td>\n",
       "      <td>-0.3</td>\n",
       "      <td>F4</td>\n",
       "      <td>10.0</td>\n",
       "      <td>2016</td>\n",
       "      <td>False</td>\n",
       "    </tr>\n",
       "    <tr>\n",
       "      <th>7</th>\n",
       "      <td>Oklahoma</td>\n",
       "      <td>B12</td>\n",
       "      <td>37</td>\n",
       "      <td>29</td>\n",
       "      <td>118.2</td>\n",
       "      <td>94.1</td>\n",
       "      <td>0.9326</td>\n",
       "      <td>54.3</td>\n",
       "      <td>47.2</td>\n",
       "      <td>18.3</td>\n",
       "      <td>...</td>\n",
       "      <td>48.2</td>\n",
       "      <td>45.3</td>\n",
       "      <td>42.2</td>\n",
       "      <td>33.7</td>\n",
       "      <td>70.8</td>\n",
       "      <td>8.0</td>\n",
       "      <td>F4</td>\n",
       "      <td>2.0</td>\n",
       "      <td>2016</td>\n",
       "      <td>True</td>\n",
       "    </tr>\n",
       "    <tr>\n",
       "      <th>8</th>\n",
       "      <td>Davidson</td>\n",
       "      <td>A10</td>\n",
       "      <td>32</td>\n",
       "      <td>19</td>\n",
       "      <td>113.0</td>\n",
       "      <td>106.0</td>\n",
       "      <td>0.6767</td>\n",
       "      <td>52.0</td>\n",
       "      <td>52.0</td>\n",
       "      <td>14.2</td>\n",
       "      <td>...</td>\n",
       "      <td>51.1</td>\n",
       "      <td>52.2</td>\n",
       "      <td>35.5</td>\n",
       "      <td>34.3</td>\n",
       "      <td>71.3</td>\n",
       "      <td>-2.1</td>\n",
       "      <td>NaN</td>\n",
       "      <td>NaN</td>\n",
       "      <td>2016</td>\n",
       "      <td>False</td>\n",
       "    </tr>\n",
       "    <tr>\n",
       "      <th>9</th>\n",
       "      <td>Duquesne</td>\n",
       "      <td>A10</td>\n",
       "      <td>33</td>\n",
       "      <td>16</td>\n",
       "      <td>108.2</td>\n",
       "      <td>105.1</td>\n",
       "      <td>0.5851</td>\n",
       "      <td>53.9</td>\n",
       "      <td>49.4</td>\n",
       "      <td>18.9</td>\n",
       "      <td>...</td>\n",
       "      <td>53.1</td>\n",
       "      <td>42.8</td>\n",
       "      <td>36.6</td>\n",
       "      <td>40.2</td>\n",
       "      <td>73.6</td>\n",
       "      <td>-7.8</td>\n",
       "      <td>NaN</td>\n",
       "      <td>NaN</td>\n",
       "      <td>2016</td>\n",
       "      <td>False</td>\n",
       "    </tr>\n",
       "    <tr>\n",
       "      <th>10</th>\n",
       "      <td>Fordham</td>\n",
       "      <td>A10</td>\n",
       "      <td>30</td>\n",
       "      <td>16</td>\n",
       "      <td>101.8</td>\n",
       "      <td>100.4</td>\n",
       "      <td>0.5388</td>\n",
       "      <td>51.5</td>\n",
       "      <td>51.4</td>\n",
       "      <td>20.4</td>\n",
       "      <td>...</td>\n",
       "      <td>51.2</td>\n",
       "      <td>52.3</td>\n",
       "      <td>34.6</td>\n",
       "      <td>33.4</td>\n",
       "      <td>67.5</td>\n",
       "      <td>-6.0</td>\n",
       "      <td>NaN</td>\n",
       "      <td>NaN</td>\n",
       "      <td>2016</td>\n",
       "      <td>False</td>\n",
       "    </tr>\n",
       "    <tr>\n",
       "      <th>11</th>\n",
       "      <td>George Mason</td>\n",
       "      <td>A10</td>\n",
       "      <td>32</td>\n",
       "      <td>11</td>\n",
       "      <td>101.4</td>\n",
       "      <td>103.1</td>\n",
       "      <td>0.4507</td>\n",
       "      <td>45.1</td>\n",
       "      <td>48.4</td>\n",
       "      <td>18.6</td>\n",
       "      <td>...</td>\n",
       "      <td>45.7</td>\n",
       "      <td>46.0</td>\n",
       "      <td>29.2</td>\n",
       "      <td>35.3</td>\n",
       "      <td>68.6</td>\n",
       "      <td>-11.6</td>\n",
       "      <td>NaN</td>\n",
       "      <td>NaN</td>\n",
       "      <td>2016</td>\n",
       "      <td>False</td>\n",
       "    </tr>\n",
       "    <tr>\n",
       "      <th>12</th>\n",
       "      <td>George Washington</td>\n",
       "      <td>A10</td>\n",
       "      <td>38</td>\n",
       "      <td>28</td>\n",
       "      <td>114.9</td>\n",
       "      <td>99.1</td>\n",
       "      <td>0.8454</td>\n",
       "      <td>50.8</td>\n",
       "      <td>48.7</td>\n",
       "      <td>16.5</td>\n",
       "      <td>...</td>\n",
       "      <td>48.4</td>\n",
       "      <td>48.2</td>\n",
       "      <td>37.1</td>\n",
       "      <td>33.0</td>\n",
       "      <td>67.2</td>\n",
       "      <td>-0.8</td>\n",
       "      <td>NaN</td>\n",
       "      <td>NaN</td>\n",
       "      <td>2016</td>\n",
       "      <td>False</td>\n",
       "    </tr>\n",
       "    <tr>\n",
       "      <th>13</th>\n",
       "      <td>La Salle</td>\n",
       "      <td>A10</td>\n",
       "      <td>30</td>\n",
       "      <td>8</td>\n",
       "      <td>99.2</td>\n",
       "      <td>105.3</td>\n",
       "      <td>0.3358</td>\n",
       "      <td>47.7</td>\n",
       "      <td>53.3</td>\n",
       "      <td>18.8</td>\n",
       "      <td>...</td>\n",
       "      <td>45.4</td>\n",
       "      <td>51.1</td>\n",
       "      <td>33.6</td>\n",
       "      <td>38.1</td>\n",
       "      <td>67.0</td>\n",
       "      <td>-12.6</td>\n",
       "      <td>NaN</td>\n",
       "      <td>NaN</td>\n",
       "      <td>2016</td>\n",
       "      <td>False</td>\n",
       "    </tr>\n",
       "    <tr>\n",
       "      <th>14</th>\n",
       "      <td>Massachusetts</td>\n",
       "      <td>A10</td>\n",
       "      <td>32</td>\n",
       "      <td>14</td>\n",
       "      <td>102.1</td>\n",
       "      <td>100.7</td>\n",
       "      <td>0.5394</td>\n",
       "      <td>49.1</td>\n",
       "      <td>48.3</td>\n",
       "      <td>17.5</td>\n",
       "      <td>...</td>\n",
       "      <td>48.8</td>\n",
       "      <td>49.0</td>\n",
       "      <td>33.0</td>\n",
       "      <td>31.3</td>\n",
       "      <td>71.6</td>\n",
       "      <td>-8.7</td>\n",
       "      <td>NaN</td>\n",
       "      <td>NaN</td>\n",
       "      <td>2016</td>\n",
       "      <td>False</td>\n",
       "    </tr>\n",
       "  </tbody>\n",
       "</table>\n",
       "<p>15 rows × 25 columns</p>\n",
       "</div>"
      ],
      "text/plain": [
       "                 TEAM CONF   G   W  ADJOE  ADJDE  BARTHAG  EFG_O  EFG_D   TOR  \\\n",
       "0      North Carolina  ACC  40  33  123.3   94.9   0.9531   52.6   48.1  15.4   \n",
       "1           Villanova   BE  40  35  123.1   90.9   0.9703   56.1   46.7  16.3   \n",
       "2          Notre Dame  ACC  36  24  118.3  103.3   0.8269   54.0   49.5  15.3   \n",
       "3            Virginia  ACC  37  29  119.9   91.0   0.9600   54.8   48.4  15.1   \n",
       "4              Kansas  B12  37  32  120.9   90.4   0.9662   55.7   45.1  17.8   \n",
       "5              Oregon  P12  37  30  118.4   96.2   0.9163   52.3   48.9  16.1   \n",
       "6            Syracuse  ACC  37  23  111.9   93.6   0.8857   50.0   47.3  18.1   \n",
       "7            Oklahoma  B12  37  29  118.2   94.1   0.9326   54.3   47.2  18.3   \n",
       "8            Davidson  A10  32  19  113.0  106.0   0.6767   52.0   52.0  14.2   \n",
       "9            Duquesne  A10  33  16  108.2  105.1   0.5851   53.9   49.4  18.9   \n",
       "10            Fordham  A10  30  16  101.8  100.4   0.5388   51.5   51.4  20.4   \n",
       "11       George Mason  A10  32  11  101.4  103.1   0.4507   45.1   48.4  18.6   \n",
       "12  George Washington  A10  38  28  114.9   99.1   0.8454   50.8   48.7  16.5   \n",
       "13           La Salle  A10  30   8   99.2  105.3   0.3358   47.7   53.3  18.8   \n",
       "14      Massachusetts  A10  32  14  102.1  100.7   0.5394   49.1   48.3  17.5   \n",
       "\n",
       "    ...  2P_O  2P_D  3P_O  3P_D  ADJ_T   WAB  POSTSEASON  SEED  YEAR  windex  \n",
       "0   ...  53.9  44.6  32.7  36.2   71.7   8.6          F4   1.0  2016    True  \n",
       "1   ...  57.4  44.1  36.2  33.9   66.7   8.9          F4   2.0  2016    True  \n",
       "2   ...  52.9  46.5  37.4  36.9   65.5   2.3          E8   6.0  2016   False  \n",
       "3   ...  52.6  46.3  40.3  34.7   61.9   8.6          E8   1.0  2016    True  \n",
       "4   ...  52.7  43.4  41.3  32.5   70.1  11.6          E8   1.0  2016    True  \n",
       "5   ...  52.6  46.1  34.4  36.2   69.0   6.7          E8   1.0  2016   False  \n",
       "6   ...  47.2  48.1  36.0  30.7   65.5  -0.3          F4  10.0  2016   False  \n",
       "7   ...  48.2  45.3  42.2  33.7   70.8   8.0          F4   2.0  2016    True  \n",
       "8   ...  51.1  52.2  35.5  34.3   71.3  -2.1         NaN   NaN  2016   False  \n",
       "9   ...  53.1  42.8  36.6  40.2   73.6  -7.8         NaN   NaN  2016   False  \n",
       "10  ...  51.2  52.3  34.6  33.4   67.5  -6.0         NaN   NaN  2016   False  \n",
       "11  ...  45.7  46.0  29.2  35.3   68.6 -11.6         NaN   NaN  2016   False  \n",
       "12  ...  48.4  48.2  37.1  33.0   67.2  -0.8         NaN   NaN  2016   False  \n",
       "13  ...  45.4  51.1  33.6  38.1   67.0 -12.6         NaN   NaN  2016   False  \n",
       "14  ...  48.8  49.0  33.0  31.3   71.6  -8.7         NaN   NaN  2016   False  \n",
       "\n",
       "[15 rows x 25 columns]"
      ]
     },
     "execution_count": 4,
     "metadata": {},
     "output_type": "execute_result"
    }
   ],
   "source": [
    "df['windex'] = np.where(df.WAB > 7, 'True', 'False')\n",
    "#this is the correction\n",
    "df_new= df.replace({'POSTSEASON':['2ND', 'Champions']}, {'POSTSEASON':['F4', 'F4']})\n",
    "df_new.head(15)"
   ]
  },
  {
   "cell_type": "markdown",
   "metadata": {
    "button": false,
    "new_sheet": false,
    "run_control": {
     "read_only": false
    }
   },
   "source": [
    "# Data visualization and pre-processing\n"
   ]
  },
  {
   "cell_type": "markdown",
   "metadata": {
    "button": false,
    "new_sheet": false,
    "run_control": {
     "read_only": false
    }
   },
   "source": [
    "Next we'll filter the data set to the teams that made the Sweet Sixteen, the Elite Eight, and the Final Four in the post season. We'll also create a new dataframe that will hold the values with the new column.\n"
   ]
  },
  {
   "cell_type": "code",
   "execution_count": 5,
   "metadata": {},
   "outputs": [
    {
     "data": {
      "text/html": [
       "<div>\n",
       "<style scoped>\n",
       "    .dataframe tbody tr th:only-of-type {\n",
       "        vertical-align: middle;\n",
       "    }\n",
       "\n",
       "    .dataframe tbody tr th {\n",
       "        vertical-align: top;\n",
       "    }\n",
       "\n",
       "    .dataframe thead th {\n",
       "        text-align: right;\n",
       "    }\n",
       "</style>\n",
       "<table border=\"1\" class=\"dataframe\">\n",
       "  <thead>\n",
       "    <tr style=\"text-align: right;\">\n",
       "      <th></th>\n",
       "      <th>TEAM</th>\n",
       "      <th>CONF</th>\n",
       "      <th>G</th>\n",
       "      <th>W</th>\n",
       "      <th>ADJOE</th>\n",
       "      <th>ADJDE</th>\n",
       "      <th>BARTHAG</th>\n",
       "      <th>EFG_O</th>\n",
       "      <th>EFG_D</th>\n",
       "      <th>TOR</th>\n",
       "      <th>...</th>\n",
       "      <th>2P_O</th>\n",
       "      <th>2P_D</th>\n",
       "      <th>3P_O</th>\n",
       "      <th>3P_D</th>\n",
       "      <th>ADJ_T</th>\n",
       "      <th>WAB</th>\n",
       "      <th>POSTSEASON</th>\n",
       "      <th>SEED</th>\n",
       "      <th>YEAR</th>\n",
       "      <th>windex</th>\n",
       "    </tr>\n",
       "  </thead>\n",
       "  <tbody>\n",
       "    <tr>\n",
       "      <th>0</th>\n",
       "      <td>North Carolina</td>\n",
       "      <td>ACC</td>\n",
       "      <td>40</td>\n",
       "      <td>33</td>\n",
       "      <td>123.3</td>\n",
       "      <td>94.9</td>\n",
       "      <td>0.9531</td>\n",
       "      <td>52.6</td>\n",
       "      <td>48.1</td>\n",
       "      <td>15.4</td>\n",
       "      <td>...</td>\n",
       "      <td>53.9</td>\n",
       "      <td>44.6</td>\n",
       "      <td>32.7</td>\n",
       "      <td>36.2</td>\n",
       "      <td>71.7</td>\n",
       "      <td>8.6</td>\n",
       "      <td>F4</td>\n",
       "      <td>1.0</td>\n",
       "      <td>2016</td>\n",
       "      <td>True</td>\n",
       "    </tr>\n",
       "    <tr>\n",
       "      <th>1</th>\n",
       "      <td>Villanova</td>\n",
       "      <td>BE</td>\n",
       "      <td>40</td>\n",
       "      <td>35</td>\n",
       "      <td>123.1</td>\n",
       "      <td>90.9</td>\n",
       "      <td>0.9703</td>\n",
       "      <td>56.1</td>\n",
       "      <td>46.7</td>\n",
       "      <td>16.3</td>\n",
       "      <td>...</td>\n",
       "      <td>57.4</td>\n",
       "      <td>44.1</td>\n",
       "      <td>36.2</td>\n",
       "      <td>33.9</td>\n",
       "      <td>66.7</td>\n",
       "      <td>8.9</td>\n",
       "      <td>F4</td>\n",
       "      <td>2.0</td>\n",
       "      <td>2016</td>\n",
       "      <td>True</td>\n",
       "    </tr>\n",
       "    <tr>\n",
       "      <th>2</th>\n",
       "      <td>Notre Dame</td>\n",
       "      <td>ACC</td>\n",
       "      <td>36</td>\n",
       "      <td>24</td>\n",
       "      <td>118.3</td>\n",
       "      <td>103.3</td>\n",
       "      <td>0.8269</td>\n",
       "      <td>54.0</td>\n",
       "      <td>49.5</td>\n",
       "      <td>15.3</td>\n",
       "      <td>...</td>\n",
       "      <td>52.9</td>\n",
       "      <td>46.5</td>\n",
       "      <td>37.4</td>\n",
       "      <td>36.9</td>\n",
       "      <td>65.5</td>\n",
       "      <td>2.3</td>\n",
       "      <td>E8</td>\n",
       "      <td>6.0</td>\n",
       "      <td>2016</td>\n",
       "      <td>False</td>\n",
       "    </tr>\n",
       "    <tr>\n",
       "      <th>3</th>\n",
       "      <td>Virginia</td>\n",
       "      <td>ACC</td>\n",
       "      <td>37</td>\n",
       "      <td>29</td>\n",
       "      <td>119.9</td>\n",
       "      <td>91.0</td>\n",
       "      <td>0.9600</td>\n",
       "      <td>54.8</td>\n",
       "      <td>48.4</td>\n",
       "      <td>15.1</td>\n",
       "      <td>...</td>\n",
       "      <td>52.6</td>\n",
       "      <td>46.3</td>\n",
       "      <td>40.3</td>\n",
       "      <td>34.7</td>\n",
       "      <td>61.9</td>\n",
       "      <td>8.6</td>\n",
       "      <td>E8</td>\n",
       "      <td>1.0</td>\n",
       "      <td>2016</td>\n",
       "      <td>True</td>\n",
       "    </tr>\n",
       "    <tr>\n",
       "      <th>4</th>\n",
       "      <td>Kansas</td>\n",
       "      <td>B12</td>\n",
       "      <td>37</td>\n",
       "      <td>32</td>\n",
       "      <td>120.9</td>\n",
       "      <td>90.4</td>\n",
       "      <td>0.9662</td>\n",
       "      <td>55.7</td>\n",
       "      <td>45.1</td>\n",
       "      <td>17.8</td>\n",
       "      <td>...</td>\n",
       "      <td>52.7</td>\n",
       "      <td>43.4</td>\n",
       "      <td>41.3</td>\n",
       "      <td>32.5</td>\n",
       "      <td>70.1</td>\n",
       "      <td>11.6</td>\n",
       "      <td>E8</td>\n",
       "      <td>1.0</td>\n",
       "      <td>2016</td>\n",
       "      <td>True</td>\n",
       "    </tr>\n",
       "  </tbody>\n",
       "</table>\n",
       "<p>5 rows × 25 columns</p>\n",
       "</div>"
      ],
      "text/plain": [
       "             TEAM CONF   G   W  ADJOE  ADJDE  BARTHAG  EFG_O  EFG_D   TOR  \\\n",
       "0  North Carolina  ACC  40  33  123.3   94.9   0.9531   52.6   48.1  15.4   \n",
       "1       Villanova   BE  40  35  123.1   90.9   0.9703   56.1   46.7  16.3   \n",
       "2      Notre Dame  ACC  36  24  118.3  103.3   0.8269   54.0   49.5  15.3   \n",
       "3        Virginia  ACC  37  29  119.9   91.0   0.9600   54.8   48.4  15.1   \n",
       "4          Kansas  B12  37  32  120.9   90.4   0.9662   55.7   45.1  17.8   \n",
       "\n",
       "   ...  2P_O  2P_D  3P_O  3P_D  ADJ_T   WAB  POSTSEASON  SEED  YEAR  windex  \n",
       "0  ...  53.9  44.6  32.7  36.2   71.7   8.6          F4   1.0  2016    True  \n",
       "1  ...  57.4  44.1  36.2  33.9   66.7   8.9          F4   2.0  2016    True  \n",
       "2  ...  52.9  46.5  37.4  36.9   65.5   2.3          E8   6.0  2016   False  \n",
       "3  ...  52.6  46.3  40.3  34.7   61.9   8.6          E8   1.0  2016    True  \n",
       "4  ...  52.7  43.4  41.3  32.5   70.1  11.6          E8   1.0  2016    True  \n",
       "\n",
       "[5 rows x 25 columns]"
      ]
     },
     "execution_count": 5,
     "metadata": {},
     "output_type": "execute_result"
    }
   ],
   "source": [
    "df1 = df_new.loc[df_new['POSTSEASON'].str.contains('F4|S16|E8', na=False)] # USE OR OPERATOR, na=False does not fill missing values\n",
    "df1.head()"
   ]
  },
  {
   "cell_type": "code",
   "execution_count": 6,
   "metadata": {
    "button": false,
    "new_sheet": false,
    "run_control": {
     "read_only": false
    }
   },
   "outputs": [
    {
     "data": {
      "text/plain": [
       "S16    32\n",
       "F4     16\n",
       "E8     16\n",
       "Name: POSTSEASON, dtype: int64"
      ]
     },
     "execution_count": 6,
     "metadata": {},
     "output_type": "execute_result"
    }
   ],
   "source": [
    "df1['POSTSEASON'].value_counts()"
   ]
  },
  {
   "cell_type": "markdown",
   "metadata": {
    "button": false,
    "new_sheet": false,
    "run_control": {
     "read_only": false
    }
   },
   "source": [
    "32 teams made it into the Sweet Sixteen, 16 into the Elite Eight, and 8 made it into the Final Four over 5 seasons.\n"
   ]
  },
  {
   "cell_type": "markdown",
   "metadata": {},
   "source": [
    "Lets plot some columns to underestand data better:\n"
   ]
  },
  {
   "cell_type": "code",
   "execution_count": 7,
   "metadata": {},
   "outputs": [
    {
     "name": "stdout",
     "output_type": "stream",
     "text": [
      "Requirement already satisfied: seaborn in /Users/macuser/opt/anaconda3/lib/python3.8/site-packages (0.11.1)\n",
      "Requirement already satisfied: scipy>=1.0 in /Users/macuser/opt/anaconda3/lib/python3.8/site-packages (from seaborn) (1.6.2)\n",
      "Requirement already satisfied: matplotlib>=2.2 in /Users/macuser/opt/anaconda3/lib/python3.8/site-packages (from seaborn) (3.1.3)\n",
      "Requirement already satisfied: pandas>=0.23 in /Users/macuser/opt/anaconda3/lib/python3.8/site-packages (from seaborn) (1.2.4)\n",
      "Requirement already satisfied: numpy>=1.15 in /Users/macuser/opt/anaconda3/lib/python3.8/site-packages (from seaborn) (1.20.1)\n",
      "Requirement already satisfied: pyparsing!=2.0.4,!=2.1.2,!=2.1.6,>=2.0.1 in /Users/macuser/opt/anaconda3/lib/python3.8/site-packages (from matplotlib>=2.2->seaborn) (2.4.7)\n",
      "Requirement already satisfied: python-dateutil>=2.1 in /Users/macuser/opt/anaconda3/lib/python3.8/site-packages (from matplotlib>=2.2->seaborn) (2.8.1)\n",
      "Requirement already satisfied: kiwisolver>=1.0.1 in /Users/macuser/opt/anaconda3/lib/python3.8/site-packages (from matplotlib>=2.2->seaborn) (1.3.1)\n",
      "Requirement already satisfied: cycler>=0.10 in /Users/macuser/opt/anaconda3/lib/python3.8/site-packages (from matplotlib>=2.2->seaborn) (0.10.0)\n",
      "Requirement already satisfied: six in /Users/macuser/opt/anaconda3/lib/python3.8/site-packages (from cycler>=0.10->matplotlib>=2.2->seaborn) (1.15.0)\n",
      "Requirement already satisfied: pytz>=2017.3 in /Users/macuser/opt/anaconda3/lib/python3.8/site-packages (from pandas>=0.23->seaborn) (2021.1)\n",
      "Requirement already satisfied: matplotlib==3.1.3 in /Users/macuser/opt/anaconda3/lib/python3.8/site-packages (3.1.3)\n",
      "Requirement already satisfied: numpy>=1.11 in /Users/macuser/opt/anaconda3/lib/python3.8/site-packages (from matplotlib==3.1.3) (1.20.1)\n",
      "Requirement already satisfied: pyparsing!=2.0.4,!=2.1.2,!=2.1.6,>=2.0.1 in /Users/macuser/opt/anaconda3/lib/python3.8/site-packages (from matplotlib==3.1.3) (2.4.7)\n",
      "Requirement already satisfied: cycler>=0.10 in /Users/macuser/opt/anaconda3/lib/python3.8/site-packages (from matplotlib==3.1.3) (0.10.0)\n",
      "Requirement already satisfied: python-dateutil>=2.1 in /Users/macuser/opt/anaconda3/lib/python3.8/site-packages (from matplotlib==3.1.3) (2.8.1)\n",
      "Requirement already satisfied: kiwisolver>=1.0.1 in /Users/macuser/opt/anaconda3/lib/python3.8/site-packages (from matplotlib==3.1.3) (1.3.1)\n",
      "Requirement already satisfied: six in /Users/macuser/opt/anaconda3/lib/python3.8/site-packages (from cycler>=0.10->matplotlib==3.1.3) (1.15.0)\n"
     ]
    }
   ],
   "source": [
    "# notice: installing seaborn might takes a few minutes\n",
    "#!conda install -c anaconda seaborn -y\n",
    "!pip install seaborn\n",
    "!pip install matplotlib==3.1.3\n",
    "import seaborn as sns"
   ]
  },
  {
   "cell_type": "code",
   "execution_count": 8,
   "metadata": {},
   "outputs": [
    {
     "data": {
      "image/png": "[encoded data removed]",
      "text/plain": [
       "<Figure size 1296x216 with 2 Axes>"
      ]
     },
     "metadata": {
      "needs_background": "light"
     },
     "output_type": "display_data"
    }
   ],
   "source": [
    "\n",
    "\n",
    "bins = np.linspace(df1.BARTHAG.min(), df1.BARTHAG.max(), 10)    #create aray of numbers\n",
    "g = sns.FacetGrid(df1, col=\"windex\", hue=\"POSTSEASON\", palette=\"Set1\", col_wrap=6)\n",
    "g.map(plt.hist, 'BARTHAG', bins=bins, ec=\"k\")\n",
    "\n",
    "g.axes[-1].legend()\n",
    "plt.show()"
   ]
  },
  {
   "cell_type": "code",
   "execution_count": 9,
   "metadata": {
    "button": false,
    "new_sheet": false,
    "run_control": {
     "read_only": false
    }
   },
   "outputs": [
    {
     "data": {
      "image/png": "[encoded data removed]",
      "text/plain": [
       "<Figure size 432x216 with 2 Axes>"
      ]
     },
     "metadata": {
      "needs_background": "light"
     },
     "output_type": "display_data"
    }
   ],
   "source": [
    "bins = np.linspace(df1.ADJOE.min(), df1.ADJOE.max(), 10)\n",
    "g = sns.FacetGrid(df1, col=\"windex\", hue=\"POSTSEASON\", palette=\"Set1\", col_wrap=2)\n",
    "g.map(plt.hist, 'ADJOE', bins=bins, ec=\"k\")\n",
    "\n",
    "g.axes[-1].legend()\n",
    "plt.show()"
   ]
  },
  {
   "cell_type": "markdown",
   "metadata": {},
   "source": [
    "**Offensive efficiency seems to play a role**"
   ]
  },
  {
   "cell_type": "markdown",
   "metadata": {
    "button": false,
    "new_sheet": false,
    "run_control": {
     "read_only": false
    }
   },
   "source": [
    "# Pre-processing:  Feature selection/extraction\n"
   ]
  },
  {
   "cell_type": "markdown",
   "metadata": {
    "button": false,
    "new_sheet": false,
    "run_control": {
     "read_only": false
    }
   },
   "source": [
    "### Lets look at how Adjusted Defense Efficiency plots\n"
   ]
  },
  {
   "cell_type": "code",
   "execution_count": 10,
   "metadata": {
    "button": false,
    "new_sheet": false,
    "run_control": {
     "read_only": false
    }
   },
   "outputs": [
    {
     "data": {
      "image/png": "[encoded data removed]",
      "text/plain": [
       "<Figure size 432x216 with 2 Axes>"
      ]
     },
     "metadata": {
      "needs_background": "light"
     },
     "output_type": "display_data"
    }
   ],
   "source": [
    "bins = np.linspace(df1.ADJDE.min(), df1.ADJDE.max(), 10)\n",
    "g = sns.FacetGrid(df1, col=\"windex\", hue=\"POSTSEASON\", palette=\"Set1\", col_wrap=2)\n",
    "g.map(plt.hist, 'ADJDE', bins=bins, ec=\"k\")\n",
    "g.axes[-1].legend()\n",
    "plt.show()\n"
   ]
  },
  {
   "cell_type": "markdown",
   "metadata": {
    "button": false,
    "new_sheet": false,
    "run_control": {
     "read_only": false
    }
   },
   "source": [
    "We see that this data point doesn't impact the ability of a team to get into the Final Four.\n"
   ]
  },
  {
   "cell_type": "markdown",
   "metadata": {
    "button": false,
    "new_sheet": false,
    "run_control": {
     "read_only": false
    }
   },
   "source": [
    "## Convert Categorical features to numerical values\n"
   ]
  },
  {
   "cell_type": "markdown",
   "metadata": {
    "button": false,
    "new_sheet": false,
    "run_control": {
     "read_only": false
    }
   },
   "source": [
    "Lets look at the postseason:\n"
   ]
  },
  {
   "cell_type": "code",
   "execution_count": 11,
   "metadata": {
    "button": false,
    "new_sheet": false,
    "run_control": {
     "read_only": false
    }
   },
   "outputs": [
    {
     "data": {
      "text/plain": [
       "windex  POSTSEASON\n",
       "False   S16           0.575\n",
       "        E8            0.250\n",
       "        F4            0.175\n",
       "True    F4            0.375\n",
       "        S16           0.375\n",
       "        E8            0.250\n",
       "Name: POSTSEASON, dtype: float64"
      ]
     },
     "execution_count": 11,
     "metadata": {},
     "output_type": "execute_result"
    }
   ],
   "source": [
    "df1.groupby(['windex'])['POSTSEASON'].value_counts(normalize=True)"
   ]
  },
  {
   "cell_type": "markdown",
   "metadata": {
    "button": false,
    "new_sheet": false,
    "run_control": {
     "read_only": false
    }
   },
   "source": [
    "13% of teams with 6 or less wins above bubble make it into the final four while 17% of teams with 7 or more do.\n",
    "**correction: including 2nd and champions we see that windex play role, there is 37.5% with 6 or more wins vs 17.5%  with less than 6 wins\n",
    "we will continue nevertheless classification with  all features of original project**\n"
   ]
  },
  {
   "cell_type": "markdown",
   "metadata": {
    "button": false,
    "new_sheet": false,
    "run_control": {
     "read_only": false
    }
   },
   "source": [
    "Lets convert wins above bubble (winindex) under 7 to 0 and over 7 to 1:\n"
   ]
  },
  {
   "cell_type": "code",
   "execution_count": 12,
   "metadata": {
    "button": false,
    "new_sheet": false,
    "run_control": {
     "read_only": false
    }
   },
   "outputs": [
    {
     "name": "stderr",
     "output_type": "stream",
     "text": [
      "/Users/macuser/opt/anaconda3/lib/python3.8/site-packages/pandas/core/series.py:4509: SettingWithCopyWarning: \n",
      "A value is trying to be set on a copy of a slice from a DataFrame\n",
      "\n",
      "See the caveats in the documentation: https://pandas.pydata.org/pandas-docs/stable/user_guide/indexing.html#returning-a-view-versus-a-copy\n",
      "  return super().replace(\n"
     ]
    },
    {
     "data": {
      "text/html": [
       "<div>\n",
       "<style scoped>\n",
       "    .dataframe tbody tr th:only-of-type {\n",
       "        vertical-align: middle;\n",
       "    }\n",
       "\n",
       "    .dataframe tbody tr th {\n",
       "        vertical-align: top;\n",
       "    }\n",
       "\n",
       "    .dataframe thead th {\n",
       "        text-align: right;\n",
       "    }\n",
       "</style>\n",
       "<table border=\"1\" class=\"dataframe\">\n",
       "  <thead>\n",
       "    <tr style=\"text-align: right;\">\n",
       "      <th></th>\n",
       "      <th>TEAM</th>\n",
       "      <th>CONF</th>\n",
       "      <th>G</th>\n",
       "      <th>W</th>\n",
       "      <th>ADJOE</th>\n",
       "      <th>ADJDE</th>\n",
       "      <th>BARTHAG</th>\n",
       "      <th>EFG_O</th>\n",
       "      <th>EFG_D</th>\n",
       "      <th>TOR</th>\n",
       "      <th>...</th>\n",
       "      <th>2P_O</th>\n",
       "      <th>2P_D</th>\n",
       "      <th>3P_O</th>\n",
       "      <th>3P_D</th>\n",
       "      <th>ADJ_T</th>\n",
       "      <th>WAB</th>\n",
       "      <th>POSTSEASON</th>\n",
       "      <th>SEED</th>\n",
       "      <th>YEAR</th>\n",
       "      <th>windex</th>\n",
       "    </tr>\n",
       "  </thead>\n",
       "  <tbody>\n",
       "    <tr>\n",
       "      <th>0</th>\n",
       "      <td>North Carolina</td>\n",
       "      <td>ACC</td>\n",
       "      <td>40</td>\n",
       "      <td>33</td>\n",
       "      <td>123.3</td>\n",
       "      <td>94.9</td>\n",
       "      <td>0.9531</td>\n",
       "      <td>52.6</td>\n",
       "      <td>48.1</td>\n",
       "      <td>15.4</td>\n",
       "      <td>...</td>\n",
       "      <td>53.9</td>\n",
       "      <td>44.6</td>\n",
       "      <td>32.7</td>\n",
       "      <td>36.2</td>\n",
       "      <td>71.7</td>\n",
       "      <td>8.6</td>\n",
       "      <td>F4</td>\n",
       "      <td>1.0</td>\n",
       "      <td>2016</td>\n",
       "      <td>1</td>\n",
       "    </tr>\n",
       "    <tr>\n",
       "      <th>1</th>\n",
       "      <td>Villanova</td>\n",
       "      <td>BE</td>\n",
       "      <td>40</td>\n",
       "      <td>35</td>\n",
       "      <td>123.1</td>\n",
       "      <td>90.9</td>\n",
       "      <td>0.9703</td>\n",
       "      <td>56.1</td>\n",
       "      <td>46.7</td>\n",
       "      <td>16.3</td>\n",
       "      <td>...</td>\n",
       "      <td>57.4</td>\n",
       "      <td>44.1</td>\n",
       "      <td>36.2</td>\n",
       "      <td>33.9</td>\n",
       "      <td>66.7</td>\n",
       "      <td>8.9</td>\n",
       "      <td>F4</td>\n",
       "      <td>2.0</td>\n",
       "      <td>2016</td>\n",
       "      <td>1</td>\n",
       "    </tr>\n",
       "    <tr>\n",
       "      <th>2</th>\n",
       "      <td>Notre Dame</td>\n",
       "      <td>ACC</td>\n",
       "      <td>36</td>\n",
       "      <td>24</td>\n",
       "      <td>118.3</td>\n",
       "      <td>103.3</td>\n",
       "      <td>0.8269</td>\n",
       "      <td>54.0</td>\n",
       "      <td>49.5</td>\n",
       "      <td>15.3</td>\n",
       "      <td>...</td>\n",
       "      <td>52.9</td>\n",
       "      <td>46.5</td>\n",
       "      <td>37.4</td>\n",
       "      <td>36.9</td>\n",
       "      <td>65.5</td>\n",
       "      <td>2.3</td>\n",
       "      <td>E8</td>\n",
       "      <td>6.0</td>\n",
       "      <td>2016</td>\n",
       "      <td>0</td>\n",
       "    </tr>\n",
       "    <tr>\n",
       "      <th>3</th>\n",
       "      <td>Virginia</td>\n",
       "      <td>ACC</td>\n",
       "      <td>37</td>\n",
       "      <td>29</td>\n",
       "      <td>119.9</td>\n",
       "      <td>91.0</td>\n",
       "      <td>0.9600</td>\n",
       "      <td>54.8</td>\n",
       "      <td>48.4</td>\n",
       "      <td>15.1</td>\n",
       "      <td>...</td>\n",
       "      <td>52.6</td>\n",
       "      <td>46.3</td>\n",
       "      <td>40.3</td>\n",
       "      <td>34.7</td>\n",
       "      <td>61.9</td>\n",
       "      <td>8.6</td>\n",
       "      <td>E8</td>\n",
       "      <td>1.0</td>\n",
       "      <td>2016</td>\n",
       "      <td>1</td>\n",
       "    </tr>\n",
       "    <tr>\n",
       "      <th>4</th>\n",
       "      <td>Kansas</td>\n",
       "      <td>B12</td>\n",
       "      <td>37</td>\n",
       "      <td>32</td>\n",
       "      <td>120.9</td>\n",
       "      <td>90.4</td>\n",
       "      <td>0.9662</td>\n",
       "      <td>55.7</td>\n",
       "      <td>45.1</td>\n",
       "      <td>17.8</td>\n",
       "      <td>...</td>\n",
       "      <td>52.7</td>\n",
       "      <td>43.4</td>\n",
       "      <td>41.3</td>\n",
       "      <td>32.5</td>\n",
       "      <td>70.1</td>\n",
       "      <td>11.6</td>\n",
       "      <td>E8</td>\n",
       "      <td>1.0</td>\n",
       "      <td>2016</td>\n",
       "      <td>1</td>\n",
       "    </tr>\n",
       "  </tbody>\n",
       "</table>\n",
       "<p>5 rows × 25 columns</p>\n",
       "</div>"
      ],
      "text/plain": [
       "             TEAM CONF   G   W  ADJOE  ADJDE  BARTHAG  EFG_O  EFG_D   TOR  \\\n",
       "0  North Carolina  ACC  40  33  123.3   94.9   0.9531   52.6   48.1  15.4   \n",
       "1       Villanova   BE  40  35  123.1   90.9   0.9703   56.1   46.7  16.3   \n",
       "2      Notre Dame  ACC  36  24  118.3  103.3   0.8269   54.0   49.5  15.3   \n",
       "3        Virginia  ACC  37  29  119.9   91.0   0.9600   54.8   48.4  15.1   \n",
       "4          Kansas  B12  37  32  120.9   90.4   0.9662   55.7   45.1  17.8   \n",
       "\n",
       "   ...  2P_O  2P_D  3P_O  3P_D  ADJ_T   WAB  POSTSEASON  SEED  YEAR  windex  \n",
       "0  ...  53.9  44.6  32.7  36.2   71.7   8.6          F4   1.0  2016       1  \n",
       "1  ...  57.4  44.1  36.2  33.9   66.7   8.9          F4   2.0  2016       1  \n",
       "2  ...  52.9  46.5  37.4  36.9   65.5   2.3          E8   6.0  2016       0  \n",
       "3  ...  52.6  46.3  40.3  34.7   61.9   8.6          E8   1.0  2016       1  \n",
       "4  ...  52.7  43.4  41.3  32.5   70.1  11.6          E8   1.0  2016       1  \n",
       "\n",
       "[5 rows x 25 columns]"
      ]
     },
     "execution_count": 12,
     "metadata": {},
     "output_type": "execute_result"
    }
   ],
   "source": [
    "df1['windex'].replace(to_replace=['False','True'], value=[0,1],inplace=True)\n",
    "df1.head()"
   ]
  },
  {
   "cell_type": "markdown",
   "metadata": {
    "button": false,
    "new_sheet": false,
    "run_control": {
     "read_only": false
    }
   },
   "source": [
    "### Feature selection\n"
   ]
  },
  {
   "cell_type": "markdown",
   "metadata": {
    "button": false,
    "new_sheet": false,
    "run_control": {
     "read_only": false
    }
   },
   "source": [
    "Lets defind feature sets, X:\n"
   ]
  },
  {
   "cell_type": "code",
   "execution_count": 13,
   "metadata": {
    "button": false,
    "new_sheet": false,
    "run_control": {
     "read_only": false
    }
   },
   "outputs": [
    {
     "data": {
      "text/html": [
       "<div>\n",
       "<style scoped>\n",
       "    .dataframe tbody tr th:only-of-type {\n",
       "        vertical-align: middle;\n",
       "    }\n",
       "\n",
       "    .dataframe tbody tr th {\n",
       "        vertical-align: top;\n",
       "    }\n",
       "\n",
       "    .dataframe thead th {\n",
       "        text-align: right;\n",
       "    }\n",
       "</style>\n",
       "<table border=\"1\" class=\"dataframe\">\n",
       "  <thead>\n",
       "    <tr style=\"text-align: right;\">\n",
       "      <th></th>\n",
       "      <th>G</th>\n",
       "      <th>W</th>\n",
       "      <th>ADJOE</th>\n",
       "      <th>ADJDE</th>\n",
       "      <th>BARTHAG</th>\n",
       "      <th>EFG_O</th>\n",
       "      <th>EFG_D</th>\n",
       "      <th>TOR</th>\n",
       "      <th>TORD</th>\n",
       "      <th>ORB</th>\n",
       "      <th>...</th>\n",
       "      <th>FTR</th>\n",
       "      <th>FTRD</th>\n",
       "      <th>2P_O</th>\n",
       "      <th>2P_D</th>\n",
       "      <th>3P_O</th>\n",
       "      <th>3P_D</th>\n",
       "      <th>ADJ_T</th>\n",
       "      <th>WAB</th>\n",
       "      <th>SEED</th>\n",
       "      <th>windex</th>\n",
       "    </tr>\n",
       "  </thead>\n",
       "  <tbody>\n",
       "    <tr>\n",
       "      <th>0</th>\n",
       "      <td>40</td>\n",
       "      <td>33</td>\n",
       "      <td>123.3</td>\n",
       "      <td>94.9</td>\n",
       "      <td>0.9531</td>\n",
       "      <td>52.6</td>\n",
       "      <td>48.1</td>\n",
       "      <td>15.4</td>\n",
       "      <td>18.2</td>\n",
       "      <td>40.7</td>\n",
       "      <td>...</td>\n",
       "      <td>32.3</td>\n",
       "      <td>30.4</td>\n",
       "      <td>53.9</td>\n",
       "      <td>44.6</td>\n",
       "      <td>32.7</td>\n",
       "      <td>36.2</td>\n",
       "      <td>71.7</td>\n",
       "      <td>8.6</td>\n",
       "      <td>1.0</td>\n",
       "      <td>1</td>\n",
       "    </tr>\n",
       "    <tr>\n",
       "      <th>1</th>\n",
       "      <td>40</td>\n",
       "      <td>35</td>\n",
       "      <td>123.1</td>\n",
       "      <td>90.9</td>\n",
       "      <td>0.9703</td>\n",
       "      <td>56.1</td>\n",
       "      <td>46.7</td>\n",
       "      <td>16.3</td>\n",
       "      <td>20.6</td>\n",
       "      <td>28.2</td>\n",
       "      <td>...</td>\n",
       "      <td>34.1</td>\n",
       "      <td>30.0</td>\n",
       "      <td>57.4</td>\n",
       "      <td>44.1</td>\n",
       "      <td>36.2</td>\n",
       "      <td>33.9</td>\n",
       "      <td>66.7</td>\n",
       "      <td>8.9</td>\n",
       "      <td>2.0</td>\n",
       "      <td>1</td>\n",
       "    </tr>\n",
       "    <tr>\n",
       "      <th>2</th>\n",
       "      <td>36</td>\n",
       "      <td>24</td>\n",
       "      <td>118.3</td>\n",
       "      <td>103.3</td>\n",
       "      <td>0.8269</td>\n",
       "      <td>54.0</td>\n",
       "      <td>49.5</td>\n",
       "      <td>15.3</td>\n",
       "      <td>14.8</td>\n",
       "      <td>32.7</td>\n",
       "      <td>...</td>\n",
       "      <td>32.9</td>\n",
       "      <td>26.0</td>\n",
       "      <td>52.9</td>\n",
       "      <td>46.5</td>\n",
       "      <td>37.4</td>\n",
       "      <td>36.9</td>\n",
       "      <td>65.5</td>\n",
       "      <td>2.3</td>\n",
       "      <td>6.0</td>\n",
       "      <td>0</td>\n",
       "    </tr>\n",
       "    <tr>\n",
       "      <th>3</th>\n",
       "      <td>37</td>\n",
       "      <td>29</td>\n",
       "      <td>119.9</td>\n",
       "      <td>91.0</td>\n",
       "      <td>0.9600</td>\n",
       "      <td>54.8</td>\n",
       "      <td>48.4</td>\n",
       "      <td>15.1</td>\n",
       "      <td>18.8</td>\n",
       "      <td>29.9</td>\n",
       "      <td>...</td>\n",
       "      <td>32.1</td>\n",
       "      <td>33.4</td>\n",
       "      <td>52.6</td>\n",
       "      <td>46.3</td>\n",
       "      <td>40.3</td>\n",
       "      <td>34.7</td>\n",
       "      <td>61.9</td>\n",
       "      <td>8.6</td>\n",
       "      <td>1.0</td>\n",
       "      <td>1</td>\n",
       "    </tr>\n",
       "    <tr>\n",
       "      <th>4</th>\n",
       "      <td>37</td>\n",
       "      <td>32</td>\n",
       "      <td>120.9</td>\n",
       "      <td>90.4</td>\n",
       "      <td>0.9662</td>\n",
       "      <td>55.7</td>\n",
       "      <td>45.1</td>\n",
       "      <td>17.8</td>\n",
       "      <td>18.5</td>\n",
       "      <td>32.2</td>\n",
       "      <td>...</td>\n",
       "      <td>38.6</td>\n",
       "      <td>37.3</td>\n",
       "      <td>52.7</td>\n",
       "      <td>43.4</td>\n",
       "      <td>41.3</td>\n",
       "      <td>32.5</td>\n",
       "      <td>70.1</td>\n",
       "      <td>11.6</td>\n",
       "      <td>1.0</td>\n",
       "      <td>1</td>\n",
       "    </tr>\n",
       "  </tbody>\n",
       "</table>\n",
       "<p>5 rows × 21 columns</p>\n",
       "</div>"
      ],
      "text/plain": [
       "    G   W  ADJOE  ADJDE  BARTHAG  EFG_O  EFG_D   TOR  TORD   ORB  ...   FTR  \\\n",
       "0  40  33  123.3   94.9   0.9531   52.6   48.1  15.4  18.2  40.7  ...  32.3   \n",
       "1  40  35  123.1   90.9   0.9703   56.1   46.7  16.3  20.6  28.2  ...  34.1   \n",
       "2  36  24  118.3  103.3   0.8269   54.0   49.5  15.3  14.8  32.7  ...  32.9   \n",
       "3  37  29  119.9   91.0   0.9600   54.8   48.4  15.1  18.8  29.9  ...  32.1   \n",
       "4  37  32  120.9   90.4   0.9662   55.7   45.1  17.8  18.5  32.2  ...  38.6   \n",
       "\n",
       "   FTRD  2P_O  2P_D  3P_O  3P_D  ADJ_T   WAB  SEED  windex  \n",
       "0  30.4  53.9  44.6  32.7  36.2   71.7   8.6   1.0       1  \n",
       "1  30.0  57.4  44.1  36.2  33.9   66.7   8.9   2.0       1  \n",
       "2  26.0  52.9  46.5  37.4  36.9   65.5   2.3   6.0       0  \n",
       "3  33.4  52.6  46.3  40.3  34.7   61.9   8.6   1.0       1  \n",
       "4  37.3  52.7  43.4  41.3  32.5   70.1  11.6   1.0       1  \n",
       "\n",
       "[5 rows x 21 columns]"
      ]
     },
     "execution_count": 13,
     "metadata": {},
     "output_type": "execute_result"
    }
   ],
   "source": [
    "X = df1[['G', 'W', 'ADJOE', 'ADJDE', 'BARTHAG', 'EFG_O', 'EFG_D',\n",
    "       'TOR', 'TORD', 'ORB', 'DRB', 'FTR', 'FTRD', '2P_O', '2P_D', '3P_O',\n",
    "       '3P_D', 'ADJ_T', 'WAB', 'SEED', 'windex']]\n",
    "X[0:5]"
   ]
  },
  {
   "cell_type": "markdown",
   "metadata": {
    "button": false,
    "new_sheet": false,
    "run_control": {
     "read_only": false
    }
   },
   "source": [
    "What are our lables? Round where the given team was eliminated or where their season ended (R68 = First Four, R64 = Round of 64, R32 = Round of 32, S16 = Sweet Sixteen, E8 = Elite Eight, F4 = Final Four, 2ND = Runner-up, Champion = Winner of the NCAA March Madness Tournament for that given year)|\n"
   ]
  },
  {
   "cell_type": "code",
   "execution_count": 14,
   "metadata": {
    "button": false,
    "new_sheet": false,
    "run_control": {
     "read_only": false
    }
   },
   "outputs": [
    {
     "data": {
      "text/plain": [
       "array(['F4', 'F4', 'E8', 'E8', 'E8'], dtype=object)"
      ]
     },
     "execution_count": 14,
     "metadata": {},
     "output_type": "execute_result"
    }
   ],
   "source": [
    "y = df1['POSTSEASON'].values\n",
    "y[0:5]"
   ]
  },
  {
   "cell_type": "markdown",
   "metadata": {
    "button": false,
    "new_sheet": false,
    "run_control": {
     "read_only": false
    }
   },
   "source": [
    "## Normalize Data\n"
   ]
  },
  {
   "cell_type": "markdown",
   "metadata": {
    "button": false,
    "new_sheet": false,
    "run_control": {
     "read_only": false
    }
   },
   "source": [
    "Data Standardization give data zero mean and unit variance (technically should be done after train test split )\n"
   ]
  },
  {
   "cell_type": "code",
   "execution_count": 15,
   "metadata": {
    "button": false,
    "new_sheet": false,
    "run_control": {
     "read_only": false
    }
   },
   "outputs": [
    {
     "data": {
      "text/plain": [
       "array([[ 2.14084339,  1.200327  ,  1.27099005,  0.36932205,  0.76705911,\n",
       "        -0.46974302,  0.30923174, -0.96858472, -0.30520594,  2.14127026,\n",
       "         0.60713448, -0.57909905, -0.00976731,  0.28066701, -0.69049988,\n",
       "        -1.58025802,  1.32656749,  1.0052157 ,  0.85148926, -1.03362279,\n",
       "         1.29099445],\n",
       "       [ 2.14084339,  1.75499074,  1.22685366, -0.75489252,  1.21828482,\n",
       "         0.8229159 , -0.35046264, -0.37945611,  0.73195407, -0.99095905,\n",
       "         0.37446019, -0.14250081, -0.09042637,  1.43848303, -0.895853  ,\n",
       "        -0.23022829,  0.35892262, -0.65887651,  0.94743171, -0.7028635 ,\n",
       "         1.29099445],\n",
       "       [-0.58580292, -1.29565983,  0.16758035,  2.73017266, -2.54367836,\n",
       "         0.04732055,  0.96892611, -1.03404346, -1.77451594,  0.1366435 ,\n",
       "         1.4214945 , -0.4335663 , -0.89701696, -0.05013757,  0.08984199,\n",
       "         0.23263905,  1.6210681 , -1.05825864, -1.16330223,  0.62017367,\n",
       "        -0.77459667],\n",
       "       [ 0.09585866,  0.09099952,  0.52067145, -0.72678716,  0.94807408,\n",
       "         0.34278545,  0.45059482, -1.16496093, -0.04591594, -0.56497586,\n",
       "        -1.25425985, -0.62760996,  0.59517564, -0.14937894,  0.00770074,\n",
       "         1.35123512,  0.69549475, -2.25640504,  0.85148926, -1.03362279,\n",
       "         1.29099445],\n",
       "       [ 0.09585866,  0.92299513,  0.74135339, -0.89541934,  1.1107252 ,\n",
       "         0.67518345, -1.10439907,  0.60242492, -0.17556094,  0.01135433,\n",
       "        -0.20722554,  0.94899478,  1.38160147, -0.11629848, -1.18334737,\n",
       "         1.7369579 , -0.2300786 ,  0.47270619,  1.81091378, -1.03362279,\n",
       "         1.29099445]])"
      ]
     },
     "execution_count": 15,
     "metadata": {},
     "output_type": "execute_result"
    }
   ],
   "source": [
    "X= preprocessing.StandardScaler().fit(X).transform(X)\n",
    "X[0:5]"
   ]
  },
  {
   "cell_type": "markdown",
   "metadata": {
    "button": false,
    "new_sheet": false,
    "run_control": {
     "read_only": false
    }
   },
   "source": [
    "## Training and Validation\n"
   ]
  },
  {
   "cell_type": "markdown",
   "metadata": {
    "button": false,
    "new_sheet": false,
    "run_control": {
     "read_only": false
    }
   },
   "source": [
    "Split the data into Training and Validation data.\n"
   ]
  },
  {
   "cell_type": "code",
   "execution_count": 16,
   "metadata": {
    "button": false,
    "new_sheet": false,
    "run_control": {
     "read_only": false
    }
   },
   "outputs": [
    {
     "name": "stdout",
     "output_type": "stream",
     "text": [
      "Train set: (51, 21) (51,)\n",
      "Validation set: (13, 21) (13,)\n"
     ]
    }
   ],
   "source": [
    "# We split the X into train and test to find the best k\n",
    "from sklearn.model_selection import train_test_split\n",
    "X_train, X_val, y_train, y_val = train_test_split(X, y, test_size=0.2, random_state=4)\n",
    "print ('Train set:', X_train.shape,  y_train.shape)\n",
    "print ('Validation set:', X_val.shape,  y_val.shape)"
   ]
  },
  {
   "cell_type": "markdown",
   "metadata": {
    "button": false,
    "new_sheet": false,
    "run_control": {
     "read_only": false
    }
   },
   "source": [
    "# Classification\n"
   ]
  },
  {
   "cell_type": "markdown",
   "metadata": {
    "button": false,
    "new_sheet": false,
    "run_control": {
     "read_only": false
    }
   },
   "source": [
    "Now, it is your turn, use the training set to build an accurate model. Then use the validation set  to report the accuracy of the model\n",
    "You should use the following algorithm:\n",
    "\n",
    "*   K Nearest Neighbor(KNN)\n",
    "*   Decision Tree\n",
    "*   Support Vector Machine\n",
    "*   Logistic Regression\n"
   ]
  },
  {
   "cell_type": "markdown",
   "metadata": {},
   "source": [
    "# K Nearest Neighbor(KNN)\n",
    "\n",
    "<b>Question  1 </b> Build a KNN model using a value of k equals five, find the accuracy on the validation data (X_val and y_val)\n"
   ]
  },
  {
   "cell_type": "markdown",
   "metadata": {},
   "source": [
    "You can use <code> accuracy_score</cdoe>\n"
   ]
  },
  {
   "cell_type": "code",
   "execution_count": 17,
   "metadata": {},
   "outputs": [
    {
     "name": "stdout",
     "output_type": "stream",
     "text": [
      "\u001b[1m Evaluation set Accuracy:  0.6153846153846154 \u001b[0m\n"
     ]
    }
   ],
   "source": [
    "from sklearn.metrics import accuracy_score\n",
    "from sklearn.neighbors import KNeighborsClassifier\n",
    "k = 5\n",
    "neigh = KNeighborsClassifier(n_neighbors = k).fit(X_train,y_train)\n",
    "neigh\n",
    "yhat=neigh.predict(X_val)\n",
    "print(\"\\033[1m Evaluation set Accuracy: \", accuracy_score(y_val, yhat), '\\033[0m')"
   ]
  },
  {
   "cell_type": "markdown",
   "metadata": {},
   "source": [
    "<b>Question  2</b> Determine and print the accuracy for the first 15 values of k the on the validation data:\n"
   ]
  },
  {
   "cell_type": "code",
   "execution_count": 18,
   "metadata": {},
   "outputs": [
    {
     "name": "stdout",
     "output_type": "stream",
     "text": [
      "Evaluation set Accuracy for k= 1 is: 0.46153846153846156\n",
      "Evaluation set Accuracy for k= 2 is: 0.5384615384615384\n",
      "Evaluation set Accuracy for k= 3 is: 0.5384615384615384\n",
      "Evaluation set Accuracy for k= 4 is: 0.38461538461538464\n",
      "Evaluation set Accuracy for k= 5 is: 0.6153846153846154\n",
      "Evaluation set Accuracy for k= 6 is: 0.5384615384615384\n",
      "Evaluation set Accuracy for k= 7 is: 0.6923076923076923\n",
      "Evaluation set Accuracy for k= 8 is: 0.46153846153846156\n",
      "Evaluation set Accuracy for k= 9 is: 0.6153846153846154\n",
      "Evaluation set Accuracy for k= 10 is: 0.6923076923076923\n",
      "Evaluation set Accuracy for k= 11 is: 0.6923076923076923\n",
      "Evaluation set Accuracy for k= 12 is: 0.5384615384615384\n",
      "Evaluation set Accuracy for k= 13 is: 0.5384615384615384\n",
      "Evaluation set Accuracy for k= 14 is: 0.5384615384615384\n",
      "Evaluation set Accuracy for k= 15 is: 0.46153846153846156\n"
     ]
    },
    {
     "data": {
      "text/html": [
       "<div>\n",
       "<style scoped>\n",
       "    .dataframe tbody tr th:only-of-type {\n",
       "        vertical-align: middle;\n",
       "    }\n",
       "\n",
       "    .dataframe tbody tr th {\n",
       "        vertical-align: top;\n",
       "    }\n",
       "\n",
       "    .dataframe thead th {\n",
       "        text-align: right;\n",
       "    }\n",
       "</style>\n",
       "<table border=\"1\" class=\"dataframe\">\n",
       "  <thead>\n",
       "    <tr style=\"text-align: right;\">\n",
       "      <th></th>\n",
       "      <th>k</th>\n",
       "      <th>accuracy</th>\n",
       "    </tr>\n",
       "  </thead>\n",
       "  <tbody>\n",
       "    <tr>\n",
       "      <th>0</th>\n",
       "      <td>1.0</td>\n",
       "      <td>0.461538</td>\n",
       "    </tr>\n",
       "    <tr>\n",
       "      <th>1</th>\n",
       "      <td>2.0</td>\n",
       "      <td>0.538462</td>\n",
       "    </tr>\n",
       "    <tr>\n",
       "      <th>2</th>\n",
       "      <td>3.0</td>\n",
       "      <td>0.538462</td>\n",
       "    </tr>\n",
       "    <tr>\n",
       "      <th>3</th>\n",
       "      <td>4.0</td>\n",
       "      <td>0.384615</td>\n",
       "    </tr>\n",
       "    <tr>\n",
       "      <th>4</th>\n",
       "      <td>5.0</td>\n",
       "      <td>0.615385</td>\n",
       "    </tr>\n",
       "    <tr>\n",
       "      <th>5</th>\n",
       "      <td>6.0</td>\n",
       "      <td>0.538462</td>\n",
       "    </tr>\n",
       "    <tr>\n",
       "      <th>6</th>\n",
       "      <td>7.0</td>\n",
       "      <td>0.692308</td>\n",
       "    </tr>\n",
       "    <tr>\n",
       "      <th>7</th>\n",
       "      <td>8.0</td>\n",
       "      <td>0.461538</td>\n",
       "    </tr>\n",
       "    <tr>\n",
       "      <th>8</th>\n",
       "      <td>9.0</td>\n",
       "      <td>0.615385</td>\n",
       "    </tr>\n",
       "    <tr>\n",
       "      <th>9</th>\n",
       "      <td>10.0</td>\n",
       "      <td>0.692308</td>\n",
       "    </tr>\n",
       "    <tr>\n",
       "      <th>10</th>\n",
       "      <td>11.0</td>\n",
       "      <td>0.692308</td>\n",
       "    </tr>\n",
       "    <tr>\n",
       "      <th>11</th>\n",
       "      <td>12.0</td>\n",
       "      <td>0.538462</td>\n",
       "    </tr>\n",
       "    <tr>\n",
       "      <th>12</th>\n",
       "      <td>13.0</td>\n",
       "      <td>0.538462</td>\n",
       "    </tr>\n",
       "    <tr>\n",
       "      <th>13</th>\n",
       "      <td>14.0</td>\n",
       "      <td>0.538462</td>\n",
       "    </tr>\n",
       "    <tr>\n",
       "      <th>14</th>\n",
       "      <td>15.0</td>\n",
       "      <td>0.461538</td>\n",
       "    </tr>\n",
       "  </tbody>\n",
       "</table>\n",
       "</div>"
      ],
      "text/plain": [
       "       k  accuracy\n",
       "0    1.0  0.461538\n",
       "1    2.0  0.538462\n",
       "2    3.0  0.538462\n",
       "3    4.0  0.384615\n",
       "4    5.0  0.615385\n",
       "5    6.0  0.538462\n",
       "6    7.0  0.692308\n",
       "7    8.0  0.461538\n",
       "8    9.0  0.615385\n",
       "9   10.0  0.692308\n",
       "10  11.0  0.692308\n",
       "11  12.0  0.538462\n",
       "12  13.0  0.538462\n",
       "13  14.0  0.538462\n",
       "14  15.0  0.461538"
      ]
     },
     "metadata": {},
     "output_type": "display_data"
    },
    {
     "data": {
      "text/plain": [
       "<matplotlib.axes._subplots.AxesSubplot at 0x7fbe595b1400>"
      ]
     },
     "execution_count": 18,
     "metadata": {},
     "output_type": "execute_result"
    },
    {
     "data": {
      "image/png": "[encoded data removed]",
      "text/plain": [
       "<Figure size 432x288 with 1 Axes>"
      ]
     },
     "metadata": {
      "needs_background": "light"
     },
     "output_type": "display_data"
    }
   ],
   "source": [
    "acc_df=pd.DataFrame(columns=['k', 'accuracy']) #optional: define dataframe for graphing\n",
    "for k in range(15):\n",
    "    neighk = KNeighborsClassifier(n_neighbors = k+1).fit(X_train,y_train)\n",
    "    yhatk=neighk.predict(X_val)\n",
    "    acc=accuracy_score(y_val, yhatk)\n",
    "    print(\"Evaluation set Accuracy for k=\", k+1, 'is:', acc )\n",
    "    acc_df=acc_df.append({'k':k+1, 'accuracy': acc}, ignore_index = True)\n",
    "display(acc_df)\n",
    "\n",
    "#optional: graph below show the variation of accuracy vs k\n",
    "sns.lineplot(data=acc_df, x='k', y='accuracy')\n"
   ]
  },
  {
   "cell_type": "markdown",
   "metadata": {},
   "source": [
    "**KNN**: Based on Accuracy **k=6** is chosen for **KNN**"
   ]
  },
  {
   "cell_type": "markdown",
   "metadata": {},
   "source": [
    "# Decision Tree\n"
   ]
  },
  {
   "cell_type": "markdown",
   "metadata": {},
   "source": [
    "The following lines of code fit a <code>DecisionTreeClassifier</code>:\n"
   ]
  },
  {
   "cell_type": "code",
   "execution_count": 19,
   "metadata": {},
   "outputs": [],
   "source": [
    "from sklearn.tree import DecisionTreeClassifier\n",
    "from sklearn.metrics import f1_score\n",
    "from sklearn.metrics import jaccard_score"
   ]
  },
  {
   "cell_type": "markdown",
   "metadata": {},
   "source": [
    "<b>Question  3</b> Determine the minumum   value for the parameter <code>max_depth</code> that improves results\n"
   ]
  },
  {
   "cell_type": "code",
   "execution_count": 20,
   "metadata": {},
   "outputs": [
    {
     "name": "stdout",
     "output_type": "stream",
     "text": [
      "DecisionTrees's Accuracy on val data for max depth 1 and criterion entropy is: 0.46153846153846156\n",
      "DecisionTrees's Accuracy on val data for max depth 2 and criterion entropy is: 0.6153846153846154\n",
      "DecisionTrees's Accuracy on val data for max depth 3 and criterion entropy is: 0.6153846153846154\n",
      "DecisionTrees's Accuracy on val data for max depth 4 and criterion entropy is: 0.6153846153846154\n",
      "DecisionTrees's Accuracy on val data for max depth 5 and criterion entropy is: 0.6153846153846154\n",
      "DecisionTrees's Accuracy on val data for max depth 6 and criterion entropy is: 0.6153846153846154\n",
      "DecisionTrees's Accuracy on val data for max depth 7 and criterion entropy is: 0.6153846153846154\n",
      "DecisionTrees's Accuracy on val data for max depth 8 and criterion entropy is: 0.6153846153846154\n",
      "DecisionTrees's Accuracy on val data for max depth 9 and criterion entropy is: 0.6153846153846154\n",
      "DecisionTrees's Accuracy on val data for max depth 10 and criterion entropy is: 0.6153846153846154\n",
      "DecisionTrees's Accuracy on val data for max depth 1 and criterion gini is: 0.46153846153846156\n",
      "DecisionTrees's Accuracy on val data for max depth 2 and criterion gini is: 0.6153846153846154\n",
      "DecisionTrees's Accuracy on val data for max depth 3 and criterion gini is: 0.38461538461538464\n",
      "DecisionTrees's Accuracy on val data for max depth 4 and criterion gini is: 0.38461538461538464\n",
      "DecisionTrees's Accuracy on val data for max depth 5 and criterion gini is: 0.38461538461538464\n",
      "DecisionTrees's Accuracy on val data for max depth 6 and criterion gini is: 0.3076923076923077\n",
      "DecisionTrees's Accuracy on val data for max depth 7 and criterion gini is: 0.3076923076923077\n",
      "DecisionTrees's Accuracy on val data for max depth 8 and criterion gini is: 0.3076923076923077\n",
      "DecisionTrees's Accuracy on val data for max depth 9 and criterion gini is: 0.3076923076923077\n",
      "DecisionTrees's Accuracy on val data for max depth 10 and criterion gini is: 0.3076923076923077\n"
     ]
    },
    {
     "data": {
      "text/html": [
       "<div>\n",
       "<style scoped>\n",
       "    .dataframe tbody tr th:only-of-type {\n",
       "        vertical-align: middle;\n",
       "    }\n",
       "\n",
       "    .dataframe tbody tr th {\n",
       "        vertical-align: top;\n",
       "    }\n",
       "\n",
       "    .dataframe thead th {\n",
       "        text-align: right;\n",
       "    }\n",
       "</style>\n",
       "<table border=\"1\" class=\"dataframe\">\n",
       "  <thead>\n",
       "    <tr style=\"text-align: right;\">\n",
       "      <th></th>\n",
       "      <th>max_depth</th>\n",
       "      <th>criterion</th>\n",
       "      <th>accuracy</th>\n",
       "    </tr>\n",
       "  </thead>\n",
       "  <tbody>\n",
       "    <tr>\n",
       "      <th>11</th>\n",
       "      <td>2</td>\n",
       "      <td>gini</td>\n",
       "      <td>0.615385</td>\n",
       "    </tr>\n",
       "    <tr>\n",
       "      <th>2</th>\n",
       "      <td>3</td>\n",
       "      <td>entropy</td>\n",
       "      <td>0.615385</td>\n",
       "    </tr>\n",
       "    <tr>\n",
       "      <th>3</th>\n",
       "      <td>4</td>\n",
       "      <td>entropy</td>\n",
       "      <td>0.615385</td>\n",
       "    </tr>\n",
       "    <tr>\n",
       "      <th>4</th>\n",
       "      <td>5</td>\n",
       "      <td>entropy</td>\n",
       "      <td>0.615385</td>\n",
       "    </tr>\n",
       "    <tr>\n",
       "      <th>5</th>\n",
       "      <td>6</td>\n",
       "      <td>entropy</td>\n",
       "      <td>0.615385</td>\n",
       "    </tr>\n",
       "  </tbody>\n",
       "</table>\n",
       "</div>"
      ],
      "text/plain": [
       "   max_depth criterion  accuracy\n",
       "11         2      gini  0.615385\n",
       "2          3   entropy  0.615385\n",
       "3          4   entropy  0.615385\n",
       "4          5   entropy  0.615385\n",
       "5          6   entropy  0.615385"
      ]
     },
     "metadata": {},
     "output_type": "display_data"
    },
    {
     "data": {
      "text/html": [
       "<div>\n",
       "<style scoped>\n",
       "    .dataframe tbody tr th:only-of-type {\n",
       "        vertical-align: middle;\n",
       "    }\n",
       "\n",
       "    .dataframe tbody tr th {\n",
       "        vertical-align: top;\n",
       "    }\n",
       "\n",
       "    .dataframe thead th {\n",
       "        text-align: right;\n",
       "    }\n",
       "</style>\n",
       "<table border=\"1\" class=\"dataframe\">\n",
       "  <thead>\n",
       "    <tr style=\"text-align: right;\">\n",
       "      <th></th>\n",
       "      <th>max_depth</th>\n",
       "      <th>criterion</th>\n",
       "      <th>accuracy</th>\n",
       "    </tr>\n",
       "  </thead>\n",
       "  <tbody>\n",
       "    <tr>\n",
       "      <th>11</th>\n",
       "      <td>2</td>\n",
       "      <td>gini</td>\n",
       "      <td>0.615385</td>\n",
       "    </tr>\n",
       "    <tr>\n",
       "      <th>2</th>\n",
       "      <td>3</td>\n",
       "      <td>entropy</td>\n",
       "      <td>0.615385</td>\n",
       "    </tr>\n",
       "    <tr>\n",
       "      <th>3</th>\n",
       "      <td>4</td>\n",
       "      <td>entropy</td>\n",
       "      <td>0.615385</td>\n",
       "    </tr>\n",
       "    <tr>\n",
       "      <th>4</th>\n",
       "      <td>5</td>\n",
       "      <td>entropy</td>\n",
       "      <td>0.615385</td>\n",
       "    </tr>\n",
       "    <tr>\n",
       "      <th>5</th>\n",
       "      <td>6</td>\n",
       "      <td>entropy</td>\n",
       "      <td>0.615385</td>\n",
       "    </tr>\n",
       "    <tr>\n",
       "      <th>6</th>\n",
       "      <td>7</td>\n",
       "      <td>entropy</td>\n",
       "      <td>0.615385</td>\n",
       "    </tr>\n",
       "    <tr>\n",
       "      <th>7</th>\n",
       "      <td>8</td>\n",
       "      <td>entropy</td>\n",
       "      <td>0.615385</td>\n",
       "    </tr>\n",
       "    <tr>\n",
       "      <th>8</th>\n",
       "      <td>9</td>\n",
       "      <td>entropy</td>\n",
       "      <td>0.615385</td>\n",
       "    </tr>\n",
       "    <tr>\n",
       "      <th>9</th>\n",
       "      <td>10</td>\n",
       "      <td>entropy</td>\n",
       "      <td>0.615385</td>\n",
       "    </tr>\n",
       "    <tr>\n",
       "      <th>1</th>\n",
       "      <td>2</td>\n",
       "      <td>entropy</td>\n",
       "      <td>0.615385</td>\n",
       "    </tr>\n",
       "  </tbody>\n",
       "</table>\n",
       "</div>"
      ],
      "text/plain": [
       "   max_depth criterion  accuracy\n",
       "11         2      gini  0.615385\n",
       "2          3   entropy  0.615385\n",
       "3          4   entropy  0.615385\n",
       "4          5   entropy  0.615385\n",
       "5          6   entropy  0.615385\n",
       "6          7   entropy  0.615385\n",
       "7          8   entropy  0.615385\n",
       "8          9   entropy  0.615385\n",
       "9         10   entropy  0.615385\n",
       "1          2   entropy  0.615385"
      ]
     },
     "metadata": {},
     "output_type": "display_data"
    }
   ],
   "source": [
    "acc_tree_df=pd.DataFrame(columns=['max_depth','criterion', 'accuracy' ]) #define dataframe to store depth vs accuracy\n",
    "for crit in [\"entropy\", 'gini']:\n",
    "    for mxd in range(10):\n",
    "        #set random_state to avoid tree-objects giving random results. Sample is small and we probably have overfitting \n",
    "        BBTree = DecisionTreeClassifier(criterion=crit, max_depth = mxd+1, random_state=0)\n",
    "        BBTree.fit(X_train,y_train)\n",
    "        yhat_tree=BBTree.predict(X_val)\n",
    "        #yhat=BBTree.predict(X_train)\n",
    "        \n",
    "        acc_tree=accuracy_score(y_val, yhat_tree)\n",
    "        print(\"DecisionTrees's Accuracy on val data for max depth\",mxd+1,\"and criterion\", crit, \"is:\" ,acc_tree)\n",
    "        acc_tree_df=acc_tree_df.append({'max_depth':mxd+1,'criterion': crit, 'accuracy': acc_tree}, ignore_index = True)\n",
    "    \n",
    "#method 1 to display top accuracy\n",
    "acc_tree_df.sort_values(by='accuracy', ascending=False, inplace=True)\n",
    "display(acc_tree_df.head())\n",
    "#method 2 to display top accuracy \n",
    "display(acc_tree_df[acc_tree_df['accuracy']== acc_tree_df['accuracy'].max()])\n"
   ]
  },
  {
   "cell_type": "markdown",
   "metadata": {},
   "source": [
    "**Decision Tree**: Based on analysis for both criteria **entropy** and **gini**  the accuracy is max for **max depth =2. But for entropy method only all depths 2-10 give same accuracy**"
   ]
  },
  {
   "cell_type": "markdown",
   "metadata": {},
   "source": [
    "# Support Vector Machine\n"
   ]
  },
  {
   "cell_type": "markdown",
   "metadata": {},
   "source": [
    "<b>Question  4</b>Train the support  vector machine model and determine the accuracy on the validation data for each kernel. Find the kernel (linear, poly, rbf, sigmoid) that provides the best score on the validation data and train a SVM using it.\n"
   ]
  },
  {
   "cell_type": "code",
   "execution_count": 21,
   "metadata": {},
   "outputs": [],
   "source": [
    "from sklearn import svm\n",
    "from sklearn.metrics import f1_score\n",
    "from sklearn.metrics import jaccard_score\n",
    "from sklearn.metrics import classification_report, confusion_matrix\n",
    "\n",
    "\n"
   ]
  },
  {
   "cell_type": "code",
   "execution_count": 22,
   "metadata": {},
   "outputs": [
    {
     "name": "stdout",
     "output_type": "stream",
     "text": [
      " \u001b[1m Analysis for linear method \u001b[0m \n",
      "\n",
      " \u001b[1m Accuracy (what is being asked) 0.6154 \u001b[0m \n",
      "\n",
      "The f1 score with micro average is 0.6154 \n",
      "\n",
      "The f1 score with weighted average is 0.6144 \n",
      "\n",
      "Jaccard score for micro average : 0.4444 \n",
      "\n",
      "Jaccard score for weighted average : 0.4500 \n",
      "\n",
      " \u001b[1m Analysis for rbf method \u001b[0m \n",
      "\n",
      " \u001b[1m Accuracy (what is being asked) 0.4615 \u001b[0m \n",
      "\n",
      "The f1 score with micro average is 0.4615 \n",
      "\n",
      "The f1 score with weighted average is 0.4000 \n",
      "\n",
      "Jaccard score for micro average : 0.3000 \n",
      "\n",
      "Jaccard score for weighted average : 0.2704 \n",
      "\n",
      " \u001b[1m Analysis for poly method \u001b[0m \n",
      "\n",
      " \u001b[1m Accuracy (what is being asked) 0.5385 \u001b[0m \n",
      "\n",
      "The f1 score with micro average is 0.5385 \n",
      "\n",
      "The f1 score with weighted average is 0.4308 \n",
      "\n",
      "Jaccard score for micro average : 0.3684 \n",
      "\n",
      "Jaccard score for weighted average : 0.3077 \n",
      "\n",
      " \u001b[1m Analysis for sigmoid method \u001b[0m \n",
      "\n",
      " \u001b[1m Accuracy (what is being asked) 0.4615 \u001b[0m \n",
      "\n",
      "The f1 score with micro average is 0.4615 \n",
      "\n",
      "The f1 score with weighted average is 0.4652 \n",
      "\n",
      "Jaccard score for micro average : 0.3000 \n",
      "\n",
      "Jaccard score for weighted average : 0.3033 \n",
      "\n",
      "Ranked in order of accuracy only \n",
      "\n"
     ]
    },
    {
     "data": {
      "text/html": [
       "<div>\n",
       "<style scoped>\n",
       "    .dataframe tbody tr th:only-of-type {\n",
       "        vertical-align: middle;\n",
       "    }\n",
       "\n",
       "    .dataframe tbody tr th {\n",
       "        vertical-align: top;\n",
       "    }\n",
       "\n",
       "    .dataframe thead th {\n",
       "        text-align: right;\n",
       "    }\n",
       "</style>\n",
       "<table border=\"1\" class=\"dataframe\">\n",
       "  <thead>\n",
       "    <tr style=\"text-align: right;\">\n",
       "      <th></th>\n",
       "      <th>method</th>\n",
       "      <th>accuracy</th>\n",
       "    </tr>\n",
       "  </thead>\n",
       "  <tbody>\n",
       "    <tr>\n",
       "      <th>0</th>\n",
       "      <td>linear</td>\n",
       "      <td>0.615385</td>\n",
       "    </tr>\n",
       "    <tr>\n",
       "      <th>2</th>\n",
       "      <td>poly</td>\n",
       "      <td>0.538462</td>\n",
       "    </tr>\n",
       "    <tr>\n",
       "      <th>1</th>\n",
       "      <td>rbf</td>\n",
       "      <td>0.461538</td>\n",
       "    </tr>\n",
       "    <tr>\n",
       "      <th>3</th>\n",
       "      <td>sigmoid</td>\n",
       "      <td>0.461538</td>\n",
       "    </tr>\n",
       "  </tbody>\n",
       "</table>\n",
       "</div>"
      ],
      "text/plain": [
       "    method  accuracy\n",
       "0   linear  0.615385\n",
       "2     poly  0.538462\n",
       "1      rbf  0.461538\n",
       "3  sigmoid  0.461538"
      ]
     },
     "metadata": {},
     "output_type": "display_data"
    },
    {
     "name": "stdout",
     "output_type": "stream",
     "text": [
      " \u001b[1m method linear scored max \u001b[0m\n"
     ]
    },
    {
     "data": {
      "text/html": [
       "<div>\n",
       "<style scoped>\n",
       "    .dataframe tbody tr th:only-of-type {\n",
       "        vertical-align: middle;\n",
       "    }\n",
       "\n",
       "    .dataframe tbody tr th {\n",
       "        vertical-align: top;\n",
       "    }\n",
       "\n",
       "    .dataframe thead th {\n",
       "        text-align: right;\n",
       "    }\n",
       "</style>\n",
       "<table border=\"1\" class=\"dataframe\">\n",
       "  <thead>\n",
       "    <tr style=\"text-align: right;\">\n",
       "      <th></th>\n",
       "      <th>method</th>\n",
       "      <th>accuracy</th>\n",
       "    </tr>\n",
       "  </thead>\n",
       "  <tbody>\n",
       "    <tr>\n",
       "      <th>0</th>\n",
       "      <td>linear</td>\n",
       "      <td>0.615385</td>\n",
       "    </tr>\n",
       "  </tbody>\n",
       "</table>\n",
       "</div>"
      ],
      "text/plain": [
       "   method  accuracy\n",
       "0  linear  0.615385"
      ]
     },
     "metadata": {},
     "output_type": "display_data"
    }
   ],
   "source": [
    "# write your code here\n",
    "#possible kernels: \"linear\", \"rbm\", \"polynomial\", \"sigmoid\"\n",
    "#attn jaccard computed using sklearn uses a different jaccard index than course.(computes average over samples)\n",
    "#in question 5 we will define the standard Jaccard for our purposes\n",
    "kernels=[\"linear\", \"rbf\", \"poly\", \"sigmoid\"]\n",
    "acc_svm_df=pd.DataFrame(columns=['method', 'accuracy']) #define dataframe to store method vs accuracy\n",
    "\n",
    "for iter, kernel in enumerate(kernels):\n",
    "    clf = svm.SVC(kernel=kernel)\n",
    "    clf.fit(X_train, y_train) \n",
    "    yhat_svm = clf.predict(X_val)\n",
    "\n",
    "    print(\" \\033[1m Analysis for\", kernel, \"method \\033[0m \\n\")\n",
    "    acc_svm=accuracy_score(y_val, yhat_svm)\n",
    "    #store accuracy\n",
    "    acc_svm_df=acc_svm_df.append({'method':kernel, 'accuracy': acc_svm}, ignore_index = True)\n",
    "\n",
    "    print(\" \\033[1m Accuracy (what is being asked) %.4f\" %acc_svm,'\\033[0m \\n' )\n",
    "    #micro computes essentially f1 for micro averaged Precision and recall\n",
    "    # this is an average where we take i.e essentially the accuracy (TP+TN)/(TP+TN+FP+FN)\n",
    "    print(\"The f1 score with micro average is %.4f\" %f1_score(y_val,yhat_svm, average='micro'), \"\\n\")\n",
    "    #agrees with accuracy\n",
    "    print(\"The f1 score with weighted average is %.4f\" %f1_score(y_val,yhat_svm, average='weighted'), \"\\n\")\n",
    "    print(\"Jaccard score for micro average : %.4f\" % jaccard_score(y_val, yhat_svm,average='micro'), '\\n')\n",
    "    print(\"Jaccard score for weighted average : %.4f\" % jaccard_score(y_val, yhat_svm,average='weighted'), '\\n')\n",
    "    \n",
    "   \n",
    "#method 1 to display top accuracy\n",
    "print(\"Ranked in order of accuracy only \\n\")\n",
    "acc_svm_df.sort_values(by='accuracy', ascending=False, inplace=True)\n",
    "display(acc_svm_df.head())\n",
    "print(\" \\033[1m method\",acc_svm_df.iat[0,0], \"scored max \\033[0m\")\n",
    "display(acc_svm_df[acc_svm_df['accuracy']== acc_svm_df['accuracy'].max()])\n"
   ]
  },
  {
   "cell_type": "markdown",
   "metadata": {},
   "source": [
    "**Support Vector machines**:Based on accuracy only  kernel **linear** is best. Also is micro-average Jaccard score is the best"
   ]
  },
  {
   "cell_type": "markdown",
   "metadata": {},
   "source": [
    "# Logistic Regression\n"
   ]
  },
  {
   "cell_type": "markdown",
   "metadata": {},
   "source": [
    "<b>Question 5</b> Train a logistic regression model and determine the accuracy of the validation data (set C=0.01)\n"
   ]
  },
  {
   "cell_type": "code",
   "execution_count": 23,
   "metadata": {},
   "outputs": [],
   "source": [
    "from sklearn.linear_model import LogisticRegression\n",
    "from sklearn.metrics import log_loss"
   ]
  },
  {
   "cell_type": "code",
   "execution_count": 24,
   "metadata": {},
   "outputs": [
    {
     "name": "stdout",
     "output_type": "stream",
     "text": [
      " \u001b[1m Analysis for newton-cg method \u001b[0m \n",
      "\n",
      " \u001b[1m Accuracy (what is being asked) 0.5385 \u001b[0m \n",
      "\n",
      "The f1 score with micro average is 0.5385 \n",
      "\n",
      "The f1 score with weighted average is 0.4308 \n",
      "\n",
      "Jaccard score for micro average : 0.3684 \n",
      "\n",
      "Jaccard score for weighted average : 0.3077 \n",
      "\n",
      "Log-loss: 1.0262 \n",
      "\n",
      " \u001b[1m Analysis for lbfgs method \u001b[0m \n",
      "\n",
      " \u001b[1m Accuracy (what is being asked) 0.5385 \u001b[0m \n",
      "\n",
      "The f1 score with micro average is 0.5385 \n",
      "\n",
      "The f1 score with weighted average is 0.4308 \n",
      "\n",
      "Jaccard score for micro average : 0.3684 \n",
      "\n",
      "Jaccard score for weighted average : 0.3077 \n",
      "\n",
      "Log-loss: 1.0262 \n",
      "\n",
      " \u001b[1m Analysis for liblinear method \u001b[0m \n",
      "\n",
      " \u001b[1m Accuracy (what is being asked) 0.4615 \u001b[0m \n",
      "\n",
      "The f1 score with micro average is 0.4615 \n",
      "\n",
      "The f1 score with weighted average is 0.4056 \n",
      "\n",
      "Jaccard score for micro average : 0.3000 \n",
      "\n",
      "Jaccard score for weighted average : 0.2756 \n",
      "\n",
      "Log-loss: 1.0744 \n",
      "\n",
      " \u001b[1m Analysis for sag method \u001b[0m \n",
      "\n",
      " \u001b[1m Accuracy (what is being asked) 0.5385 \u001b[0m \n",
      "\n",
      "The f1 score with micro average is 0.5385 \n",
      "\n",
      "The f1 score with weighted average is 0.4308 \n",
      "\n",
      "Jaccard score for micro average : 0.3684 \n",
      "\n",
      "Jaccard score for weighted average : 0.3077 \n",
      "\n",
      "Log-loss: 1.0262 \n",
      "\n",
      " \u001b[1m Analysis for saga method \u001b[0m \n",
      "\n",
      " \u001b[1m Accuracy (what is being asked) 0.5385 \u001b[0m \n",
      "\n",
      "The f1 score with micro average is 0.5385 \n",
      "\n",
      "The f1 score with weighted average is 0.4308 \n",
      "\n",
      "Jaccard score for micro average : 0.3684 \n",
      "\n",
      "Jaccard score for weighted average : 0.3077 \n",
      "\n",
      "Log-loss: 1.0262 \n",
      "\n",
      "\n",
      " \u001b[1m Ranked in order of descending accuracy \u001b[0m \n",
      "\n"
     ]
    },
    {
     "data": {
      "text/html": [
       "<div>\n",
       "<style scoped>\n",
       "    .dataframe tbody tr th:only-of-type {\n",
       "        vertical-align: middle;\n",
       "    }\n",
       "\n",
       "    .dataframe tbody tr th {\n",
       "        vertical-align: top;\n",
       "    }\n",
       "\n",
       "    .dataframe thead th {\n",
       "        text-align: right;\n",
       "    }\n",
       "</style>\n",
       "<table border=\"1\" class=\"dataframe\">\n",
       "  <thead>\n",
       "    <tr style=\"text-align: right;\">\n",
       "      <th></th>\n",
       "      <th>solver</th>\n",
       "      <th>accuracy</th>\n",
       "      <th>log-loss</th>\n",
       "    </tr>\n",
       "  </thead>\n",
       "  <tbody>\n",
       "    <tr>\n",
       "      <th>0</th>\n",
       "      <td>newton-cg</td>\n",
       "      <td>0.538462</td>\n",
       "      <td>1.026228</td>\n",
       "    </tr>\n",
       "    <tr>\n",
       "      <th>1</th>\n",
       "      <td>lbfgs</td>\n",
       "      <td>0.538462</td>\n",
       "      <td>1.026228</td>\n",
       "    </tr>\n",
       "    <tr>\n",
       "      <th>3</th>\n",
       "      <td>sag</td>\n",
       "      <td>0.538462</td>\n",
       "      <td>1.026231</td>\n",
       "    </tr>\n",
       "    <tr>\n",
       "      <th>4</th>\n",
       "      <td>saga</td>\n",
       "      <td>0.538462</td>\n",
       "      <td>1.026224</td>\n",
       "    </tr>\n",
       "    <tr>\n",
       "      <th>2</th>\n",
       "      <td>liblinear</td>\n",
       "      <td>0.461538</td>\n",
       "      <td>1.074442</td>\n",
       "    </tr>\n",
       "  </tbody>\n",
       "</table>\n",
       "</div>"
      ],
      "text/plain": [
       "      solver  accuracy  log-loss\n",
       "0  newton-cg  0.538462  1.026228\n",
       "1      lbfgs  0.538462  1.026228\n",
       "3        sag  0.538462  1.026231\n",
       "4       saga  0.538462  1.026224\n",
       "2  liblinear  0.461538  1.074442"
      ]
     },
     "metadata": {},
     "output_type": "display_data"
    },
    {
     "name": "stdout",
     "output_type": "stream",
     "text": [
      "\n",
      " \u001b[1m Solvers with max  accuracy '\u001b[0m \n",
      "'       solver  accuracy  log-loss\n",
      "0  newton-cg  0.538462  1.026228\n",
      "1      lbfgs  0.538462  1.026228\n",
      "3        sag  0.538462  1.026231\n",
      "4       saga  0.538462  1.026224 \n",
      "\n",
      "\n",
      " \u001b[1m Ranked in order of ascending log-loss \u001b[0m \n",
      "\n"
     ]
    },
    {
     "data": {
      "text/html": [
       "<div>\n",
       "<style scoped>\n",
       "    .dataframe tbody tr th:only-of-type {\n",
       "        vertical-align: middle;\n",
       "    }\n",
       "\n",
       "    .dataframe tbody tr th {\n",
       "        vertical-align: top;\n",
       "    }\n",
       "\n",
       "    .dataframe thead th {\n",
       "        text-align: right;\n",
       "    }\n",
       "</style>\n",
       "<table border=\"1\" class=\"dataframe\">\n",
       "  <thead>\n",
       "    <tr style=\"text-align: right;\">\n",
       "      <th></th>\n",
       "      <th>solver</th>\n",
       "      <th>accuracy</th>\n",
       "      <th>log-loss</th>\n",
       "    </tr>\n",
       "  </thead>\n",
       "  <tbody>\n",
       "    <tr>\n",
       "      <th>4</th>\n",
       "      <td>saga</td>\n",
       "      <td>0.538462</td>\n",
       "      <td>1.026224</td>\n",
       "    </tr>\n",
       "    <tr>\n",
       "      <th>1</th>\n",
       "      <td>lbfgs</td>\n",
       "      <td>0.538462</td>\n",
       "      <td>1.026228</td>\n",
       "    </tr>\n",
       "    <tr>\n",
       "      <th>0</th>\n",
       "      <td>newton-cg</td>\n",
       "      <td>0.538462</td>\n",
       "      <td>1.026228</td>\n",
       "    </tr>\n",
       "    <tr>\n",
       "      <th>3</th>\n",
       "      <td>sag</td>\n",
       "      <td>0.538462</td>\n",
       "      <td>1.026231</td>\n",
       "    </tr>\n",
       "    <tr>\n",
       "      <th>2</th>\n",
       "      <td>liblinear</td>\n",
       "      <td>0.461538</td>\n",
       "      <td>1.074442</td>\n",
       "    </tr>\n",
       "  </tbody>\n",
       "</table>\n",
       "</div>"
      ],
      "text/plain": [
       "      solver  accuracy  log-loss\n",
       "4       saga  0.538462  1.026224\n",
       "1      lbfgs  0.538462  1.026228\n",
       "0  newton-cg  0.538462  1.026228\n",
       "3        sag  0.538462  1.026231\n",
       "2  liblinear  0.461538  1.074442"
      ]
     },
     "metadata": {},
     "output_type": "display_data"
    },
    {
     "name": "stdout",
     "output_type": "stream",
     "text": [
      " \u001b[1m Solver  saga  scored min log loss \u001b[0m\n"
     ]
    }
   ],
   "source": [
    "#possible solvers: ‘newton-cg’, ‘lbfgs’, ‘liblinear’, ‘sag’, ‘saga’ solvers\n",
    "solvers=[\"newton-cg\", \"lbfgs\", \"liblinear\", \"sag\", \"saga\" ]\n",
    "acc_lr_df=pd.DataFrame(columns=['solver', 'accuracy', 'log-loss']) \n",
    "#define dataframe to store method vs accuracy, logloss\n",
    "\n",
    "for iter, solver in enumerate(solvers):\n",
    "    LR=LogisticRegression(C=0.01, solver=solver, random_state=0)\n",
    "    LR.fit(X_train,y_train)\n",
    "    yhat_lr = LR.predict(X_val)\n",
    "    yhat_prob = LR.predict_proba(X_val)\n",
    "    logloss=log_loss(y_val, yhat_prob)\n",
    "    acc_lr=accuracy_score(y_val, yhat_lr)\n",
    "    \n",
    "    print(\" \\033[1m Analysis for\", solver , \"method \\033[0m \\n\")\n",
    "    #store accuracy and log-loss\n",
    "    acc_lr_df=acc_lr_df.append({'solver':solver, 'accuracy': acc_lr, 'log-loss':logloss}, ignore_index = True)\n",
    "    \n",
    "    print(\" \\033[1m Accuracy (what is being asked) %.4f\" %acc_lr,'\\033[0m \\n' )\n",
    "    #micro computes essentially f1 for micro averaged Precision and recall\n",
    "    # this is an average where we take i.e essentially the accuracy (TP+TN)/(TP+TN+FP+FN)\n",
    "    print(\"The f1 score with micro average is %.4f\" %f1_score(y_val,yhat_lr, average='micro'), \"\\n\")\n",
    "    #agrees with accuracy\n",
    "    print(\"The f1 score with weighted average is %.4f\" %f1_score(y_val,yhat_lr, average='weighted'), \"\\n\")\n",
    "    print(\"Jaccard score for micro average : %.4f\" % jaccard_score(y_val, yhat_lr,average='micro'), '\\n')\n",
    "    print(\"Jaccard score for weighted average : %.4f\" % jaccard_score(y_val, yhat_lr,average='weighted'), '\\n')\n",
    "    print(\"Log-loss: %.4f\" %log_loss(y_val, yhat_prob), \"\\n\")\n",
    "\n",
    "        \n",
    "# display top accuracy\n",
    "print(\"\\n \\033[1m Ranked in order of descending accuracy \\033[0m \\n\")\n",
    "acc_lr_df.sort_values(by='accuracy', ascending=False, inplace=True)\n",
    "display(acc_lr_df.head())\n",
    "print(\"\\n \\033[1m Solvers with max  accuracy '\\033[0m \\n'\", acc_lr_df[acc_lr_df['accuracy']== acc_lr_df['accuracy'].max()],'\\n')\n",
    "\n",
    "#display min log loss\n",
    "print(\"\\n \\033[1m Ranked in order of ascending log-loss \\033[0m \\n\")\n",
    "acc_lr_df.sort_values(by='log-loss', ascending=True, inplace=True)\n",
    "display(acc_lr_df.head())\n",
    "print(\" \\033[1m Solver \",acc_lr_df.iat[0,0], \" scored min log loss \\033[0m\")\n",
    "\n",
    "\n",
    "    \n",
    "    \n",
    "    \n",
    "    \n",
    "\n",
    "\n",
    "\n"
   ]
  },
  {
   "cell_type": "markdown",
   "metadata": {},
   "source": [
    "**Logistic Regression**: Based on the analysis all solvers had the same accuracy, Jaccard/F1-micro. So we cannot disciminate. Log loss gives advantage to **saga** method. "
   ]
  },
  {
   "cell_type": "markdown",
   "metadata": {},
   "source": [
    "# Model Evaluation using Test set\n"
   ]
  },
  {
   "cell_type": "code",
   "execution_count": 25,
   "metadata": {},
   "outputs": [],
   "source": [
    "from sklearn.metrics import f1_score\n",
    "# for f1_score please set the average parameter to 'micro'\n",
    "from sklearn.metrics import log_loss"
   ]
  },
  {
   "cell_type": "code",
   "execution_count": 26,
   "metadata": {},
   "outputs": [],
   "source": [
    "def jaccard_index(predictions, true):\n",
    "    if (len(predictions) == len(true)):\n",
    "        intersect = 0;\n",
    "        for x,y in zip(predictions, true):\n",
    "            if (x == y):\n",
    "                intersect += 1\n",
    "        return intersect / (len(predictions) + len(true) - intersect)\n",
    "    else:\n",
    "        return -1"
   ]
  },
  {
   "cell_type": "markdown",
   "metadata": {},
   "source": [
    "<b>Question  5</b> Calculate the  F1 score and Jaccard score for each model from above. Use the Hyperparameter that performed best on the validation data. **For f1\\_score please set the average parameter to 'micro'.**\n"
   ]
  },
  {
   "cell_type": "markdown",
   "metadata": {
    "button": false,
    "new_sheet": false,
    "run_control": {
     "read_only": false
    }
   },
   "source": [
    "### Load Test set for evaluation\n"
   ]
  },
  {
   "cell_type": "code",
   "execution_count": 27,
   "metadata": {
    "button": false,
    "new_sheet": false,
    "run_control": {
     "read_only": false
    }
   },
   "outputs": [
    {
     "name": "stdout",
     "output_type": "stream",
     "text": [
      "(1757, 24)\n"
     ]
    },
    {
     "data": {
      "text/html": [
       "<div>\n",
       "<style scoped>\n",
       "    .dataframe tbody tr th:only-of-type {\n",
       "        vertical-align: middle;\n",
       "    }\n",
       "\n",
       "    .dataframe tbody tr th {\n",
       "        vertical-align: top;\n",
       "    }\n",
       "\n",
       "    .dataframe thead th {\n",
       "        text-align: right;\n",
       "    }\n",
       "</style>\n",
       "<table border=\"1\" class=\"dataframe\">\n",
       "  <thead>\n",
       "    <tr style=\"text-align: right;\">\n",
       "      <th></th>\n",
       "      <th>TEAM</th>\n",
       "      <th>CONF</th>\n",
       "      <th>G</th>\n",
       "      <th>W</th>\n",
       "      <th>ADJOE</th>\n",
       "      <th>ADJDE</th>\n",
       "      <th>BARTHAG</th>\n",
       "      <th>EFG_O</th>\n",
       "      <th>EFG_D</th>\n",
       "      <th>TOR</th>\n",
       "      <th>...</th>\n",
       "      <th>FTRD</th>\n",
       "      <th>2P_O</th>\n",
       "      <th>2P_D</th>\n",
       "      <th>3P_O</th>\n",
       "      <th>3P_D</th>\n",
       "      <th>ADJ_T</th>\n",
       "      <th>WAB</th>\n",
       "      <th>POSTSEASON</th>\n",
       "      <th>SEED</th>\n",
       "      <th>YEAR</th>\n",
       "    </tr>\n",
       "  </thead>\n",
       "  <tbody>\n",
       "    <tr>\n",
       "      <th>0</th>\n",
       "      <td>North Carolina</td>\n",
       "      <td>ACC</td>\n",
       "      <td>40</td>\n",
       "      <td>33</td>\n",
       "      <td>123.3</td>\n",
       "      <td>94.9</td>\n",
       "      <td>0.9531</td>\n",
       "      <td>52.6</td>\n",
       "      <td>48.1</td>\n",
       "      <td>15.4</td>\n",
       "      <td>...</td>\n",
       "      <td>30.4</td>\n",
       "      <td>53.9</td>\n",
       "      <td>44.6</td>\n",
       "      <td>32.7</td>\n",
       "      <td>36.2</td>\n",
       "      <td>71.7</td>\n",
       "      <td>8.6</td>\n",
       "      <td>2ND</td>\n",
       "      <td>1.0</td>\n",
       "      <td>2016</td>\n",
       "    </tr>\n",
       "    <tr>\n",
       "      <th>1</th>\n",
       "      <td>Villanova</td>\n",
       "      <td>BE</td>\n",
       "      <td>40</td>\n",
       "      <td>35</td>\n",
       "      <td>123.1</td>\n",
       "      <td>90.9</td>\n",
       "      <td>0.9703</td>\n",
       "      <td>56.1</td>\n",
       "      <td>46.7</td>\n",
       "      <td>16.3</td>\n",
       "      <td>...</td>\n",
       "      <td>30.0</td>\n",
       "      <td>57.4</td>\n",
       "      <td>44.1</td>\n",
       "      <td>36.2</td>\n",
       "      <td>33.9</td>\n",
       "      <td>66.7</td>\n",
       "      <td>8.9</td>\n",
       "      <td>Champions</td>\n",
       "      <td>2.0</td>\n",
       "      <td>2016</td>\n",
       "    </tr>\n",
       "    <tr>\n",
       "      <th>2</th>\n",
       "      <td>Notre Dame</td>\n",
       "      <td>ACC</td>\n",
       "      <td>36</td>\n",
       "      <td>24</td>\n",
       "      <td>118.3</td>\n",
       "      <td>103.3</td>\n",
       "      <td>0.8269</td>\n",
       "      <td>54.0</td>\n",
       "      <td>49.5</td>\n",
       "      <td>15.3</td>\n",
       "      <td>...</td>\n",
       "      <td>26.0</td>\n",
       "      <td>52.9</td>\n",
       "      <td>46.5</td>\n",
       "      <td>37.4</td>\n",
       "      <td>36.9</td>\n",
       "      <td>65.5</td>\n",
       "      <td>2.3</td>\n",
       "      <td>E8</td>\n",
       "      <td>6.0</td>\n",
       "      <td>2016</td>\n",
       "    </tr>\n",
       "    <tr>\n",
       "      <th>3</th>\n",
       "      <td>Virginia</td>\n",
       "      <td>ACC</td>\n",
       "      <td>37</td>\n",
       "      <td>29</td>\n",
       "      <td>119.9</td>\n",
       "      <td>91.0</td>\n",
       "      <td>0.9600</td>\n",
       "      <td>54.8</td>\n",
       "      <td>48.4</td>\n",
       "      <td>15.1</td>\n",
       "      <td>...</td>\n",
       "      <td>33.4</td>\n",
       "      <td>52.6</td>\n",
       "      <td>46.3</td>\n",
       "      <td>40.3</td>\n",
       "      <td>34.7</td>\n",
       "      <td>61.9</td>\n",
       "      <td>8.6</td>\n",
       "      <td>E8</td>\n",
       "      <td>1.0</td>\n",
       "      <td>2016</td>\n",
       "    </tr>\n",
       "    <tr>\n",
       "      <th>4</th>\n",
       "      <td>Kansas</td>\n",
       "      <td>B12</td>\n",
       "      <td>37</td>\n",
       "      <td>32</td>\n",
       "      <td>120.9</td>\n",
       "      <td>90.4</td>\n",
       "      <td>0.9662</td>\n",
       "      <td>55.7</td>\n",
       "      <td>45.1</td>\n",
       "      <td>17.8</td>\n",
       "      <td>...</td>\n",
       "      <td>37.3</td>\n",
       "      <td>52.7</td>\n",
       "      <td>43.4</td>\n",
       "      <td>41.3</td>\n",
       "      <td>32.5</td>\n",
       "      <td>70.1</td>\n",
       "      <td>11.6</td>\n",
       "      <td>E8</td>\n",
       "      <td>1.0</td>\n",
       "      <td>2016</td>\n",
       "    </tr>\n",
       "  </tbody>\n",
       "</table>\n",
       "<p>5 rows × 24 columns</p>\n",
       "</div>"
      ],
      "text/plain": [
       "             TEAM CONF   G   W  ADJOE  ADJDE  BARTHAG  EFG_O  EFG_D   TOR  \\\n",
       "0  North Carolina  ACC  40  33  123.3   94.9   0.9531   52.6   48.1  15.4   \n",
       "1       Villanova   BE  40  35  123.1   90.9   0.9703   56.1   46.7  16.3   \n",
       "2      Notre Dame  ACC  36  24  118.3  103.3   0.8269   54.0   49.5  15.3   \n",
       "3        Virginia  ACC  37  29  119.9   91.0   0.9600   54.8   48.4  15.1   \n",
       "4          Kansas  B12  37  32  120.9   90.4   0.9662   55.7   45.1  17.8   \n",
       "\n",
       "   ...  FTRD  2P_O  2P_D  3P_O  3P_D  ADJ_T   WAB  POSTSEASON  SEED  YEAR  \n",
       "0  ...  30.4  53.9  44.6  32.7  36.2   71.7   8.6         2ND   1.0  2016  \n",
       "1  ...  30.0  57.4  44.1  36.2  33.9   66.7   8.9   Champions   2.0  2016  \n",
       "2  ...  26.0  52.9  46.5  37.4  36.9   65.5   2.3          E8   6.0  2016  \n",
       "3  ...  33.4  52.6  46.3  40.3  34.7   61.9   8.6          E8   1.0  2016  \n",
       "4  ...  37.3  52.7  43.4  41.3  32.5   70.1  11.6          E8   1.0  2016  \n",
       "\n",
       "[5 rows x 24 columns]"
      ]
     },
     "execution_count": 27,
     "metadata": {},
     "output_type": "execute_result"
    }
   ],
   "source": [
    "test_df = pd.read_csv('https://s3-api.us-geo.objectstorage.softlayer.net/cf-courses-data/CognitiveClass/ML0120ENv3/Dataset/ML0101EN_EDX_skill_up/basketball_train.csv',error_bad_lines=False)\n",
    "print(test_df.shape)\n",
    "test_df.head()"
   ]
  },
  {
   "cell_type": "code",
   "execution_count": 28,
   "metadata": {},
   "outputs": [
    {
     "name": "stdout",
     "output_type": "stream",
     "text": [
      "(80, 21)\n"
     ]
    },
    {
     "name": "stderr",
     "output_type": "stream",
     "text": [
      "/Users/macuser/opt/anaconda3/lib/python3.8/site-packages/pandas/core/series.py:4509: SettingWithCopyWarning: \n",
      "A value is trying to be set on a copy of a slice from a DataFrame\n",
      "\n",
      "See the caveats in the documentation: https://pandas.pydata.org/pandas-docs/stable/user_guide/indexing.html#returning-a-view-versus-a-copy\n",
      "  return super().replace(\n"
     ]
    },
    {
     "data": {
      "text/plain": [
       "array([[ 2.0237774 ,  1.08826557,  1.22530098,  0.44981368,  0.71518965,\n",
       "        -0.33173773,  0.40209949, -0.92761522, -0.29964277,  2.05898704,\n",
       "         0.56525459, -0.71716081, -0.11377348,  0.36075891, -0.49090361,\n",
       "        -1.52502989,  1.32113889,  1.1464997 ,  0.81747836, -1.06609823,\n",
       "         1.29099445],\n",
       "       [ 2.0237774 ,  1.59150976,  1.18321249, -0.63489151,  1.16064546,\n",
       "         0.85911567, -0.18506013, -0.34431133,  0.67381598, -1.1096603 ,\n",
       "         0.33629071, -0.29956616, -0.18405826,  1.44808393, -0.6782714 ,\n",
       "        -0.18223628,  0.37231158, -0.38727916,  0.90945905, -0.73031926,\n",
       "         1.29099445],\n",
       "       [-0.56665767, -1.1763333 ,  0.17308889,  2.72769459, -2.55321282,\n",
       "         0.14460363,  0.9892591 , -0.99242677, -1.67870933,  0.03105274,\n",
       "         1.36662819, -0.5779626 , -0.88690601,  0.05009462,  0.22109399,\n",
       "         0.27815011,  1.60991241, -0.75538609, -1.11411608,  0.61279662,\n",
       "        -0.77459667],\n",
       "       [ 0.0809511 ,  0.08177718,  0.50979676, -0.60777388,  0.89388995,\n",
       "         0.41679869,  0.5279194 , -1.12204985, -0.05627808, -0.67872426,\n",
       "        -1.26645649, -0.76356022,  0.41336234, -0.04310467,  0.14614688,\n",
       "         1.39075053,  0.70233847, -1.85970687,  0.81747836, -1.06609823,\n",
       "         1.29099445],\n",
       "       [ 0.0809511 ,  0.83664347,  0.72023918, -0.77047966,  1.05446123,\n",
       "         0.72301814, -0.85609969,  0.62786183, -0.17796043, -0.09569315,\n",
       "        -0.23611901,  0.74442047,  1.0986389 , -0.01203824, -0.94058631,\n",
       "         1.77440585, -0.20523547,  0.65569046,  1.73728524, -1.06609823,\n",
       "         1.29099445]])"
      ]
     },
     "execution_count": 28,
     "metadata": {},
     "output_type": "execute_result"
    }
   ],
   "source": [
    "test_df['windex'] = np.where(test_df.WAB > 7, 'True', 'False')\n",
    "test_df_new= test_df.replace({'POSTSEASON':['2ND', 'Champions']}, {'POSTSEASON':['F4', 'F4']})\n",
    "test_df1 = test_df_new[test_df_new['POSTSEASON'].str.contains('F4|S16|E8', na=False)]\n",
    "\n",
    "test_Feature = test_df1[['G', 'W', 'ADJOE', 'ADJDE', 'BARTHAG', 'EFG_O', 'EFG_D',\n",
    "       'TOR', 'TORD', 'ORB', 'DRB', 'FTR', 'FTRD', '2P_O', '2P_D', '3P_O',\n",
    "       '3P_D', 'ADJ_T', 'WAB', 'SEED', 'windex']]\n",
    "test_Feature['windex'].replace(to_replace=['False','True'], value=[0,1],inplace=True)\n",
    "test_X=test_Feature\n",
    "test_X= preprocessing.StandardScaler().fit(test_X).transform(test_X)\n",
    "print(test_X.shape)\n",
    "test_X[0:5]"
   ]
  },
  {
   "cell_type": "code",
   "execution_count": 29,
   "metadata": {},
   "outputs": [
    {
     "data": {
      "text/plain": [
       "array(['F4', 'F4', 'E8', 'E8', 'E8'], dtype=object)"
      ]
     },
     "execution_count": 29,
     "metadata": {},
     "output_type": "execute_result"
    }
   ],
   "source": [
    "test_y = test_df1['POSTSEASON'].values\n",
    "test_y[0:5]"
   ]
  },
  {
   "cell_type": "markdown",
   "metadata": {},
   "source": [
    "KNN\n"
   ]
  },
  {
   "cell_type": "code",
   "execution_count": 30,
   "metadata": {},
   "outputs": [
    {
     "name": "stdout",
     "output_type": "stream",
     "text": [
      "\u001b[1m KNN:  we use k=6 as found with evaluation set \u001b[0m\n",
      "Test set Accuracy for k=  6 : 0.6125\n",
      "Test set Jaccard for k=   6 : 0.44144144144144143\n",
      "Test set F1 for k=  6 : 0.6125\n"
     ]
    }
   ],
   "source": [
    "from sklearn.metrics import accuracy_score\n",
    "from sklearn.neighbors import KNeighborsClassifier\n",
    "k = 6\n",
    "neigh_knn_test_6 = KNeighborsClassifier(n_neighbors = k).fit(X_train,y_train)\n",
    "yhat_knn_test_6=neigh_knn_test_6.predict(test_X)\n",
    "\n",
    "print( \"\\033[1m KNN:  we use k=6 as found with evaluation set \\033[0m\")\n",
    "print(\"Test set Accuracy for k= \",k,\":\", accuracy_score(test_y, yhat_knn_test_6))\n",
    "print(\"Test set Jaccard for k=  \",k,\":\", jaccard_index(yhat_knn_test_6, test_y))\n",
    "print(\"Test set F1 for k= \",k,\":\", f1_score(test_y, yhat_knn_test_6, average='micro'))"
   ]
  },
  {
   "cell_type": "code",
   "execution_count": 31,
   "metadata": {},
   "outputs": [
    {
     "data": {
      "text/html": [
       "<div>\n",
       "<style scoped>\n",
       "    .dataframe tbody tr th:only-of-type {\n",
       "        vertical-align: middle;\n",
       "    }\n",
       "\n",
       "    .dataframe tbody tr th {\n",
       "        vertical-align: top;\n",
       "    }\n",
       "\n",
       "    .dataframe thead th {\n",
       "        text-align: right;\n",
       "    }\n",
       "</style>\n",
       "<table border=\"1\" class=\"dataframe\">\n",
       "  <thead>\n",
       "    <tr style=\"text-align: right;\">\n",
       "      <th></th>\n",
       "      <th>k</th>\n",
       "      <th>accuracy</th>\n",
       "      <th>jaccard</th>\n",
       "      <th>f1_micro</th>\n",
       "    </tr>\n",
       "  </thead>\n",
       "  <tbody>\n",
       "    <tr>\n",
       "      <th>0</th>\n",
       "      <td>1.0</td>\n",
       "      <td>0.8250</td>\n",
       "      <td>0.702128</td>\n",
       "      <td>0.8250</td>\n",
       "    </tr>\n",
       "    <tr>\n",
       "      <th>2</th>\n",
       "      <td>3.0</td>\n",
       "      <td>0.6875</td>\n",
       "      <td>0.523810</td>\n",
       "      <td>0.6875</td>\n",
       "    </tr>\n",
       "    <tr>\n",
       "      <th>3</th>\n",
       "      <td>4.0</td>\n",
       "      <td>0.6625</td>\n",
       "      <td>0.495327</td>\n",
       "      <td>0.6625</td>\n",
       "    </tr>\n",
       "    <tr>\n",
       "      <th>4</th>\n",
       "      <td>5.0</td>\n",
       "      <td>0.6500</td>\n",
       "      <td>0.481481</td>\n",
       "      <td>0.6500</td>\n",
       "    </tr>\n",
       "    <tr>\n",
       "      <th>1</th>\n",
       "      <td>2.0</td>\n",
       "      <td>0.6375</td>\n",
       "      <td>0.467890</td>\n",
       "      <td>0.6375</td>\n",
       "    </tr>\n",
       "  </tbody>\n",
       "</table>\n",
       "</div>"
      ],
      "text/plain": [
       "     k  accuracy   jaccard  f1_micro\n",
       "0  1.0    0.8250  0.702128    0.8250\n",
       "2  3.0    0.6875  0.523810    0.6875\n",
       "3  4.0    0.6625  0.495327    0.6625\n",
       "4  5.0    0.6500  0.481481    0.6500\n",
       "1  2.0    0.6375  0.467890    0.6375"
      ]
     },
     "metadata": {},
     "output_type": "display_data"
    },
    {
     "data": {
      "text/html": [
       "<div>\n",
       "<style scoped>\n",
       "    .dataframe tbody tr th:only-of-type {\n",
       "        vertical-align: middle;\n",
       "    }\n",
       "\n",
       "    .dataframe tbody tr th {\n",
       "        vertical-align: top;\n",
       "    }\n",
       "\n",
       "    .dataframe thead th {\n",
       "        text-align: right;\n",
       "    }\n",
       "</style>\n",
       "<table border=\"1\" class=\"dataframe\">\n",
       "  <thead>\n",
       "    <tr style=\"text-align: right;\">\n",
       "      <th></th>\n",
       "      <th>k</th>\n",
       "      <th>accuracy</th>\n",
       "      <th>jaccard</th>\n",
       "      <th>f1_micro</th>\n",
       "    </tr>\n",
       "  </thead>\n",
       "  <tbody>\n",
       "    <tr>\n",
       "      <th>0</th>\n",
       "      <td>1.0</td>\n",
       "      <td>0.8250</td>\n",
       "      <td>0.702128</td>\n",
       "      <td>0.8250</td>\n",
       "    </tr>\n",
       "    <tr>\n",
       "      <th>2</th>\n",
       "      <td>3.0</td>\n",
       "      <td>0.6875</td>\n",
       "      <td>0.523810</td>\n",
       "      <td>0.6875</td>\n",
       "    </tr>\n",
       "    <tr>\n",
       "      <th>3</th>\n",
       "      <td>4.0</td>\n",
       "      <td>0.6625</td>\n",
       "      <td>0.495327</td>\n",
       "      <td>0.6625</td>\n",
       "    </tr>\n",
       "    <tr>\n",
       "      <th>4</th>\n",
       "      <td>5.0</td>\n",
       "      <td>0.6500</td>\n",
       "      <td>0.481481</td>\n",
       "      <td>0.6500</td>\n",
       "    </tr>\n",
       "    <tr>\n",
       "      <th>1</th>\n",
       "      <td>2.0</td>\n",
       "      <td>0.6375</td>\n",
       "      <td>0.467890</td>\n",
       "      <td>0.6375</td>\n",
       "    </tr>\n",
       "  </tbody>\n",
       "</table>\n",
       "</div>"
      ],
      "text/plain": [
       "     k  accuracy   jaccard  f1_micro\n",
       "0  1.0    0.8250  0.702128    0.8250\n",
       "2  3.0    0.6875  0.523810    0.6875\n",
       "3  4.0    0.6625  0.495327    0.6625\n",
       "4  5.0    0.6500  0.481481    0.6500\n",
       "1  2.0    0.6375  0.467890    0.6375"
      ]
     },
     "metadata": {},
     "output_type": "display_data"
    },
    {
     "data": {
      "text/html": [
       "<div>\n",
       "<style scoped>\n",
       "    .dataframe tbody tr th:only-of-type {\n",
       "        vertical-align: middle;\n",
       "    }\n",
       "\n",
       "    .dataframe tbody tr th {\n",
       "        vertical-align: top;\n",
       "    }\n",
       "\n",
       "    .dataframe thead th {\n",
       "        text-align: right;\n",
       "    }\n",
       "</style>\n",
       "<table border=\"1\" class=\"dataframe\">\n",
       "  <thead>\n",
       "    <tr style=\"text-align: right;\">\n",
       "      <th></th>\n",
       "      <th>k</th>\n",
       "      <th>accuracy</th>\n",
       "      <th>jaccard</th>\n",
       "      <th>f1_micro</th>\n",
       "    </tr>\n",
       "  </thead>\n",
       "  <tbody>\n",
       "    <tr>\n",
       "      <th>0</th>\n",
       "      <td>1.0</td>\n",
       "      <td>0.8250</td>\n",
       "      <td>0.702128</td>\n",
       "      <td>0.8250</td>\n",
       "    </tr>\n",
       "    <tr>\n",
       "      <th>2</th>\n",
       "      <td>3.0</td>\n",
       "      <td>0.6875</td>\n",
       "      <td>0.523810</td>\n",
       "      <td>0.6875</td>\n",
       "    </tr>\n",
       "    <tr>\n",
       "      <th>3</th>\n",
       "      <td>4.0</td>\n",
       "      <td>0.6625</td>\n",
       "      <td>0.495327</td>\n",
       "      <td>0.6625</td>\n",
       "    </tr>\n",
       "    <tr>\n",
       "      <th>4</th>\n",
       "      <td>5.0</td>\n",
       "      <td>0.6500</td>\n",
       "      <td>0.481481</td>\n",
       "      <td>0.6500</td>\n",
       "    </tr>\n",
       "    <tr>\n",
       "      <th>1</th>\n",
       "      <td>2.0</td>\n",
       "      <td>0.6375</td>\n",
       "      <td>0.467890</td>\n",
       "      <td>0.6375</td>\n",
       "    </tr>\n",
       "  </tbody>\n",
       "</table>\n",
       "</div>"
      ],
      "text/plain": [
       "     k  accuracy   jaccard  f1_micro\n",
       "0  1.0    0.8250  0.702128    0.8250\n",
       "2  3.0    0.6875  0.523810    0.6875\n",
       "3  4.0    0.6625  0.495327    0.6625\n",
       "4  5.0    0.6500  0.481481    0.6500\n",
       "1  2.0    0.6375  0.467890    0.6375"
      ]
     },
     "metadata": {},
     "output_type": "display_data"
    }
   ],
   "source": [
    "#THIS IS EXTRA: for verification purposes we run also k=1-15\n",
    "\n",
    "acc_df_knn_test=pd.DataFrame(columns=['k', 'accuracy', 'jaccard', 'f1_micro']) \n",
    "\n",
    "for k in range(15):\n",
    "    neigh_knn_test = KNeighborsClassifier(n_neighbors = k+1).fit(X_train,y_train)\n",
    "    yhat_knn_test=neigh_knn_test.predict(test_X)\n",
    "    \n",
    "    acc_knn_test=accuracy_score(test_y, yhat_knn_test)\n",
    "    jac_knn_test= jaccard_index(yhat_knn_test, test_y)\n",
    "    f1_knn_test=f1_score(test_y, yhat_knn_test, average='micro')\n",
    "\n",
    "    acc_df_knn_test=acc_df_knn_test.append({'k':k+1, 'accuracy': acc_knn_test, 'jaccard': jac_knn_test, \\\n",
    "                                            'f1_micro': f1_knn_test}, ignore_index = True)\n",
    "\n",
    "\n",
    "acc_df_knn_test.sort_values(by='accuracy', ascending=False, inplace=True)\n",
    "display(acc_df_knn_test.head())\n",
    "\n",
    "acc_df_knn_test.sort_values(by='jaccard', ascending=False, inplace=True)\n",
    "display(acc_df_knn_test.head())\n",
    "\n",
    "acc_df_knn_test.sort_values(by='f1_micro', ascending=False, inplace=True)\n",
    "display(acc_df_knn_test.head())\n",
    "\n"
   ]
  },
  {
   "cell_type": "markdown",
   "metadata": {},
   "source": [
    "**KNN-Conclusions** For k=1 we get best values, but given that low k are prone to overfitting, we should try to train on a grid-search and re run for the test set to see what is going on. **k=3 is clearly the best of the rest. Our k=6 from the trained model did well but not as much** "
   ]
  },
  {
   "cell_type": "markdown",
   "metadata": {},
   "source": [
    "Decision Tree\n"
   ]
  },
  {
   "cell_type": "code",
   "execution_count": 32,
   "metadata": {},
   "outputs": [
    {
     "name": "stdout",
     "output_type": "stream",
     "text": [
      "for the trained set we had max depth 2 as the best. Lets use those\n",
      "\n",
      "\u001b[1m we use max depth=2 as found with evaluation set \u001b[0m\n",
      " Accuracy for maxdepth=2 0.75\n",
      "Jaccard for maxdepth=2 0.6\n",
      "F1 for maxdepth =2 0.75\n"
     ]
    }
   ],
   "source": [
    "print(\"for the trained set we had max depth 2 as the best. Lets use those\\n\")\n",
    "\n",
    "    \n",
    "BBTree_test2 = DecisionTreeClassifier(criterion=\"entropy\", max_depth = 2, random_state=0)\n",
    "BBTree_test2.fit(X_train,y_train)\n",
    "yhat_tree_test2=BBTree_test2.predict(test_X)\n",
    "    \n",
    "print( \"\\033[1m we use max depth=2 as found with evaluation set \\033[0m\")\n",
    "print(\" Accuracy for maxdepth=2\",accuracy_score(test_y, yhat_tree_test2))\n",
    "print(\"Jaccard for maxdepth=2\",jaccard_index(yhat_tree_test2, test_y))\n",
    "print(\"F1 for maxdepth =2\", f1_score(test_y, yhat_tree_test2,average='micro'))\n",
    "    \n",
    "    "
   ]
  },
  {
   "cell_type": "code",
   "execution_count": 33,
   "metadata": {
    "scrolled": true
   },
   "outputs": [
    {
     "data": {
      "text/html": [
       "<div>\n",
       "<style scoped>\n",
       "    .dataframe tbody tr th:only-of-type {\n",
       "        vertical-align: middle;\n",
       "    }\n",
       "\n",
       "    .dataframe tbody tr th {\n",
       "        vertical-align: top;\n",
       "    }\n",
       "\n",
       "    .dataframe thead th {\n",
       "        text-align: right;\n",
       "    }\n",
       "</style>\n",
       "<table border=\"1\" class=\"dataframe\">\n",
       "  <thead>\n",
       "    <tr style=\"text-align: right;\">\n",
       "      <th></th>\n",
       "      <th>maxdepth</th>\n",
       "      <th>accuracy</th>\n",
       "      <th>jaccard</th>\n",
       "      <th>f1_micro</th>\n",
       "    </tr>\n",
       "  </thead>\n",
       "  <tbody>\n",
       "    <tr>\n",
       "      <th>5</th>\n",
       "      <td>6.0</td>\n",
       "      <td>0.8125</td>\n",
       "      <td>0.684211</td>\n",
       "      <td>0.8125</td>\n",
       "    </tr>\n",
       "    <tr>\n",
       "      <th>4</th>\n",
       "      <td>5.0</td>\n",
       "      <td>0.8000</td>\n",
       "      <td>0.666667</td>\n",
       "      <td>0.8000</td>\n",
       "    </tr>\n",
       "    <tr>\n",
       "      <th>6</th>\n",
       "      <td>7.0</td>\n",
       "      <td>0.8000</td>\n",
       "      <td>0.666667</td>\n",
       "      <td>0.8000</td>\n",
       "    </tr>\n",
       "    <tr>\n",
       "      <th>7</th>\n",
       "      <td>8.0</td>\n",
       "      <td>0.7875</td>\n",
       "      <td>0.649485</td>\n",
       "      <td>0.7875</td>\n",
       "    </tr>\n",
       "    <tr>\n",
       "      <th>8</th>\n",
       "      <td>9.0</td>\n",
       "      <td>0.7875</td>\n",
       "      <td>0.649485</td>\n",
       "      <td>0.7875</td>\n",
       "    </tr>\n",
       "    <tr>\n",
       "      <th>9</th>\n",
       "      <td>10.0</td>\n",
       "      <td>0.7875</td>\n",
       "      <td>0.649485</td>\n",
       "      <td>0.7875</td>\n",
       "    </tr>\n",
       "    <tr>\n",
       "      <th>3</th>\n",
       "      <td>4.0</td>\n",
       "      <td>0.7625</td>\n",
       "      <td>0.616162</td>\n",
       "      <td>0.7625</td>\n",
       "    </tr>\n",
       "    <tr>\n",
       "      <th>1</th>\n",
       "      <td>2.0</td>\n",
       "      <td>0.7500</td>\n",
       "      <td>0.600000</td>\n",
       "      <td>0.7500</td>\n",
       "    </tr>\n",
       "    <tr>\n",
       "      <th>2</th>\n",
       "      <td>3.0</td>\n",
       "      <td>0.7500</td>\n",
       "      <td>0.600000</td>\n",
       "      <td>0.7500</td>\n",
       "    </tr>\n",
       "    <tr>\n",
       "      <th>0</th>\n",
       "      <td>1.0</td>\n",
       "      <td>0.6625</td>\n",
       "      <td>0.495327</td>\n",
       "      <td>0.6625</td>\n",
       "    </tr>\n",
       "  </tbody>\n",
       "</table>\n",
       "</div>"
      ],
      "text/plain": [
       "   maxdepth  accuracy   jaccard  f1_micro\n",
       "5       6.0    0.8125  0.684211    0.8125\n",
       "4       5.0    0.8000  0.666667    0.8000\n",
       "6       7.0    0.8000  0.666667    0.8000\n",
       "7       8.0    0.7875  0.649485    0.7875\n",
       "8       9.0    0.7875  0.649485    0.7875\n",
       "9      10.0    0.7875  0.649485    0.7875\n",
       "3       4.0    0.7625  0.616162    0.7625\n",
       "1       2.0    0.7500  0.600000    0.7500\n",
       "2       3.0    0.7500  0.600000    0.7500\n",
       "0       1.0    0.6625  0.495327    0.6625"
      ]
     },
     "metadata": {},
     "output_type": "display_data"
    },
    {
     "data": {
      "text/html": [
       "<div>\n",
       "<style scoped>\n",
       "    .dataframe tbody tr th:only-of-type {\n",
       "        vertical-align: middle;\n",
       "    }\n",
       "\n",
       "    .dataframe tbody tr th {\n",
       "        vertical-align: top;\n",
       "    }\n",
       "\n",
       "    .dataframe thead th {\n",
       "        text-align: right;\n",
       "    }\n",
       "</style>\n",
       "<table border=\"1\" class=\"dataframe\">\n",
       "  <thead>\n",
       "    <tr style=\"text-align: right;\">\n",
       "      <th></th>\n",
       "      <th>maxdepth</th>\n",
       "      <th>accuracy</th>\n",
       "      <th>jaccard</th>\n",
       "      <th>f1_micro</th>\n",
       "    </tr>\n",
       "  </thead>\n",
       "  <tbody>\n",
       "    <tr>\n",
       "      <th>5</th>\n",
       "      <td>6.0</td>\n",
       "      <td>0.8125</td>\n",
       "      <td>0.684211</td>\n",
       "      <td>0.8125</td>\n",
       "    </tr>\n",
       "    <tr>\n",
       "      <th>4</th>\n",
       "      <td>5.0</td>\n",
       "      <td>0.8000</td>\n",
       "      <td>0.666667</td>\n",
       "      <td>0.8000</td>\n",
       "    </tr>\n",
       "    <tr>\n",
       "      <th>6</th>\n",
       "      <td>7.0</td>\n",
       "      <td>0.8000</td>\n",
       "      <td>0.666667</td>\n",
       "      <td>0.8000</td>\n",
       "    </tr>\n",
       "    <tr>\n",
       "      <th>7</th>\n",
       "      <td>8.0</td>\n",
       "      <td>0.7875</td>\n",
       "      <td>0.649485</td>\n",
       "      <td>0.7875</td>\n",
       "    </tr>\n",
       "    <tr>\n",
       "      <th>8</th>\n",
       "      <td>9.0</td>\n",
       "      <td>0.7875</td>\n",
       "      <td>0.649485</td>\n",
       "      <td>0.7875</td>\n",
       "    </tr>\n",
       "    <tr>\n",
       "      <th>9</th>\n",
       "      <td>10.0</td>\n",
       "      <td>0.7875</td>\n",
       "      <td>0.649485</td>\n",
       "      <td>0.7875</td>\n",
       "    </tr>\n",
       "    <tr>\n",
       "      <th>3</th>\n",
       "      <td>4.0</td>\n",
       "      <td>0.7625</td>\n",
       "      <td>0.616162</td>\n",
       "      <td>0.7625</td>\n",
       "    </tr>\n",
       "    <tr>\n",
       "      <th>1</th>\n",
       "      <td>2.0</td>\n",
       "      <td>0.7500</td>\n",
       "      <td>0.600000</td>\n",
       "      <td>0.7500</td>\n",
       "    </tr>\n",
       "    <tr>\n",
       "      <th>2</th>\n",
       "      <td>3.0</td>\n",
       "      <td>0.7500</td>\n",
       "      <td>0.600000</td>\n",
       "      <td>0.7500</td>\n",
       "    </tr>\n",
       "    <tr>\n",
       "      <th>0</th>\n",
       "      <td>1.0</td>\n",
       "      <td>0.6625</td>\n",
       "      <td>0.495327</td>\n",
       "      <td>0.6625</td>\n",
       "    </tr>\n",
       "  </tbody>\n",
       "</table>\n",
       "</div>"
      ],
      "text/plain": [
       "   maxdepth  accuracy   jaccard  f1_micro\n",
       "5       6.0    0.8125  0.684211    0.8125\n",
       "4       5.0    0.8000  0.666667    0.8000\n",
       "6       7.0    0.8000  0.666667    0.8000\n",
       "7       8.0    0.7875  0.649485    0.7875\n",
       "8       9.0    0.7875  0.649485    0.7875\n",
       "9      10.0    0.7875  0.649485    0.7875\n",
       "3       4.0    0.7625  0.616162    0.7625\n",
       "1       2.0    0.7500  0.600000    0.7500\n",
       "2       3.0    0.7500  0.600000    0.7500\n",
       "0       1.0    0.6625  0.495327    0.6625"
      ]
     },
     "metadata": {},
     "output_type": "display_data"
    },
    {
     "data": {
      "text/html": [
       "<div>\n",
       "<style scoped>\n",
       "    .dataframe tbody tr th:only-of-type {\n",
       "        vertical-align: middle;\n",
       "    }\n",
       "\n",
       "    .dataframe tbody tr th {\n",
       "        vertical-align: top;\n",
       "    }\n",
       "\n",
       "    .dataframe thead th {\n",
       "        text-align: right;\n",
       "    }\n",
       "</style>\n",
       "<table border=\"1\" class=\"dataframe\">\n",
       "  <thead>\n",
       "    <tr style=\"text-align: right;\">\n",
       "      <th></th>\n",
       "      <th>maxdepth</th>\n",
       "      <th>accuracy</th>\n",
       "      <th>jaccard</th>\n",
       "      <th>f1_micro</th>\n",
       "    </tr>\n",
       "  </thead>\n",
       "  <tbody>\n",
       "    <tr>\n",
       "      <th>5</th>\n",
       "      <td>6.0</td>\n",
       "      <td>0.8125</td>\n",
       "      <td>0.684211</td>\n",
       "      <td>0.8125</td>\n",
       "    </tr>\n",
       "    <tr>\n",
       "      <th>4</th>\n",
       "      <td>5.0</td>\n",
       "      <td>0.8000</td>\n",
       "      <td>0.666667</td>\n",
       "      <td>0.8000</td>\n",
       "    </tr>\n",
       "    <tr>\n",
       "      <th>6</th>\n",
       "      <td>7.0</td>\n",
       "      <td>0.8000</td>\n",
       "      <td>0.666667</td>\n",
       "      <td>0.8000</td>\n",
       "    </tr>\n",
       "    <tr>\n",
       "      <th>7</th>\n",
       "      <td>8.0</td>\n",
       "      <td>0.7875</td>\n",
       "      <td>0.649485</td>\n",
       "      <td>0.7875</td>\n",
       "    </tr>\n",
       "    <tr>\n",
       "      <th>8</th>\n",
       "      <td>9.0</td>\n",
       "      <td>0.7875</td>\n",
       "      <td>0.649485</td>\n",
       "      <td>0.7875</td>\n",
       "    </tr>\n",
       "    <tr>\n",
       "      <th>9</th>\n",
       "      <td>10.0</td>\n",
       "      <td>0.7875</td>\n",
       "      <td>0.649485</td>\n",
       "      <td>0.7875</td>\n",
       "    </tr>\n",
       "    <tr>\n",
       "      <th>3</th>\n",
       "      <td>4.0</td>\n",
       "      <td>0.7625</td>\n",
       "      <td>0.616162</td>\n",
       "      <td>0.7625</td>\n",
       "    </tr>\n",
       "    <tr>\n",
       "      <th>1</th>\n",
       "      <td>2.0</td>\n",
       "      <td>0.7500</td>\n",
       "      <td>0.600000</td>\n",
       "      <td>0.7500</td>\n",
       "    </tr>\n",
       "    <tr>\n",
       "      <th>2</th>\n",
       "      <td>3.0</td>\n",
       "      <td>0.7500</td>\n",
       "      <td>0.600000</td>\n",
       "      <td>0.7500</td>\n",
       "    </tr>\n",
       "    <tr>\n",
       "      <th>0</th>\n",
       "      <td>1.0</td>\n",
       "      <td>0.6625</td>\n",
       "      <td>0.495327</td>\n",
       "      <td>0.6625</td>\n",
       "    </tr>\n",
       "  </tbody>\n",
       "</table>\n",
       "</div>"
      ],
      "text/plain": [
       "   maxdepth  accuracy   jaccard  f1_micro\n",
       "5       6.0    0.8125  0.684211    0.8125\n",
       "4       5.0    0.8000  0.666667    0.8000\n",
       "6       7.0    0.8000  0.666667    0.8000\n",
       "7       8.0    0.7875  0.649485    0.7875\n",
       "8       9.0    0.7875  0.649485    0.7875\n",
       "9      10.0    0.7875  0.649485    0.7875\n",
       "3       4.0    0.7625  0.616162    0.7625\n",
       "1       2.0    0.7500  0.600000    0.7500\n",
       "2       3.0    0.7500  0.600000    0.7500\n",
       "0       1.0    0.6625  0.495327    0.6625"
      ]
     },
     "metadata": {},
     "output_type": "display_data"
    }
   ],
   "source": [
    "#THIS IS EXTRA: for verification purposes\n",
    "acc_df_tree_test=pd.DataFrame(columns=['maxdepth', 'accuracy','jaccard', 'f1_micro']) #define dataframe to store \n",
    "\n",
    "for mxd in range(10):\n",
    "    BBTree_test = DecisionTreeClassifier(criterion=\"entropy\", max_depth = mxd+1, random_state=0)\n",
    "    BBTree_test.fit(X_train,y_train)\n",
    "    yhat_tree_test=BBTree_test.predict(test_X)\n",
    "    \n",
    "    acc_tree_test=accuracy_score(test_y, yhat_tree_test)\n",
    "    jac_tree_test= jaccard_index(yhat_tree_test, test_y)\n",
    "    f1_tree_test=f1_score(test_y, yhat_tree_test, average='micro')\n",
    "\n",
    "    acc_df_tree_test=acc_df_tree_test.append({'maxdepth': mxd+1, 'accuracy': acc_tree_test, 'jaccard': jac_tree_test, \\\n",
    "                                            'f1_micro': f1_tree_test}, ignore_index = True)\n",
    "\n",
    "\n",
    "acc_df_tree_test.sort_values(by='accuracy', ascending=False, inplace=True)\n",
    "display(acc_df_tree_test.head(15))\n",
    "\n",
    "acc_df_tree_test.sort_values(by='jaccard', ascending=False, inplace=True)\n",
    "display(acc_df_tree_test.head(15))\n",
    "\n",
    "acc_df_tree_test.sort_values(by='f1_micro', ascending=False, inplace=True)\n",
    "display(acc_df_tree_test.head(15))\n"
   ]
  },
  {
   "cell_type": "markdown",
   "metadata": {},
   "source": [
    "**Decision-Tree Conclusion**: Although maxdepth 2 gave best results for training-evaluation and gini, for all depths 2-10 we had the same accuracy for entropy. This was already a bit suspicious as depth 2 was low for this number of features. For the test max depth 6,5,7 do a better job. But the point of training and evaluating is to use is for prediction on a test. The test set cannot be used as is for deciding to use max depth 6,5 7 over initial  2. One should go back and retrain the model probably with a Grid search on the original train,evaluation data and then check again with the test. \n",
    "\n",
    "Max depth 2 gave good results in general though, pretty close to the rest. Jaccard results are approx 8% less and accuracy 6% less"
   ]
  },
  {
   "cell_type": "markdown",
   "metadata": {},
   "source": [
    "SVM\n"
   ]
  },
  {
   "cell_type": "code",
   "execution_count": 34,
   "metadata": {},
   "outputs": [
    {
     "name": "stdout",
     "output_type": "stream",
     "text": [
      "for the trained set we had linear method as the best. Lets use this\n",
      "\n"
     ]
    },
    {
     "ename": "NameError",
     "evalue": "name 'clf_test_poly' is not defined",
     "output_type": "error",
     "traceback": [
      "\u001b[0;31m---------------------------------------------------------------------------\u001b[0m",
      "\u001b[0;31mNameError\u001b[0m                                 Traceback (most recent call last)",
      "\u001b[0;32m<ipython-input-34-fee54a281bbd>\u001b[0m in \u001b[0;36m<module>\u001b[0;34m\u001b[0m\n\u001b[1;32m      2\u001b[0m \u001b[0mclf_test_lin\u001b[0m \u001b[0;34m=\u001b[0m \u001b[0msvm\u001b[0m\u001b[0;34m.\u001b[0m\u001b[0mSVC\u001b[0m\u001b[0;34m(\u001b[0m\u001b[0mkernel\u001b[0m\u001b[0;34m=\u001b[0m\u001b[0;34m'linear'\u001b[0m\u001b[0;34m)\u001b[0m\u001b[0;34m\u001b[0m\u001b[0;34m\u001b[0m\u001b[0m\n\u001b[1;32m      3\u001b[0m \u001b[0mclf_test_lin\u001b[0m\u001b[0;34m.\u001b[0m\u001b[0mfit\u001b[0m\u001b[0;34m(\u001b[0m\u001b[0mX_train\u001b[0m\u001b[0;34m,\u001b[0m \u001b[0my_train\u001b[0m\u001b[0;34m)\u001b[0m\u001b[0;34m\u001b[0m\u001b[0;34m\u001b[0m\u001b[0m\n\u001b[0;32m----> 4\u001b[0;31m \u001b[0myhat_svm_test_lin\u001b[0m \u001b[0;34m=\u001b[0m \u001b[0mclf_test_poly\u001b[0m\u001b[0;34m.\u001b[0m\u001b[0mpredict\u001b[0m\u001b[0;34m(\u001b[0m\u001b[0mtest_X\u001b[0m\u001b[0;34m)\u001b[0m\u001b[0;34m\u001b[0m\u001b[0;34m\u001b[0m\u001b[0m\n\u001b[0m\u001b[1;32m      5\u001b[0m \u001b[0;34m\u001b[0m\u001b[0m\n\u001b[1;32m      6\u001b[0m \u001b[0mprint\u001b[0m\u001b[0;34m(\u001b[0m \u001b[0;34m\"\\033[1m we use method linear as found with evaluation set \\033[0m\"\u001b[0m\u001b[0;34m)\u001b[0m\u001b[0;34m\u001b[0m\u001b[0;34m\u001b[0m\u001b[0m\n",
      "\u001b[0;31mNameError\u001b[0m: name 'clf_test_poly' is not defined"
     ]
    }
   ],
   "source": [
    "print(\"for the trained set we had linear method as the best. Lets use this\\n\")\n",
    "clf_test_lin = svm.SVC(kernel='linear')\n",
    "clf_test_lin.fit(X_train, y_train) \n",
    "yhat_svm_test_lin = clf_test_poly.predict(test_X)\n",
    "    \n",
    "print( \"\\033[1m we use method linear as found with evaluation set \\033[0m\")\n",
    "print(\" Accuracy \",accuracy_score(test_y, yhat_svm_test_lin))\n",
    "print(\"Jaccard\",jaccard_index(yhat_svm_test_lin, test_y))\n",
    "print(\"F1\", f1_score(test_y, yhat_svm_test_lin, average='micro'))"
   ]
  },
  {
   "cell_type": "code",
   "execution_count": null,
   "metadata": {},
   "outputs": [],
   "source": [
    "#THIS IS EXTRA: for verification purposes\n",
    "\n",
    "kernels=[\"linear\", \"rbf\", \"poly\", \"sigmoid\"]\n",
    "acc_df_svm_test=pd.DataFrame(columns=['kernel', 'accuracy','jaccard', 'f1_micro'])\n",
    "\n",
    "for iter, kernel in enumerate(kernels):\n",
    "    clf_test = svm.SVC(kernel=kernel)\n",
    "    clf_test.fit(X_train, y_train) \n",
    "    yhat_svm_test = clf_test.predict(test_X)\n",
    "    \n",
    "    acc_svm_test=accuracy_score(test_y, yhat_svm_test)\n",
    "    jac_svm_test= jaccard_index(yhat_svm_test, test_y)\n",
    "    f1_svm_test=f1_score(test_y, yhat_svm_test,average='micro')\n",
    "\n",
    "    acc_df_svm_test=acc_df_svm_test.append({'kernel': kernel, 'accuracy': acc_svm_test, 'jaccard': jac_svm_test, \\\n",
    "                                            'f1_micro': f1_svm_test}, ignore_index = True)\n",
    "\n",
    "\n",
    "acc_df_svm_test.sort_values(by='accuracy', ascending=False, inplace=True)\n",
    "display(acc_df_svm_test.head(15))\n",
    "\n",
    "acc_df_svm_test.sort_values(by='jaccard', ascending=False, inplace=True)\n",
    "display(acc_df_svm_test.head())\n",
    "\n",
    "acc_df_svm_test.sort_values(by='f1_micro', ascending=False, inplace=True)\n",
    "display(acc_df_svm_test.head())\n",
    "\n",
    "    \n"
   ]
  },
  {
   "cell_type": "markdown",
   "metadata": {},
   "source": [
    "**SVM Conclusion**: Again  linear, is the best"
   ]
  },
  {
   "cell_type": "markdown",
   "metadata": {},
   "source": [
    "Logistic Regression\n"
   ]
  },
  {
   "cell_type": "code",
   "execution_count": null,
   "metadata": {},
   "outputs": [],
   "source": [
    "print(\"For training the saga solver gave the best result\\n\")\n",
    "LR_test_saga=LogisticRegression(C=0.01, solver='saga')\n",
    "LR_test_saga.fit(X_train,y_train)\n",
    "yhat_lr_test_saga = LR_test_saga.predict(test_X)\n",
    "yhat_prob_test_saga = LR_test_saga.predict_proba(test_X)\n",
    "    \n",
    "    \n",
    "print( \"\\033[1m we use solver saga as found with evaluation set \\033[0m\")\n",
    "print(\" Accuracy \",accuracy_score(test_y, yhat_lr_test_saga))\n",
    "print(\"Jaccard\",jaccard_index(yhat_lr_test_saga, test_y))\n",
    "print(\"F1\", f1_score(test_y, yhat_lr_test_saga, average='micro'))\n",
    "print(\"Log-loss\", log_loss(test_y, yhat_prob_test_saga))"
   ]
  },
  {
   "cell_type": "code",
   "execution_count": null,
   "metadata": {
    "scrolled": true
   },
   "outputs": [],
   "source": [
    "#THIS IS EXTRA: for verification purposes\n",
    "\n",
    "#check test set based on all solvers\n",
    "solvers=[\"newton-cg\", \"lbfgs\", \"liblinear\", \"sag\", \"saga\" ]\n",
    "acc_df_lr_test=pd.DataFrame(columns=['solver', 'accuracy', 'jaccard', 'f1_micro','log-loss']) \n",
    "\n",
    "for iter, solver in enumerate(solvers):\n",
    "    LR_test=LogisticRegression(C=0.01, solver=solver, random_state=0)\n",
    "    LR_test.fit(X_train,y_train)\n",
    "    yhat_lr_test = LR_test.predict(test_X)\n",
    "    yhat_prob_test = LR_test.predict_proba(test_X)\n",
    "    \n",
    "    logloss=log_loss(test_y, yhat_prob_test)\n",
    "    acc_lr_test=accuracy_score(test_y, yhat_lr_test)\n",
    "    jac_lr_test= jaccard_index(yhat_lr_test, test_y)\n",
    "    f1_lr_test=f1_score(test_y, yhat_lr_test, average='micro')\n",
    "\n",
    "    acc_df_lr_test=acc_df_lr_test.append({'solver': solver, 'accuracy': acc_lr_test, 'jaccard': jac_lr_test, \\\n",
    "                                            'f1_micro': f1_lr_test, 'log-loss':logloss}, ignore_index = True)\n",
    "\n",
    "\n",
    "acc_df_lr_test.sort_values(by='accuracy', ascending=False, inplace=True)\n",
    "display(acc_df_lr_test.head())\n",
    "\n",
    "acc_df_lr_test.sort_values(by='jaccard', ascending=False, inplace=True)\n",
    "display(acc_df_lr_test.head())\n",
    "\n",
    "acc_df_lr_test.sort_values(by='f1_micro', ascending=False, inplace=True)\n",
    "display(acc_df_lr_test.head())\n",
    "\n",
    "acc_df_lr_test.sort_values(by='log-loss', ascending=True, inplace=True)\n",
    "display(acc_df_lr_test.head())\n",
    "\n",
    "    "
   ]
  },
  {
   "cell_type": "markdown",
   "metadata": {},
   "source": [
    "**Logistic Regression**: Liblinear scored max on accuracy, Jaccard and F1. Saga did the second best in all scores (same as the rest of the methods)\n",
    "But saga did clearly better than liblinear in logloss. Original choice of Saga was based on tie with liblinear and all other solvers in the training set, but clear advantage in log-loss. Here we see that liblinear seems to outperform all solvers in accuracy, but still ranks last in logloss\n",
    "\n",
    "Given that accuracy of saga is still good (>55%) and logloss minimum, saga seems good for test data"
   ]
  },
  {
   "cell_type": "markdown",
   "metadata": {},
   "source": [
    "# Report\n",
    "\n",
    "You should be able to report the accuracy of the built model using different evaluation metrics:\n"
   ]
  },
  {
   "cell_type": "markdown",
   "metadata": {},
   "source": [
    "| Algorithm          | Accuracy | Jaccard  | F1-score  | LogLoss |\n",
    "|--------------------|----------|----------|-----------|---------|\n",
    "| KNN  (k=6)         | 0.6125   | 0.441441 | 0.6125    | NA      |\n",
    "| Decision Tree(dp=2)| 0.750000 | 0.600000 | 0.750000  | NA      |\n",
    "| SVM   (linear)     | 0.787500 | 0.649484 | 0.787500  | NA      |\n",
    "| LogisticRegression | 0.612500 | 0.441441 | 0.612500  |0.897210 |\n",
    "saga"
   ]
  },
  {
   "cell_type": "markdown",
   "metadata": {},
   "source": [
    "Best performers on given test\n",
    "\n",
    "\n",
    "\n",
    "| Algorithm          | Accuracy | Jaccard  | F1-score  | LogLoss |\n",
    "|--------------------|----------|----------|-----------|---------|\n",
    "| KNN  (k=3)         | 0.687500 | 0.523881 | 0.687500  | NA      |\n",
    "| Decision Tree(dp=6)| 0.812500 | 0.684211 | 0.812500  | NA      |\n",
    "| SVM   (linear)     | 0.787500 | 0.649484 | 0.787500  | NA      |\n",
    "| LogisticRegression | 0.637500 | 0.467889 | 0.637500  |0.999444 |\n",
    "liblinear\n",
    "\n",
    "**Summary**\n",
    "\n",
    "**KNN-Conclusions** For k=1 we get best values, but given that low k are prone to overfitting, we should try to train on a grid-search and re run for the test set to see what is going on. **k=3 is clearly the best of the rest. Our k=6 from the trained model did well but not as much** \n",
    "\n",
    "**Decision-Tree Conclusion**: Although maxdepth 2 gave best results for training-evaluation and gini, for all depths 2-10 we had the same accuracy for entropy. This was already a bit suspicious as depth 2 was low for this number of features. For the test max depth 6,5,7 do a better job. But the point of training and evaluating is to use is for prediction on a test. The test set cannot be used as is for deciding to use max depth 6,5 7 over initial  2. One should go back and retrain the model probably with a Grid search on the original train,evaluation data and then check again with the test. \n",
    "\n",
    "Max depth 2 gave good results in general though, pretty close to the rest. Jaccard results are approx 8% less and accuracy 6% less\n",
    "\n",
    "**SVM Conclusion**: Again  linear, is the best\n",
    "\n",
    "**Logistic Regression**: Liblinear scored max on accuracy, Jaccard and F1. Saga did the second best in all scores (same as the rest of the methods)\n",
    "But saga did clearly better than liblinear in logloss. Original choice of Saga was based on tie with liblinear and all other solvers in the training set, but clear advantage in log-loss. Here we see that liblinear seems to outperform all solvers in accuracy, but still ranks last in logloss\n",
    "\n",
    "Given that accuracy of saga is still good (>55%) and logloss minimum, saga seems good for test data"
   ]
  },
  {
   "cell_type": "markdown",
   "metadata": {},
   "source": [
    "Something to keep in mind when creating models to predict the results of basketball tournaments or sports in general is that is quite hard due to so many factors influencing the game. Even in sports betting an accuracy of 55% and over is considered good as it indicates profits.\n"
   ]
  },
  {
   "cell_type": "markdown",
   "metadata": {
    "button": false,
    "new_sheet": false,
    "run_control": {
     "read_only": false
    }
   },
   "source": [
    "<h2>Want to learn more?</h2>\n",
    "\n",
    "IBM SPSS Modeler is a comprehensive analytics platform that has many machine learning algorithms. It has been designed to bring predictive intelligence to decisions made by individuals, by groups, by systems – by your enterprise as a whole. A free trial is available through this course, available here: <a href=\"https://www.ibm.com/analytics/spss-statistics-software?utm_medium=Exinfluencer&utm_source=Exinfluencer&utm_content=000026UJ&utm_term=10006555&utm_id=NA-SkillsNetwork-Channel-SkillsNetworkCoursesIBMDeveloperSkillsNetworkML0101ENSkillsNetwork20718538-2021-01-01\">SPSS Modeler</a>\n",
    "\n",
    "Also, you can use Watson Studio to run these notebooks faster with bigger datasets. Watson Studio is IBM's leading cloud solution for data scientists, built by data scientists. With Jupyter notebooks, RStudio, Apache Spark and popular libraries pre-packaged in the cloud, Watson Studio enables data scientists to collaborate on their projects without having to install anything. Join the fast-growing community of Watson Studio users today with a free account at <a href=\"https://www.ibm.com/cloud/watson-studio?utm_medium=Exinfluencer&utm_source=Exinfluencer&utm_content=000026UJ&utm_term=10006555&utm_id=NA-SkillsNetwork-Channel-SkillsNetworkCoursesIBMDeveloperSkillsNetworkML0101ENSkillsNetwork20718538-2021-01-01\">Watson Studio</a>\n"
   ]
  },
  {
   "cell_type": "markdown",
   "metadata": {},
   "source": [
    "### Thank you for completing this lab!\n",
    "\n",
    "## Author\n",
    "\n",
    "Saeed Aghabozorgi\n",
    "\n",
    "### Other Contributors\n",
    "\n",
    "<a href=\"https://www.linkedin.com/in/joseph-s-50398b136/?utm_medium=Exinfluencer&utm_source=Exinfluencer&utm_content=000026UJ&utm_term=10006555&utm_id=NA-SkillsNetwork-Channel-SkillsNetworkCoursesIBMDeveloperSkillsNetworkML0101ENSkillsNetwork20718538-2021-01-01\" target=\"_blank\">Joseph Santarcangelo</a>\n",
    "\n",
    "## Change Log\n",
    "\n",
    "|  Date (YYYY-MM-DD) |  Version | Changed By  |  Change Description |\n",
    "|---|---|---|---|\n",
    "|2021-04-03   | 2.1  | Malika Singla| Updated the Report accuracy |\n",
    "| 2020-08-27  | 2.0  | Lavanya  |  Moved lab to course repo in GitLab |\n",
    "|   |   |   |   |\n",
    "|   |   |   |   |\n",
    "\n",
    "## <h3 align=\"center\"> © IBM Corporation 2020. All rights reserved. <h3/>\n"
   ]
  }
 ],
 "metadata": {
  "kernelspec": {
   "display_name": "Python 3",
   "language": "python",
   "name": "python3"
  },
  "language_info": {
   "codemirror_mode": {
    "name": "ipython",
    "version": 3
   },
   "file_extension": ".py",
   "mimetype": "text/x-python",
   "name": "python",
   "nbconvert_exporter": "python",
   "pygments_lexer": "ipython3",
   "version": "3.8.8"
  }
 },
 "nbformat": 4,
 "nbformat_minor": 4
}
