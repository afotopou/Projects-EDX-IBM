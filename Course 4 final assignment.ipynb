{
 "cells": [
  {
   "cell_type": "code",
   "execution_count": 2,
   "id": "f636d615-0280-4966-a49c-6a6e7aa8762e",
   "metadata": {},
   "outputs": [
    {
     "name": "stdout",
     "output_type": "stream",
     "text": [
      "Requirement already satisfied: sqlalchemy==1.3.9 in /Users/macuser/opt/anaconda3/lib/python3.8/site-packages (1.3.9)\n",
      "Requirement already satisfied: ibm_db_sa in /Users/macuser/opt/anaconda3/lib/python3.8/site-packages (0.3.6)\n",
      "Requirement already satisfied: sqlalchemy>=0.7.3 in /Users/macuser/opt/anaconda3/lib/python3.8/site-packages (from ibm_db_sa) (1.3.9)\n",
      "Requirement already satisfied: ibm-db>=2.0.0 in /Users/macuser/opt/anaconda3/lib/python3.8/site-packages (from ibm_db_sa) (3.0.4)\n",
      "DB2/LINUXX8664\n"
     ]
    },
    {
     "data": {
      "text/plain": [
       "'Connected: rdl92017@BLUDB'"
      ]
     },
     "execution_count": 2,
     "metadata": {},
     "output_type": "execute_result"
    }
   ],
   "source": [
    "!pip install sqlalchemy==1.3.9\n",
    "!pip install ibm_db_sa\n",
    "%load_ext sql\n",
    "# Enter the connection string for your Db2 on Cloud database instance below\n",
    "# %sql ibm_db_sa://my-username:my-password@my-hostname:my-port/my-db-name\n",
    "%sql ibm_db_sa://rdl92017:zf7shlqmfd-1xwrw@dashdb-txn-sbox-yp-dal09-14.services.dal.bluemix.net:50000/BLUDB"
   ]
  },
  {
   "cell_type": "code",
   "execution_count": 5,
   "id": "7416478b-d5df-470e-9c5d-d11a47a437d3",
   "metadata": {},
   "outputs": [
    {
     "name": "stdout",
     "output_type": "stream",
     "text": [
      " * ibm_db_sa://rdl92017:***@dashdb-txn-sbox-yp-dal09-14.services.dal.bluemix.net:50000/BLUDB\n",
      "Done.\n"
     ]
    },
    {
     "data": {
      "text/html": [
       "<table>\n",
       "    <thead>\n",
       "        <tr>\n",
       "            <th>name</th>\n",
       "            <th>coltype</th>\n",
       "            <th>length</th>\n",
       "        </tr>\n",
       "    </thead>\n",
       "    <tbody>\n",
       "        <tr>\n",
       "            <td>COMMUNITY_AREA_NAME</td>\n",
       "            <td>VARCHAR </td>\n",
       "            <td>22</td>\n",
       "        </tr>\n",
       "        <tr>\n",
       "            <td>COMMUNITY_AREA_NUMBER</td>\n",
       "            <td>SMALLINT</td>\n",
       "            <td>2</td>\n",
       "        </tr>\n",
       "        <tr>\n",
       "            <td>HARDSHIP_INDEX</td>\n",
       "            <td>SMALLINT</td>\n",
       "            <td>2</td>\n",
       "        </tr>\n",
       "        <tr>\n",
       "            <td>PERCENT_AGED_16__UNEMPLOYED</td>\n",
       "            <td>DECIMAL </td>\n",
       "            <td>4</td>\n",
       "        </tr>\n",
       "        <tr>\n",
       "            <td>PERCENT_AGED_25__WITHOUT_HIGH_SCHOOL_DIPLOMA</td>\n",
       "            <td>DECIMAL </td>\n",
       "            <td>4</td>\n",
       "        </tr>\n",
       "        <tr>\n",
       "            <td>PERCENT_AGED_UNDER_18_OR_OVER_64</td>\n",
       "            <td>DECIMAL </td>\n",
       "            <td>4</td>\n",
       "        </tr>\n",
       "        <tr>\n",
       "            <td>PERCENT_HOUSEHOLDS_BELOW_POVERTY</td>\n",
       "            <td>DECIMAL </td>\n",
       "            <td>4</td>\n",
       "        </tr>\n",
       "        <tr>\n",
       "            <td>PERCENT_OF_HOUSING_CROWDED</td>\n",
       "            <td>DECIMAL </td>\n",
       "            <td>4</td>\n",
       "        </tr>\n",
       "        <tr>\n",
       "            <td>PER_CAPITA_INCOME</td>\n",
       "            <td>INTEGER </td>\n",
       "            <td>4</td>\n",
       "        </tr>\n",
       "    </tbody>\n",
       "</table>"
      ],
      "text/plain": [
       "[('COMMUNITY_AREA_NAME', 'VARCHAR ', 22),\n",
       " ('COMMUNITY_AREA_NUMBER', 'SMALLINT', 2),\n",
       " ('HARDSHIP_INDEX', 'SMALLINT', 2),\n",
       " ('PERCENT_AGED_16__UNEMPLOYED', 'DECIMAL ', 4),\n",
       " ('PERCENT_AGED_25__WITHOUT_HIGH_SCHOOL_DIPLOMA', 'DECIMAL ', 4),\n",
       " ('PERCENT_AGED_UNDER_18_OR_OVER_64', 'DECIMAL ', 4),\n",
       " ('PERCENT_HOUSEHOLDS_BELOW_POVERTY', 'DECIMAL ', 4),\n",
       " ('PERCENT_OF_HOUSING_CROWDED', 'DECIMAL ', 4),\n",
       " ('PER_CAPITA_INCOME', 'INTEGER ', 4)]"
      ]
     },
     "execution_count": 5,
     "metadata": {},
     "output_type": "execute_result"
    }
   ],
   "source": [
    "# type in your query to retrieve all column names in the SCHOOLS table along with their datatypes and length\n",
    "%sql select distinct(name), coltype, length from sysibm.syscolumns where tbname='CENSUS_DATA'; \n",
    "#%sql select distinct(COLNAME), TYPENAME, LENGTH from SYSCAT.COLUMNS where TABNAME = 'name'"
   ]
  },
  {
   "cell_type": "code",
   "execution_count": 6,
   "id": "fe8030ee-0906-49a0-aaca-80e99bc10205",
   "metadata": {},
   "outputs": [
    {
     "name": "stdout",
     "output_type": "stream",
     "text": [
      " * ibm_db_sa://rdl92017:***@dashdb-txn-sbox-yp-dal09-14.services.dal.bluemix.net:50000/BLUDB\n",
      "Done.\n"
     ]
    },
    {
     "data": {
      "text/html": [
       "<table>\n",
       "    <thead>\n",
       "        <tr>\n",
       "            <th>colname</th>\n",
       "            <th>typename</th>\n",
       "            <th>length</th>\n",
       "        </tr>\n",
       "    </thead>\n",
       "    <tbody>\n",
       "        <tr>\n",
       "            <td>10th Grade PLAN (2009)</td>\n",
       "            <td>VARCHAR</td>\n",
       "            <td>4</td>\n",
       "        </tr>\n",
       "        <tr>\n",
       "            <td>10th Grade PLAN (2010)</td>\n",
       "            <td>VARCHAR</td>\n",
       "            <td>4</td>\n",
       "        </tr>\n",
       "        <tr>\n",
       "            <td>11th Grade Average ACT (2011)</td>\n",
       "            <td>VARCHAR</td>\n",
       "            <td>4</td>\n",
       "        </tr>\n",
       "        <tr>\n",
       "            <td>9th Grade EXPLORE (2009)</td>\n",
       "            <td>VARCHAR</td>\n",
       "            <td>4</td>\n",
       "        </tr>\n",
       "        <tr>\n",
       "            <td>9th Grade EXPLORE (2010)</td>\n",
       "            <td>VARCHAR</td>\n",
       "            <td>4</td>\n",
       "        </tr>\n",
       "        <tr>\n",
       "            <td>AVERAGE_STUDENT_ATTENDANCE</td>\n",
       "            <td>VARCHAR</td>\n",
       "            <td>6</td>\n",
       "        </tr>\n",
       "        <tr>\n",
       "            <td>Adequate_Yearly_Progress_Made_</td>\n",
       "            <td>VARCHAR</td>\n",
       "            <td>3</td>\n",
       "        </tr>\n",
       "        <tr>\n",
       "            <td>Average_Teacher_Attendance</td>\n",
       "            <td>VARCHAR</td>\n",
       "            <td>6</td>\n",
       "        </tr>\n",
       "        <tr>\n",
       "            <td>COLLEGE_ENROLLMENT</td>\n",
       "            <td>SMALLINT</td>\n",
       "            <td>2</td>\n",
       "        </tr>\n",
       "        <tr>\n",
       "            <td>COMMUNITY_AREA_NAME</td>\n",
       "            <td>VARCHAR</td>\n",
       "            <td>22</td>\n",
       "        </tr>\n",
       "        <tr>\n",
       "            <td>COMMUNITY_AREA_NUMBER</td>\n",
       "            <td>SMALLINT</td>\n",
       "            <td>2</td>\n",
       "        </tr>\n",
       "        <tr>\n",
       "            <td>CPS_Performance_Policy_Level</td>\n",
       "            <td>VARCHAR</td>\n",
       "            <td>15</td>\n",
       "        </tr>\n",
       "        <tr>\n",
       "            <td>CPS_Performance_Policy_Status</td>\n",
       "            <td>VARCHAR</td>\n",
       "            <td>16</td>\n",
       "        </tr>\n",
       "        <tr>\n",
       "            <td>City</td>\n",
       "            <td>VARCHAR</td>\n",
       "            <td>7</td>\n",
       "        </tr>\n",
       "        <tr>\n",
       "            <td>Collaborative_Name</td>\n",
       "            <td>VARCHAR</td>\n",
       "            <td>34</td>\n",
       "        </tr>\n",
       "        <tr>\n",
       "            <td>College_Eligibility__</td>\n",
       "            <td>VARCHAR</td>\n",
       "            <td>4</td>\n",
       "        </tr>\n",
       "        <tr>\n",
       "            <td>College_Enrollment_Rate__</td>\n",
       "            <td>VARCHAR</td>\n",
       "            <td>4</td>\n",
       "        </tr>\n",
       "        <tr>\n",
       "            <td>Elementary, Middle, or High School</td>\n",
       "            <td>VARCHAR</td>\n",
       "            <td>2</td>\n",
       "        </tr>\n",
       "        <tr>\n",
       "            <td>Environment_Icon</td>\n",
       "            <td>VARCHAR</td>\n",
       "            <td>11</td>\n",
       "        </tr>\n",
       "        <tr>\n",
       "            <td>Environment_Score</td>\n",
       "            <td>SMALLINT</td>\n",
       "            <td>2</td>\n",
       "        </tr>\n",
       "        <tr>\n",
       "            <td>Family_Involvement_Icon</td>\n",
       "            <td>VARCHAR</td>\n",
       "            <td>11</td>\n",
       "        </tr>\n",
       "        <tr>\n",
       "            <td>Family_Involvement_Score</td>\n",
       "            <td>VARCHAR</td>\n",
       "            <td>3</td>\n",
       "        </tr>\n",
       "        <tr>\n",
       "            <td>Freshman_on_Track_Rate__</td>\n",
       "            <td>VARCHAR</td>\n",
       "            <td>4</td>\n",
       "        </tr>\n",
       "        <tr>\n",
       "            <td>General_Services_Route</td>\n",
       "            <td>SMALLINT</td>\n",
       "            <td>2</td>\n",
       "        </tr>\n",
       "        <tr>\n",
       "            <td>Gr3_5_Grade_Level_Math__</td>\n",
       "            <td>VARCHAR</td>\n",
       "            <td>4</td>\n",
       "        </tr>\n",
       "        <tr>\n",
       "            <td>Gr3_5_Grade_Level_Read__</td>\n",
       "            <td>VARCHAR</td>\n",
       "            <td>4</td>\n",
       "        </tr>\n",
       "        <tr>\n",
       "            <td>Gr3_5_Keep_Pace_Math__</td>\n",
       "            <td>VARCHAR</td>\n",
       "            <td>4</td>\n",
       "        </tr>\n",
       "        <tr>\n",
       "            <td>Gr3_5_Keep_Pace_Read__</td>\n",
       "            <td>VARCHAR</td>\n",
       "            <td>4</td>\n",
       "        </tr>\n",
       "        <tr>\n",
       "            <td>Gr6_8_Grade_Level_Math__</td>\n",
       "            <td>VARCHAR</td>\n",
       "            <td>4</td>\n",
       "        </tr>\n",
       "        <tr>\n",
       "            <td>Gr6_8_Grade_Level_Read__</td>\n",
       "            <td>VARCHAR</td>\n",
       "            <td>4</td>\n",
       "        </tr>\n",
       "        <tr>\n",
       "            <td>Gr6_8_Keep_Pace_Math_</td>\n",
       "            <td>VARCHAR</td>\n",
       "            <td>4</td>\n",
       "        </tr>\n",
       "        <tr>\n",
       "            <td>Gr6_8_Keep_Pace_Read__</td>\n",
       "            <td>VARCHAR</td>\n",
       "            <td>4</td>\n",
       "        </tr>\n",
       "        <tr>\n",
       "            <td>Gr_8_Explore_Math__</td>\n",
       "            <td>VARCHAR</td>\n",
       "            <td>4</td>\n",
       "        </tr>\n",
       "        <tr>\n",
       "            <td>Gr_8_Explore_Read__</td>\n",
       "            <td>VARCHAR</td>\n",
       "            <td>4</td>\n",
       "        </tr>\n",
       "        <tr>\n",
       "            <td>Graduation_Rate__</td>\n",
       "            <td>VARCHAR</td>\n",
       "            <td>4</td>\n",
       "        </tr>\n",
       "        <tr>\n",
       "            <td>HEALTHY_SCHOOL_CERTIFIED</td>\n",
       "            <td>VARCHAR</td>\n",
       "            <td>3</td>\n",
       "        </tr>\n",
       "        <tr>\n",
       "            <td>ISAT_Exceeding_Math__</td>\n",
       "            <td>DECIMAL</td>\n",
       "            <td>5</td>\n",
       "        </tr>\n",
       "        <tr>\n",
       "            <td>ISAT_Exceeding_Reading__</td>\n",
       "            <td>DECIMAL</td>\n",
       "            <td>5</td>\n",
       "        </tr>\n",
       "        <tr>\n",
       "            <td>ISAT_Value_Add_Color_Math</td>\n",
       "            <td>VARCHAR</td>\n",
       "            <td>6</td>\n",
       "        </tr>\n",
       "        <tr>\n",
       "            <td>ISAT_Value_Add_Color_Read</td>\n",
       "            <td>VARCHAR</td>\n",
       "            <td>6</td>\n",
       "        </tr>\n",
       "        <tr>\n",
       "            <td>ISAT_Value_Add_Math</td>\n",
       "            <td>DECIMAL</td>\n",
       "            <td>3</td>\n",
       "        </tr>\n",
       "        <tr>\n",
       "            <td>ISAT_Value_Add_Read</td>\n",
       "            <td>DECIMAL</td>\n",
       "            <td>3</td>\n",
       "        </tr>\n",
       "        <tr>\n",
       "            <td>Individualized_Education_Program_Compliance_Rate</td>\n",
       "            <td>VARCHAR</td>\n",
       "            <td>7</td>\n",
       "        </tr>\n",
       "        <tr>\n",
       "            <td>Instruction_Icon</td>\n",
       "            <td>VARCHAR</td>\n",
       "            <td>11</td>\n",
       "        </tr>\n",
       "        <tr>\n",
       "            <td>Instruction_Score</td>\n",
       "            <td>SMALLINT</td>\n",
       "            <td>2</td>\n",
       "        </tr>\n",
       "        <tr>\n",
       "            <td>Latitude</td>\n",
       "            <td>DECIMAL</td>\n",
       "            <td>18</td>\n",
       "        </tr>\n",
       "        <tr>\n",
       "            <td>Leaders_Icon</td>\n",
       "            <td>VARCHAR</td>\n",
       "            <td>4</td>\n",
       "        </tr>\n",
       "        <tr>\n",
       "            <td>Leaders_Score</td>\n",
       "            <td>VARCHAR</td>\n",
       "            <td>3</td>\n",
       "        </tr>\n",
       "        <tr>\n",
       "            <td>Link</td>\n",
       "            <td>VARCHAR</td>\n",
       "            <td>78</td>\n",
       "        </tr>\n",
       "        <tr>\n",
       "            <td>Location</td>\n",
       "            <td>VARCHAR</td>\n",
       "            <td>27</td>\n",
       "        </tr>\n",
       "        <tr>\n",
       "            <td>Longitude</td>\n",
       "            <td>DECIMAL</td>\n",
       "            <td>18</td>\n",
       "        </tr>\n",
       "        <tr>\n",
       "            <td>NAME_OF_SCHOOL</td>\n",
       "            <td>VARCHAR</td>\n",
       "            <td>65</td>\n",
       "        </tr>\n",
       "        <tr>\n",
       "            <td>Net_Change_EXPLORE_and_PLAN</td>\n",
       "            <td>VARCHAR</td>\n",
       "            <td>3</td>\n",
       "        </tr>\n",
       "        <tr>\n",
       "            <td>Net_Change_PLAN_and_ACT</td>\n",
       "            <td>VARCHAR</td>\n",
       "            <td>3</td>\n",
       "        </tr>\n",
       "        <tr>\n",
       "            <td>Network_Manager</td>\n",
       "            <td>VARCHAR</td>\n",
       "            <td>40</td>\n",
       "        </tr>\n",
       "        <tr>\n",
       "            <td>Parent_Engagement_Icon</td>\n",
       "            <td>VARCHAR</td>\n",
       "            <td>7</td>\n",
       "        </tr>\n",
       "        <tr>\n",
       "            <td>Parent_Engagement_Score</td>\n",
       "            <td>VARCHAR</td>\n",
       "            <td>3</td>\n",
       "        </tr>\n",
       "        <tr>\n",
       "            <td>Parent_Environment_Icon</td>\n",
       "            <td>VARCHAR</td>\n",
       "            <td>7</td>\n",
       "        </tr>\n",
       "        <tr>\n",
       "            <td>Parent_Environment_Score</td>\n",
       "            <td>VARCHAR</td>\n",
       "            <td>3</td>\n",
       "        </tr>\n",
       "        <tr>\n",
       "            <td>Phone_Number</td>\n",
       "            <td>VARCHAR</td>\n",
       "            <td>14</td>\n",
       "        </tr>\n",
       "        <tr>\n",
       "            <td>Pk_2_Literacy__</td>\n",
       "            <td>VARCHAR</td>\n",
       "            <td>4</td>\n",
       "        </tr>\n",
       "        <tr>\n",
       "            <td>Pk_2_Math__</td>\n",
       "            <td>VARCHAR</td>\n",
       "            <td>4</td>\n",
       "        </tr>\n",
       "        <tr>\n",
       "            <td>Police_District</td>\n",
       "            <td>SMALLINT</td>\n",
       "            <td>2</td>\n",
       "        </tr>\n",
       "        <tr>\n",
       "            <td>Rate_of_Misconducts__per_100_students_</td>\n",
       "            <td>DECIMAL</td>\n",
       "            <td>5</td>\n",
       "        </tr>\n",
       "        <tr>\n",
       "            <td>SAFETY_SCORE</td>\n",
       "            <td>SMALLINT</td>\n",
       "            <td>2</td>\n",
       "        </tr>\n",
       "        <tr>\n",
       "            <td>Safety_Icon</td>\n",
       "            <td>VARCHAR</td>\n",
       "            <td>11</td>\n",
       "        </tr>\n",
       "        <tr>\n",
       "            <td>School_ID</td>\n",
       "            <td>INTEGER</td>\n",
       "            <td>4</td>\n",
       "        </tr>\n",
       "        <tr>\n",
       "            <td>State</td>\n",
       "            <td>VARCHAR</td>\n",
       "            <td>2</td>\n",
       "        </tr>\n",
       "        <tr>\n",
       "            <td>Street_Address</td>\n",
       "            <td>VARCHAR</td>\n",
       "            <td>29</td>\n",
       "        </tr>\n",
       "        <tr>\n",
       "            <td>Students_Passing__Algebra__</td>\n",
       "            <td>VARCHAR</td>\n",
       "            <td>4</td>\n",
       "        </tr>\n",
       "        <tr>\n",
       "            <td>Students_Taking__Algebra__</td>\n",
       "            <td>VARCHAR</td>\n",
       "            <td>4</td>\n",
       "        </tr>\n",
       "        <tr>\n",
       "            <td>Teachers_Icon</td>\n",
       "            <td>VARCHAR</td>\n",
       "            <td>11</td>\n",
       "        </tr>\n",
       "        <tr>\n",
       "            <td>Teachers_Score</td>\n",
       "            <td>VARCHAR</td>\n",
       "            <td>3</td>\n",
       "        </tr>\n",
       "        <tr>\n",
       "            <td>Track_Schedule</td>\n",
       "            <td>VARCHAR</td>\n",
       "            <td>12</td>\n",
       "        </tr>\n",
       "        <tr>\n",
       "            <td>Ward</td>\n",
       "            <td>SMALLINT</td>\n",
       "            <td>2</td>\n",
       "        </tr>\n",
       "        <tr>\n",
       "            <td>X_COORDINATE</td>\n",
       "            <td>DECIMAL</td>\n",
       "            <td>13</td>\n",
       "        </tr>\n",
       "        <tr>\n",
       "            <td>Y_COORDINATE</td>\n",
       "            <td>DECIMAL</td>\n",
       "            <td>13</td>\n",
       "        </tr>\n",
       "        <tr>\n",
       "            <td>ZIP_Code</td>\n",
       "            <td>INTEGER</td>\n",
       "            <td>4</td>\n",
       "        </tr>\n",
       "    </tbody>\n",
       "</table>"
      ],
      "text/plain": [
       "[('10th Grade PLAN (2009)', 'VARCHAR', 4),\n",
       " ('10th Grade PLAN (2010)', 'VARCHAR', 4),\n",
       " ('11th Grade Average ACT (2011)', 'VARCHAR', 4),\n",
       " ('9th Grade EXPLORE (2009)', 'VARCHAR', 4),\n",
       " ('9th Grade EXPLORE (2010)', 'VARCHAR', 4),\n",
       " ('AVERAGE_STUDENT_ATTENDANCE', 'VARCHAR', 6),\n",
       " ('Adequate_Yearly_Progress_Made_', 'VARCHAR', 3),\n",
       " ('Average_Teacher_Attendance', 'VARCHAR', 6),\n",
       " ('COLLEGE_ENROLLMENT', 'SMALLINT', 2),\n",
       " ('COMMUNITY_AREA_NAME', 'VARCHAR', 22),\n",
       " ('COMMUNITY_AREA_NUMBER', 'SMALLINT', 2),\n",
       " ('CPS_Performance_Policy_Level', 'VARCHAR', 15),\n",
       " ('CPS_Performance_Policy_Status', 'VARCHAR', 16),\n",
       " ('City', 'VARCHAR', 7),\n",
       " ('Collaborative_Name', 'VARCHAR', 34),\n",
       " ('College_Eligibility__', 'VARCHAR', 4),\n",
       " ('College_Enrollment_Rate__', 'VARCHAR', 4),\n",
       " ('Elementary, Middle, or High School', 'VARCHAR', 2),\n",
       " ('Environment_Icon', 'VARCHAR', 11),\n",
       " ('Environment_Score', 'SMALLINT', 2),\n",
       " ('Family_Involvement_Icon', 'VARCHAR', 11),\n",
       " ('Family_Involvement_Score', 'VARCHAR', 3),\n",
       " ('Freshman_on_Track_Rate__', 'VARCHAR', 4),\n",
       " ('General_Services_Route', 'SMALLINT', 2),\n",
       " ('Gr3_5_Grade_Level_Math__', 'VARCHAR', 4),\n",
       " ('Gr3_5_Grade_Level_Read__', 'VARCHAR', 4),\n",
       " ('Gr3_5_Keep_Pace_Math__', 'VARCHAR', 4),\n",
       " ('Gr3_5_Keep_Pace_Read__', 'VARCHAR', 4),\n",
       " ('Gr6_8_Grade_Level_Math__', 'VARCHAR', 4),\n",
       " ('Gr6_8_Grade_Level_Read__', 'VARCHAR', 4),\n",
       " ('Gr6_8_Keep_Pace_Math_', 'VARCHAR', 4),\n",
       " ('Gr6_8_Keep_Pace_Read__', 'VARCHAR', 4),\n",
       " ('Gr_8_Explore_Math__', 'VARCHAR', 4),\n",
       " ('Gr_8_Explore_Read__', 'VARCHAR', 4),\n",
       " ('Graduation_Rate__', 'VARCHAR', 4),\n",
       " ('HEALTHY_SCHOOL_CERTIFIED', 'VARCHAR', 3),\n",
       " ('ISAT_Exceeding_Math__', 'DECIMAL', 5),\n",
       " ('ISAT_Exceeding_Reading__', 'DECIMAL', 5),\n",
       " ('ISAT_Value_Add_Color_Math', 'VARCHAR', 6),\n",
       " ('ISAT_Value_Add_Color_Read', 'VARCHAR', 6),\n",
       " ('ISAT_Value_Add_Math', 'DECIMAL', 3),\n",
       " ('ISAT_Value_Add_Read', 'DECIMAL', 3),\n",
       " ('Individualized_Education_Program_Compliance_Rate', 'VARCHAR', 7),\n",
       " ('Instruction_Icon', 'VARCHAR', 11),\n",
       " ('Instruction_Score', 'SMALLINT', 2),\n",
       " ('Latitude', 'DECIMAL', 18),\n",
       " ('Leaders_Icon', 'VARCHAR', 4),\n",
       " ('Leaders_Score', 'VARCHAR', 3),\n",
       " ('Link', 'VARCHAR', 78),\n",
       " ('Location', 'VARCHAR', 27),\n",
       " ('Longitude', 'DECIMAL', 18),\n",
       " ('NAME_OF_SCHOOL', 'VARCHAR', 65),\n",
       " ('Net_Change_EXPLORE_and_PLAN', 'VARCHAR', 3),\n",
       " ('Net_Change_PLAN_and_ACT', 'VARCHAR', 3),\n",
       " ('Network_Manager', 'VARCHAR', 40),\n",
       " ('Parent_Engagement_Icon', 'VARCHAR', 7),\n",
       " ('Parent_Engagement_Score', 'VARCHAR', 3),\n",
       " ('Parent_Environment_Icon', 'VARCHAR', 7),\n",
       " ('Parent_Environment_Score', 'VARCHAR', 3),\n",
       " ('Phone_Number', 'VARCHAR', 14),\n",
       " ('Pk_2_Literacy__', 'VARCHAR', 4),\n",
       " ('Pk_2_Math__', 'VARCHAR', 4),\n",
       " ('Police_District', 'SMALLINT', 2),\n",
       " ('Rate_of_Misconducts__per_100_students_', 'DECIMAL', 5),\n",
       " ('SAFETY_SCORE', 'SMALLINT', 2),\n",
       " ('Safety_Icon', 'VARCHAR', 11),\n",
       " ('School_ID', 'INTEGER', 4),\n",
       " ('State', 'VARCHAR', 2),\n",
       " ('Street_Address', 'VARCHAR', 29),\n",
       " ('Students_Passing__Algebra__', 'VARCHAR', 4),\n",
       " ('Students_Taking__Algebra__', 'VARCHAR', 4),\n",
       " ('Teachers_Icon', 'VARCHAR', 11),\n",
       " ('Teachers_Score', 'VARCHAR', 3),\n",
       " ('Track_Schedule', 'VARCHAR', 12),\n",
       " ('Ward', 'SMALLINT', 2),\n",
       " ('X_COORDINATE', 'DECIMAL', 13),\n",
       " ('Y_COORDINATE', 'DECIMAL', 13),\n",
       " ('ZIP_Code', 'INTEGER', 4)]"
      ]
     },
     "execution_count": 6,
     "metadata": {},
     "output_type": "execute_result"
    }
   ],
   "source": [
    "# type in your query to retrieve all column names in the SCHOOLS table along with their datatypes and length\n",
    "#%sql select distinct(name), coltype, length from sysibm.syscolumns where tbname='CENSUS_DATA'; \n",
    "%sql select distinct(COLNAME), TYPENAME, LENGTH from SYSCAT.COLUMNS where TABNAME = 'CHICAGO_PUBLIC_SCHOOLS';\n",
    "\n"
   ]
  },
  {
   "cell_type": "code",
   "execution_count": 7,
   "id": "f7f3d6a0-3f02-49e2-b42c-6b7fda9313f6",
   "metadata": {},
   "outputs": [
    {
     "name": "stdout",
     "output_type": "stream",
     "text": [
      " * ibm_db_sa://rdl92017:***@dashdb-txn-sbox-yp-dal09-14.services.dal.bluemix.net:50000/BLUDB\n",
      "Done.\n"
     ]
    },
    {
     "data": {
      "text/html": [
       "<table>\n",
       "    <thead>\n",
       "        <tr>\n",
       "            <th>colname</th>\n",
       "            <th>typename</th>\n",
       "            <th>length</th>\n",
       "        </tr>\n",
       "    </thead>\n",
       "    <tbody>\n",
       "        <tr>\n",
       "            <td>ARREST</td>\n",
       "            <td>VARCHAR</td>\n",
       "            <td>5</td>\n",
       "        </tr>\n",
       "        <tr>\n",
       "            <td>BEAT</td>\n",
       "            <td>SMALLINT</td>\n",
       "            <td>2</td>\n",
       "        </tr>\n",
       "        <tr>\n",
       "            <td>BLOCK</td>\n",
       "            <td>VARCHAR</td>\n",
       "            <td>35</td>\n",
       "        </tr>\n",
       "        <tr>\n",
       "            <td>CASE_NUMBER</td>\n",
       "            <td>VARCHAR</td>\n",
       "            <td>8</td>\n",
       "        </tr>\n",
       "        <tr>\n",
       "            <td>COMMUNITY_AREA_NUMBER</td>\n",
       "            <td>SMALLINT</td>\n",
       "            <td>2</td>\n",
       "        </tr>\n",
       "        <tr>\n",
       "            <td>DATE</td>\n",
       "            <td>DATE</td>\n",
       "            <td>4</td>\n",
       "        </tr>\n",
       "        <tr>\n",
       "            <td>DESCRIPTION</td>\n",
       "            <td>VARCHAR</td>\n",
       "            <td>46</td>\n",
       "        </tr>\n",
       "        <tr>\n",
       "            <td>DISTRICT</td>\n",
       "            <td>SMALLINT</td>\n",
       "            <td>2</td>\n",
       "        </tr>\n",
       "        <tr>\n",
       "            <td>DOMESTIC</td>\n",
       "            <td>VARCHAR</td>\n",
       "            <td>5</td>\n",
       "        </tr>\n",
       "        <tr>\n",
       "            <td>FBICODE</td>\n",
       "            <td>VARCHAR</td>\n",
       "            <td>3</td>\n",
       "        </tr>\n",
       "        <tr>\n",
       "            <td>ID</td>\n",
       "            <td>INTEGER</td>\n",
       "            <td>4</td>\n",
       "        </tr>\n",
       "        <tr>\n",
       "            <td>IUCR</td>\n",
       "            <td>VARCHAR</td>\n",
       "            <td>4</td>\n",
       "        </tr>\n",
       "        <tr>\n",
       "            <td>LATITUDE</td>\n",
       "            <td>DECIMAL</td>\n",
       "            <td>18</td>\n",
       "        </tr>\n",
       "        <tr>\n",
       "            <td>LOCATION</td>\n",
       "            <td>VARCHAR</td>\n",
       "            <td>29</td>\n",
       "        </tr>\n",
       "        <tr>\n",
       "            <td>LOCATION_DESCRIPTION</td>\n",
       "            <td>VARCHAR</td>\n",
       "            <td>33</td>\n",
       "        </tr>\n",
       "        <tr>\n",
       "            <td>LONGITUDE</td>\n",
       "            <td>DECIMAL</td>\n",
       "            <td>18</td>\n",
       "        </tr>\n",
       "        <tr>\n",
       "            <td>PRIMARY_TYPE</td>\n",
       "            <td>VARCHAR</td>\n",
       "            <td>33</td>\n",
       "        </tr>\n",
       "        <tr>\n",
       "            <td>WARD</td>\n",
       "            <td>SMALLINT</td>\n",
       "            <td>2</td>\n",
       "        </tr>\n",
       "        <tr>\n",
       "            <td>X_COORDINATE</td>\n",
       "            <td>INTEGER</td>\n",
       "            <td>4</td>\n",
       "        </tr>\n",
       "        <tr>\n",
       "            <td>YEAR</td>\n",
       "            <td>SMALLINT</td>\n",
       "            <td>2</td>\n",
       "        </tr>\n",
       "        <tr>\n",
       "            <td>Y_COORDINATE</td>\n",
       "            <td>INTEGER</td>\n",
       "            <td>4</td>\n",
       "        </tr>\n",
       "    </tbody>\n",
       "</table>"
      ],
      "text/plain": [
       "[('ARREST', 'VARCHAR', 5),\n",
       " ('BEAT', 'SMALLINT', 2),\n",
       " ('BLOCK', 'VARCHAR', 35),\n",
       " ('CASE_NUMBER', 'VARCHAR', 8),\n",
       " ('COMMUNITY_AREA_NUMBER', 'SMALLINT', 2),\n",
       " ('DATE', 'DATE', 4),\n",
       " ('DESCRIPTION', 'VARCHAR', 46),\n",
       " ('DISTRICT', 'SMALLINT', 2),\n",
       " ('DOMESTIC', 'VARCHAR', 5),\n",
       " ('FBICODE', 'VARCHAR', 3),\n",
       " ('ID', 'INTEGER', 4),\n",
       " ('IUCR', 'VARCHAR', 4),\n",
       " ('LATITUDE', 'DECIMAL', 18),\n",
       " ('LOCATION', 'VARCHAR', 29),\n",
       " ('LOCATION_DESCRIPTION', 'VARCHAR', 33),\n",
       " ('LONGITUDE', 'DECIMAL', 18),\n",
       " ('PRIMARY_TYPE', 'VARCHAR', 33),\n",
       " ('WARD', 'SMALLINT', 2),\n",
       " ('X_COORDINATE', 'INTEGER', 4),\n",
       " ('YEAR', 'SMALLINT', 2),\n",
       " ('Y_COORDINATE', 'INTEGER', 4)]"
      ]
     },
     "execution_count": 7,
     "metadata": {},
     "output_type": "execute_result"
    }
   ],
   "source": [
    "%sql select distinct(COLNAME), TYPENAME, LENGTH from SYSCAT.COLUMNS where TABNAME \\\n",
    "    = 'CHICAGO_CRIME_DATA';"
   ]
  },
  {
   "cell_type": "code",
   "execution_count": 12,
   "id": "91ef2718-dd02-441a-8333-01312f034324",
   "metadata": {},
   "outputs": [
    {
     "name": "stdout",
     "output_type": "stream",
     "text": [
      " * ibm_db_sa://rdl92017:***@dashdb-txn-sbox-yp-dal09-14.services.dal.bluemix.net:50000/BLUDB\n",
      "Done.\n"
     ]
    },
    {
     "data": {
      "text/html": [
       "<table>\n",
       "    <thead>\n",
       "        <tr>\n",
       "            <th>1</th>\n",
       "        </tr>\n",
       "    </thead>\n",
       "    <tbody>\n",
       "        <tr>\n",
       "            <td>533</td>\n",
       "        </tr>\n",
       "    </tbody>\n",
       "</table>"
      ],
      "text/plain": [
       "[(Decimal('533'),)]"
      ]
     },
     "execution_count": 12,
     "metadata": {},
     "output_type": "execute_result"
    }
   ],
   "source": [
    "#Problem 1: Find the total number of crimes recorded in the CRIME table\n",
    "%sql select count(*) from CHICAGO_CRIME_DATA;"
   ]
  },
  {
   "cell_type": "code",
   "execution_count": 11,
   "id": "8730e1d1-3460-4565-9fbc-f2250645a84a",
   "metadata": {},
   "outputs": [
    {
     "name": "stdout",
     "output_type": "stream",
     "text": [
      " * ibm_db_sa://rdl92017:***@dashdb-txn-sbox-yp-dal09-14.services.dal.bluemix.net:50000/BLUDB\n",
      "Done.\n"
     ]
    },
    {
     "data": {
      "text/html": [
       "<table>\n",
       "    <thead>\n",
       "        <tr>\n",
       "            <th>community_area_name</th>\n",
       "            <th>per_capita_income</th>\n",
       "        </tr>\n",
       "    </thead>\n",
       "    <tbody>\n",
       "        <tr>\n",
       "            <td>West Garfield Park</td>\n",
       "            <td>10934</td>\n",
       "        </tr>\n",
       "        <tr>\n",
       "            <td>South Lawndale</td>\n",
       "            <td>10402</td>\n",
       "        </tr>\n",
       "        <tr>\n",
       "            <td>Fuller Park</td>\n",
       "            <td>10432</td>\n",
       "        </tr>\n",
       "        <tr>\n",
       "            <td>Riverdale</td>\n",
       "            <td>8201</td>\n",
       "        </tr>\n",
       "    </tbody>\n",
       "</table>"
      ],
      "text/plain": [
       "[('West Garfield Park', 10934),\n",
       " ('South Lawndale', 10402),\n",
       " ('Fuller Park', 10432),\n",
       " ('Riverdale', 8201)]"
      ]
     },
     "execution_count": 11,
     "metadata": {},
     "output_type": "execute_result"
    }
   ],
   "source": [
    "#Problem 2: List community areas with per capita income less than 11000\n",
    "%sql select COMMUNITY_AREA_NAME, PER_CAPITA_INCOME from CENSUS_DATA where PER_CAPITA_INCOME<11000;"
   ]
  },
  {
   "cell_type": "code",
   "execution_count": null,
   "id": "0216f193-b516-4271-adf1-2570f6e583fd",
   "metadata": {},
   "outputs": [],
   "source": [
    "#Problem 3: List all case numbers for crimes involving minors"
   ]
  },
  {
   "cell_type": "code",
   "execution_count": 28,
   "id": "f9b96992-211c-4803-90e8-16c00294731d",
   "metadata": {},
   "outputs": [
    {
     "name": "stdout",
     "output_type": "stream",
     "text": [
      " * ibm_db_sa://rdl92017:***@dashdb-txn-sbox-yp-dal09-14.services.dal.bluemix.net:50000/BLUDB\n",
      "Done.\n"
     ]
    },
    {
     "data": {
      "text/html": [
       "<table>\n",
       "    <thead>\n",
       "        <tr>\n",
       "            <th>case_number</th>\n",
       "            <th>primary_type</th>\n",
       "            <th>description</th>\n",
       "        </tr>\n",
       "    </thead>\n",
       "    <tbody>\n",
       "        <tr>\n",
       "            <td>HL266884</td>\n",
       "            <td>LIQUOR LAW VIOLATION</td>\n",
       "            <td>SELL/GIVE/DEL LIQUOR TO MINOR</td>\n",
       "        </tr>\n",
       "        <tr>\n",
       "            <td>HK238408</td>\n",
       "            <td>LIQUOR LAW VIOLATION</td>\n",
       "            <td>ILLEGAL CONSUMPTION BY MINOR</td>\n",
       "        </tr>\n",
       "    </tbody>\n",
       "</table>"
      ],
      "text/plain": [
       "[('HL266884', 'LIQUOR LAW VIOLATION', 'SELL/GIVE/DEL LIQUOR TO MINOR'),\n",
       " ('HK238408', 'LIQUOR LAW VIOLATION', 'ILLEGAL CONSUMPTION BY MINOR')]"
      ]
     },
     "execution_count": 28,
     "metadata": {},
     "output_type": "execute_result"
    }
   ],
   "source": [
    "%%sql select CASE_NUMBER,PRIMARY_TYPE, DESCRIPTION  \n",
    "from CHICAGO_CRIME_DATA where DESCRIPTION like '%MINOR%' \n",
    " ;"
   ]
  },
  {
   "cell_type": "code",
   "execution_count": 29,
   "id": "61862864-8918-440e-a28b-082b3efb4a98",
   "metadata": {},
   "outputs": [
    {
     "name": "stdout",
     "output_type": "stream",
     "text": [
      " * ibm_db_sa://rdl92017:***@dashdb-txn-sbox-yp-dal09-14.services.dal.bluemix.net:50000/BLUDB\n",
      "Done.\n"
     ]
    },
    {
     "data": {
      "text/html": [
       "<table>\n",
       "    <thead>\n",
       "        <tr>\n",
       "            <th>case_number</th>\n",
       "            <th>primary_type</th>\n",
       "            <th>description</th>\n",
       "        </tr>\n",
       "    </thead>\n",
       "    <tbody>\n",
       "        <tr>\n",
       "            <td>HN567387</td>\n",
       "            <td>OFFENSE INVOLVING CHILDREN</td>\n",
       "            <td>AGG SEX ASSLT OF CHILD FAM MBR</td>\n",
       "        </tr>\n",
       "        <tr>\n",
       "            <td>HR391350</td>\n",
       "            <td>OFFENSE INVOLVING CHILDREN</td>\n",
       "            <td>SEX ASSLT OF CHILD BY FAM MBR</td>\n",
       "        </tr>\n",
       "        <tr>\n",
       "            <td>HL266884</td>\n",
       "            <td>LIQUOR LAW VIOLATION</td>\n",
       "            <td>SELL/GIVE/DEL LIQUOR TO MINOR</td>\n",
       "        </tr>\n",
       "        <tr>\n",
       "            <td>HK238408</td>\n",
       "            <td>LIQUOR LAW VIOLATION</td>\n",
       "            <td>ILLEGAL CONSUMPTION BY MINOR</td>\n",
       "        </tr>\n",
       "        <tr>\n",
       "            <td>HN144152</td>\n",
       "            <td>KIDNAPPING</td>\n",
       "            <td>CHILD ABDUCTION/STRANGER</td>\n",
       "        </tr>\n",
       "    </tbody>\n",
       "</table>"
      ],
      "text/plain": [
       "[('HN567387', 'OFFENSE INVOLVING CHILDREN', 'AGG SEX ASSLT OF CHILD FAM MBR'),\n",
       " ('HR391350', 'OFFENSE INVOLVING CHILDREN', 'SEX ASSLT OF CHILD BY FAM MBR'),\n",
       " ('HL266884', 'LIQUOR LAW VIOLATION', 'SELL/GIVE/DEL LIQUOR TO MINOR'),\n",
       " ('HK238408', 'LIQUOR LAW VIOLATION', 'ILLEGAL CONSUMPTION BY MINOR'),\n",
       " ('HN144152', 'KIDNAPPING', 'CHILD ABDUCTION/STRANGER')]"
      ]
     },
     "execution_count": 29,
     "metadata": {},
     "output_type": "execute_result"
    }
   ],
   "source": [
    "%%sql select CASE_NUMBER,PRIMARY_TYPE, DESCRIPTION  \n",
    "from CHICAGO_CRIME_DATA where DESCRIPTION like '%MINOR%'  OR DESCRIPTION LIKE '%CHILD%'\n",
    " ;"
   ]
  },
  {
   "cell_type": "code",
   "execution_count": 31,
   "id": "0de70160-3281-4e4a-a2e3-74929254bd14",
   "metadata": {},
   "outputs": [
    {
     "name": "stdout",
     "output_type": "stream",
     "text": [
      " * ibm_db_sa://rdl92017:***@dashdb-txn-sbox-yp-dal09-14.services.dal.bluemix.net:50000/BLUDB\n",
      "Done.\n"
     ]
    },
    {
     "data": {
      "text/html": [
       "<table>\n",
       "    <thead>\n",
       "        <tr>\n",
       "            <th>case_number</th>\n",
       "            <th>primary_type</th>\n",
       "            <th>description</th>\n",
       "        </tr>\n",
       "    </thead>\n",
       "    <tbody>\n",
       "        <tr>\n",
       "            <td>HN567387</td>\n",
       "            <td>OFFENSE INVOLVING CHILDREN</td>\n",
       "            <td>AGG SEX ASSLT OF CHILD FAM MBR</td>\n",
       "        </tr>\n",
       "        <tr>\n",
       "            <td>HR391350</td>\n",
       "            <td>OFFENSE INVOLVING CHILDREN</td>\n",
       "            <td>SEX ASSLT OF CHILD BY FAM MBR</td>\n",
       "        </tr>\n",
       "        <tr>\n",
       "            <td>HM768251</td>\n",
       "            <td>OFFENSE INVOLVING CHILDREN</td>\n",
       "            <td>CRIM SEX ABUSE BY FAM MEMBER</td>\n",
       "        </tr>\n",
       "        <tr>\n",
       "            <td>HT394616</td>\n",
       "            <td>OFFENSE INVOLVING CHILDREN</td>\n",
       "            <td>AGG CRIM SEX ABUSE FAM MEMBER</td>\n",
       "        </tr>\n",
       "        <tr>\n",
       "            <td>HL266884</td>\n",
       "            <td>LIQUOR LAW VIOLATION</td>\n",
       "            <td>SELL/GIVE/DEL LIQUOR TO MINOR</td>\n",
       "        </tr>\n",
       "        <tr>\n",
       "            <td>HK238408</td>\n",
       "            <td>LIQUOR LAW VIOLATION</td>\n",
       "            <td>ILLEGAL CONSUMPTION BY MINOR</td>\n",
       "        </tr>\n",
       "        <tr>\n",
       "            <td>HN144152</td>\n",
       "            <td>KIDNAPPING</td>\n",
       "            <td>CHILD ABDUCTION/STRANGER</td>\n",
       "        </tr>\n",
       "    </tbody>\n",
       "</table>"
      ],
      "text/plain": [
       "[('HN567387', 'OFFENSE INVOLVING CHILDREN', 'AGG SEX ASSLT OF CHILD FAM MBR'),\n",
       " ('HR391350', 'OFFENSE INVOLVING CHILDREN', 'SEX ASSLT OF CHILD BY FAM MBR'),\n",
       " ('HM768251', 'OFFENSE INVOLVING CHILDREN', 'CRIM SEX ABUSE BY FAM MEMBER'),\n",
       " ('HT394616', 'OFFENSE INVOLVING CHILDREN', 'AGG CRIM SEX ABUSE FAM MEMBER'),\n",
       " ('HL266884', 'LIQUOR LAW VIOLATION', 'SELL/GIVE/DEL LIQUOR TO MINOR'),\n",
       " ('HK238408', 'LIQUOR LAW VIOLATION', 'ILLEGAL CONSUMPTION BY MINOR'),\n",
       " ('HN144152', 'KIDNAPPING', 'CHILD ABDUCTION/STRANGER')]"
      ]
     },
     "execution_count": 31,
     "metadata": {},
     "output_type": "execute_result"
    }
   ],
   "source": [
    "%%sql select CASE_NUMBER,PRIMARY_TYPE, DESCRIPTION  \n",
    "from CHICAGO_CRIME_DATA where DESCRIPTION LIKE '%MINOR%' \n",
    "OR DESCRIPTION LIKE '%CHILD%' OR PRIMARY_TYPE like '%CHILD%' ;"
   ]
  },
  {
   "cell_type": "code",
   "execution_count": null,
   "id": "f55fbdbf-89df-4e8f-b2f3-2c6be3a2b8c7",
   "metadata": {},
   "outputs": [],
   "source": [
    "#Problem 4: List all kidnapping crimes involving a child"
   ]
  },
  {
   "cell_type": "code",
   "execution_count": 35,
   "id": "92c6444a-81a5-44f9-b13b-11121e143258",
   "metadata": {},
   "outputs": [
    {
     "name": "stdout",
     "output_type": "stream",
     "text": [
      " * ibm_db_sa://rdl92017:***@dashdb-txn-sbox-yp-dal09-14.services.dal.bluemix.net:50000/BLUDB\n",
      "Done.\n"
     ]
    },
    {
     "data": {
      "text/html": [
       "<table>\n",
       "    <thead>\n",
       "        <tr>\n",
       "            <th>case_number</th>\n",
       "            <th>primary_type</th>\n",
       "            <th>description</th>\n",
       "        </tr>\n",
       "    </thead>\n",
       "    <tbody>\n",
       "        <tr>\n",
       "            <td>HN144152</td>\n",
       "            <td>KIDNAPPING</td>\n",
       "            <td>CHILD ABDUCTION/STRANGER</td>\n",
       "        </tr>\n",
       "    </tbody>\n",
       "</table>"
      ],
      "text/plain": [
       "[('HN144152', 'KIDNAPPING', 'CHILD ABDUCTION/STRANGER')]"
      ]
     },
     "execution_count": 35,
     "metadata": {},
     "output_type": "execute_result"
    }
   ],
   "source": [
    "%%sql select CASE_NUMBER,PRIMARY_TYPE, DESCRIPTION  from CHICAGO_CRIME_DATA \n",
    "where  CASE_NUMBER IN (select CASE_NUMBER from CHICAGO_CRIME_DATA where DESCRIPTION LIKE '%MINOR%' \n",
    "OR DESCRIPTION LIKE '%CHILD%' OR PRIMARY_TYPE like '%CHILD%') AND PRIMARY_TYPE LIKE '%KIDNAP%';"
   ]
  },
  {
   "cell_type": "code",
   "execution_count": null,
   "id": "56d400cd-93cc-4771-872a-b525578c3769",
   "metadata": {
    "tags": []
   },
   "outputs": [],
   "source": [
    "#Problem 5: What kind of crimes were recorded at schools?"
   ]
  },
  {
   "cell_type": "code",
   "execution_count": 38,
   "id": "124e9ed9-0f9a-4a9e-8b8a-24106e7bfbf5",
   "metadata": {},
   "outputs": [
    {
     "name": "stdout",
     "output_type": "stream",
     "text": [
      " * ibm_db_sa://rdl92017:***@dashdb-txn-sbox-yp-dal09-14.services.dal.bluemix.net:50000/BLUDB\n",
      "Done.\n"
     ]
    },
    {
     "data": {
      "text/html": [
       "<table>\n",
       "    <thead>\n",
       "        <tr>\n",
       "            <th>primary_type</th>\n",
       "        </tr>\n",
       "    </thead>\n",
       "    <tbody>\n",
       "        <tr>\n",
       "            <td>ASSAULT</td>\n",
       "        </tr>\n",
       "        <tr>\n",
       "            <td>BATTERY</td>\n",
       "        </tr>\n",
       "        <tr>\n",
       "            <td>CRIMINAL DAMAGE</td>\n",
       "        </tr>\n",
       "        <tr>\n",
       "            <td>CRIMINAL TRESPASS</td>\n",
       "        </tr>\n",
       "        <tr>\n",
       "            <td>NARCOTICS</td>\n",
       "        </tr>\n",
       "        <tr>\n",
       "            <td>PUBLIC PEACE VIOLATION</td>\n",
       "        </tr>\n",
       "    </tbody>\n",
       "</table>"
      ],
      "text/plain": [
       "[('ASSAULT',),\n",
       " ('BATTERY',),\n",
       " ('CRIMINAL DAMAGE',),\n",
       " ('CRIMINAL TRESPASS',),\n",
       " ('NARCOTICS',),\n",
       " ('PUBLIC PEACE VIOLATION',)]"
      ]
     },
     "execution_count": 38,
     "metadata": {},
     "output_type": "execute_result"
    }
   ],
   "source": [
    "%%sql SELECT  DISTINCT(PRIMARY_TYPE)  from CHICAGO_CRIME_DATA WHERE\n",
    "LOCATION_DESCRIPTION LIKE '%SCHOOL%'"
   ]
  },
  {
   "cell_type": "code",
   "execution_count": null,
   "id": "3e7a7d7e-3964-4e2d-9359-b7f2666d3a68",
   "metadata": {},
   "outputs": [],
   "source": [
    "#Problem 6: List the average safety score for all types of schools (for ecah type)"
   ]
  },
  {
   "cell_type": "code",
   "execution_count": 173,
   "id": "eafdc2a3-54ce-4fd2-9ca9-bf5e8a1a0a9e",
   "metadata": {},
   "outputs": [
    {
     "name": "stdout",
     "output_type": "stream",
     "text": [
      " * ibm_db_sa://rdl92017:***@dashdb-txn-sbox-yp-dal09-14.services.dal.bluemix.net:50000/BLUDB\n",
      "Done.\n"
     ]
    },
    {
     "data": {
      "text/html": [
       "<table>\n",
       "    <thead>\n",
       "        <tr>\n",
       "            <th>Elementary, Middle, or High School</th>\n",
       "            <th>safety_score_per_school_type</th>\n",
       "        </tr>\n",
       "    </thead>\n",
       "    <tbody>\n",
       "        <tr>\n",
       "            <td>ES</td>\n",
       "            <td>49.520383</td>\n",
       "        </tr>\n",
       "        <tr>\n",
       "            <td>HS</td>\n",
       "            <td>49.623529</td>\n",
       "        </tr>\n",
       "        <tr>\n",
       "            <td>MS</td>\n",
       "            <td>48.000000</td>\n",
       "        </tr>\n",
       "    </tbody>\n",
       "</table>"
      ],
      "text/plain": [
       "[('ES', Decimal('49.520383')),\n",
       " ('HS', Decimal('49.623529')),\n",
       " ('MS', Decimal('48.000000'))]"
      ]
     },
     "execution_count": 173,
     "metadata": {},
     "output_type": "execute_result"
    }
   ],
   "source": [
    "%%sql select  \"Elementary, Middle, or High School\", \n",
    "              avg(SAFETY_SCORE) as SAFETY_SCORE_PER_SCHOOL_TYPE from CHICAGO_PUBLIC_SCHOOLS\n",
    "               GROUP BY \"Elementary, Middle, or High School\""
   ]
  },
  {
   "cell_type": "code",
   "execution_count": 46,
   "id": "2a5b3a0b-28ac-48cb-a3ae-44372aee45f4",
   "metadata": {},
   "outputs": [
    {
     "name": "stdout",
     "output_type": "stream",
     "text": [
      " * ibm_db_sa://rdl92017:***@dashdb-txn-sbox-yp-dal09-14.services.dal.bluemix.net:50000/BLUDB\n",
      "Done.\n"
     ]
    },
    {
     "data": {
      "text/html": [
       "<table>\n",
       "    <thead>\n",
       "        <tr>\n",
       "            <th>average_safety_score</th>\n",
       "        </tr>\n",
       "    </thead>\n",
       "    <tbody>\n",
       "        <tr>\n",
       "            <td>49.504873</td>\n",
       "        </tr>\n",
       "    </tbody>\n",
       "</table>"
      ],
      "text/plain": [
       "[(Decimal('49.504873'),)]"
      ]
     },
     "execution_count": 46,
     "metadata": {},
     "output_type": "execute_result"
    }
   ],
   "source": [
    "%sql select avg(SAFETY_SCORE) as AVERAGE_SAFETY_SCORE from CHICAGO_PUBLIC_SCHOOLS "
   ]
  },
  {
   "cell_type": "code",
   "execution_count": null,
   "id": "ac58ee2a-5dd3-4ff8-9282-f4b782f9a491",
   "metadata": {},
   "outputs": [],
   "source": [
    "#Problem 7: List 5 community areas with highest % of households below poverty line"
   ]
  },
  {
   "cell_type": "code",
   "execution_count": 47,
   "id": "1060c385-83f0-4bc2-b39c-d584418c965f",
   "metadata": {},
   "outputs": [
    {
     "name": "stdout",
     "output_type": "stream",
     "text": [
      " * ibm_db_sa://rdl92017:***@dashdb-txn-sbox-yp-dal09-14.services.dal.bluemix.net:50000/BLUDB\n",
      "Done.\n"
     ]
    },
    {
     "data": {
      "text/html": [
       "<table>\n",
       "    <thead>\n",
       "        <tr>\n",
       "            <th>community_area_name</th>\n",
       "            <th>community_area_number</th>\n",
       "            <th>percent_households_below_poverty</th>\n",
       "        </tr>\n",
       "    </thead>\n",
       "    <tbody>\n",
       "        <tr>\n",
       "            <td>Riverdale</td>\n",
       "            <td>54</td>\n",
       "            <td>56.5</td>\n",
       "        </tr>\n",
       "        <tr>\n",
       "            <td>Fuller Park</td>\n",
       "            <td>37</td>\n",
       "            <td>51.2</td>\n",
       "        </tr>\n",
       "        <tr>\n",
       "            <td>Englewood</td>\n",
       "            <td>68</td>\n",
       "            <td>46.6</td>\n",
       "        </tr>\n",
       "        <tr>\n",
       "            <td>North Lawndale</td>\n",
       "            <td>29</td>\n",
       "            <td>43.1</td>\n",
       "        </tr>\n",
       "        <tr>\n",
       "            <td>East Garfield Park</td>\n",
       "            <td>27</td>\n",
       "            <td>42.4</td>\n",
       "        </tr>\n",
       "    </tbody>\n",
       "</table>"
      ],
      "text/plain": [
       "[('Riverdale', 54, Decimal('56.5')),\n",
       " ('Fuller Park', 37, Decimal('51.2')),\n",
       " ('Englewood', 68, Decimal('46.6')),\n",
       " ('North Lawndale', 29, Decimal('43.1')),\n",
       " ('East Garfield Park', 27, Decimal('42.4'))]"
      ]
     },
     "execution_count": 47,
     "metadata": {},
     "output_type": "execute_result"
    }
   ],
   "source": [
    "%%sql select COMMUNITY_AREA_NAME, COMMUNITY_AREA_NUMBER, PERCENT_HOUSEHOLDS_BELOW_POVERTY \t\n",
    "    from CENSUS_DATA order by PERCENT_HOUSEHOLDS_BELOW_POVERTY desc limit 5;\n"
   ]
  },
  {
   "cell_type": "code",
   "execution_count": null,
   "id": "ef160394-6788-4f40-be00-180e4c29dd93",
   "metadata": {},
   "outputs": [],
   "source": [
    "#Problem 8: Which community area(number) is most crime prone?"
   ]
  },
  {
   "cell_type": "code",
   "execution_count": 72,
   "id": "4bb1213a-0c5b-49de-b257-540ba9f6f44c",
   "metadata": {},
   "outputs": [
    {
     "name": "stdout",
     "output_type": "stream",
     "text": [
      " * ibm_db_sa://rdl92017:***@dashdb-txn-sbox-yp-dal09-14.services.dal.bluemix.net:50000/BLUDB\n",
      "Done.\n"
     ]
    },
    {
     "data": {
      "text/html": [
       "<table>\n",
       "    <thead>\n",
       "        <tr>\n",
       "            <th>community_area_number</th>\n",
       "            <th>total_crimes_per_area</th>\n",
       "        </tr>\n",
       "    </thead>\n",
       "    <tbody>\n",
       "        <tr>\n",
       "            <td>25</td>\n",
       "            <td>43</td>\n",
       "        </tr>\n",
       "    </tbody>\n",
       "</table>"
      ],
      "text/plain": [
       "[(25, Decimal('43'))]"
      ]
     },
     "execution_count": 72,
     "metadata": {},
     "output_type": "execute_result"
    }
   ],
   "source": [
    "%%sql select COMMUNITY_AREA_NUMBER, COUNT(COMMUNITY_AREA_NUMBER) AS TOTAL_CRIMES_PER_AREA\n",
    "    from CHICAGO_CRIME_DATA \n",
    "    GROUP BY COMMUNITY_AREA_NUMBER ORDER BY TOTAL_CRIMES_PER_AREA DESC LIMIT 1;\n"
   ]
  },
  {
   "cell_type": "code",
   "execution_count": null,
   "id": "62ddf623-e668-4c73-9a21-cede5d903edb",
   "metadata": {},
   "outputs": [],
   "source": [
    "#Problem 9: Use a sub-query to find the name of the community area with highest hardship index."
   ]
  },
  {
   "cell_type": "code",
   "execution_count": 117,
   "id": "0cdc47d1-abaf-42cc-b499-5de8bfcf59e1",
   "metadata": {},
   "outputs": [
    {
     "name": "stdout",
     "output_type": "stream",
     "text": [
      " * ibm_db_sa://rdl92017:***@dashdb-txn-sbox-yp-dal09-14.services.dal.bluemix.net:50000/BLUDB\n",
      "Done.\n"
     ]
    },
    {
     "data": {
      "text/html": [
       "<table>\n",
       "    <thead>\n",
       "        <tr>\n",
       "            <th>community_area_name</th>\n",
       "            <th>community_area_name_1</th>\n",
       "            <th>community_area_number</th>\n",
       "            <th>hardship_index</th>\n",
       "        </tr>\n",
       "    </thead>\n",
       "    <tbody>\n",
       "        <tr>\n",
       "            <td>RIVERDALE</td>\n",
       "            <td>Riverdale</td>\n",
       "            <td>54</td>\n",
       "            <td>98</td>\n",
       "        </tr>\n",
       "    </tbody>\n",
       "</table>"
      ],
      "text/plain": [
       "[('RIVERDALE', 'Riverdale', 54, 98)]"
      ]
     },
     "execution_count": 117,
     "metadata": {},
     "output_type": "execute_result"
    }
   ],
   "source": [
    "%%sql Select DISTINCT CPS.COMMUNITY_AREA_NAME, CD.COMMUNITY_AREA_NAME, \n",
    "      CD.COMMUNITY_AREA_NUMBER, CD.HARDSHIP_INDEX from \n",
    "      CENSUS_DATA AS CD, CHICAGO_PUBLIC_SCHOOLS AS CPS \n",
    "        WHERE CD.COMMUNITY_AREA_NUMBER= CPS.COMMUNITY_AREA_NUMBER\n",
    "        AND CD.COMMUNITY_AREA_NUMBER IN (SELECT COMMUNITY_AREA_NUMBER FROM CENSUS_DATA \n",
    "      ORDER BY HARDSHIP_INDEX DESC NULLS LAST LIMIT 1) ;\n",
    "        \n",
    "        "
   ]
  },
  {
   "cell_type": "code",
   "execution_count": null,
   "id": "86248dc4-3a86-4508-9a65-90456abf27c1",
   "metadata": {},
   "outputs": [],
   "source": [
    "#Problem 10: Use a sub-query to determine the Community Area Name with most number of crimes?"
   ]
  },
  {
   "cell_type": "code",
   "execution_count": 148,
   "id": "0e6cca3a-ac6a-4684-9c51-8dfaceb8e7d3",
   "metadata": {},
   "outputs": [
    {
     "name": "stdout",
     "output_type": "stream",
     "text": [
      " * ibm_db_sa://rdl92017:***@dashdb-txn-sbox-yp-dal09-14.services.dal.bluemix.net:50000/BLUDB\n",
      "Done.\n"
     ]
    },
    {
     "data": {
      "text/html": [
       "<table>\n",
       "    <thead>\n",
       "        <tr>\n",
       "            <th>community_area_name</th>\n",
       "            <th>community_area_number</th>\n",
       "        </tr>\n",
       "    </thead>\n",
       "    <tbody>\n",
       "        <tr>\n",
       "            <td>Austin</td>\n",
       "            <td>25</td>\n",
       "        </tr>\n",
       "    </tbody>\n",
       "</table>"
      ],
      "text/plain": [
       "[('Austin', 25)]"
      ]
     },
     "execution_count": 148,
     "metadata": {},
     "output_type": "execute_result"
    }
   ],
   "source": [
    "%%sql Select distinct CD.COMMUNITY_AREA_NAME, \n",
    "      CD.COMMUNITY_AREA_NUMBER from \n",
    "      CENSUS_DATA as CD,  CHICAGO_CRIME_DATA as CCD\n",
    "        WHERE CD.COMMUNITY_AREA_NUMBER = CCD.COMMUNITY_AREA_NUMBER\n",
    "        AND CCD.COMMUNITY_AREA_NUMBER IN ( select COMMUNITY_AREA_NUMBER from CHICAGO_CRIME_DATA\n",
    "    GROUP BY COMMUNITY_AREA_NUMBER order by count(COMMUNITY_AREA_NUMBER) DESC LIMIT 1)"
   ]
  },
  {
   "cell_type": "code",
   "execution_count": 147,
   "id": "7c8117e7-7509-4cc3-903a-a3b7c708d8b1",
   "metadata": {},
   "outputs": [
    {
     "name": "stdout",
     "output_type": "stream",
     "text": [
      " * ibm_db_sa://rdl92017:***@dashdb-txn-sbox-yp-dal09-14.services.dal.bluemix.net:50000/BLUDB\n",
      "Done.\n"
     ]
    },
    {
     "data": {
      "text/html": [
       "<table>\n",
       "    <thead>\n",
       "        <tr>\n",
       "            <th>community_area_number</th>\n",
       "            <th>2</th>\n",
       "        </tr>\n",
       "    </thead>\n",
       "    <tbody>\n",
       "        <tr>\n",
       "            <td>25</td>\n",
       "            <td>43</td>\n",
       "        </tr>\n",
       "    </tbody>\n",
       "</table>"
      ],
      "text/plain": [
       "[(25, Decimal('43'))]"
      ]
     },
     "execution_count": 147,
     "metadata": {},
     "output_type": "execute_result"
    }
   ],
   "source": [
    "%%sql select COMMUNITY_AREA_NUMBER, count(COMMUNITY_AREA_NUMBER) from CHICAGO_CRIME_DATA\n",
    "    GROUP BY COMMUNITY_AREA_NUMBER order by count(COMMUNITY_AREA_NUMBER) DESC LIMIT 1"
   ]
  },
  {
   "cell_type": "code",
   "execution_count": null,
   "id": "39642691-c263-4d0b-a7bb-06972a50b150",
   "metadata": {},
   "outputs": [],
   "source": [
    "#EXAM QUESTIONS "
   ]
  },
  {
   "cell_type": "code",
   "execution_count": null,
   "id": "057a87c2-de2c-44c5-ad0d-ca27a13883b0",
   "metadata": {},
   "outputs": [],
   "source": [
    "#EXTRA HOW MANY CRIMES INVOLVE AN ARREST "
   ]
  },
  {
   "cell_type": "code",
   "execution_count": 152,
   "id": "b40ace50-b033-4d14-b4fc-57c32884143c",
   "metadata": {},
   "outputs": [
    {
     "name": "stdout",
     "output_type": "stream",
     "text": [
      " * ibm_db_sa://rdl92017:***@dashdb-txn-sbox-yp-dal09-14.services.dal.bluemix.net:50000/BLUDB\n",
      "Done.\n"
     ]
    },
    {
     "data": {
      "text/html": [
       "<table>\n",
       "    <thead>\n",
       "        <tr>\n",
       "            <th>1</th>\n",
       "        </tr>\n",
       "    </thead>\n",
       "    <tbody>\n",
       "        <tr>\n",
       "            <td>163</td>\n",
       "        </tr>\n",
       "    </tbody>\n",
       "</table>"
      ],
      "text/plain": [
       "[(Decimal('163'),)]"
      ]
     },
     "execution_count": 152,
     "metadata": {},
     "output_type": "execute_result"
    }
   ],
   "source": [
    "%sql select count(ARREST) from CHICAGO_CRIME_DATA WHERE ARREST='TRUE'"
   ]
  },
  {
   "cell_type": "code",
   "execution_count": null,
   "id": "36c26079-a751-47aa-b99f-f9b8653a5f7c",
   "metadata": {},
   "outputs": [],
   "source": [
    "#Given the subset of the Chicago crime dataset provided in the course,\n",
    "#what are the correct values in the result set for: "
   ]
  },
  {
   "cell_type": "code",
   "execution_count": 153,
   "id": "494f94eb-81a1-4172-bda9-52892e0c1788",
   "metadata": {},
   "outputs": [
    {
     "name": "stdout",
     "output_type": "stream",
     "text": [
      " * ibm_db_sa://rdl92017:***@dashdb-txn-sbox-yp-dal09-14.services.dal.bluemix.net:50000/BLUDB\n",
      "Done.\n"
     ]
    },
    {
     "data": {
      "text/html": [
       "<table>\n",
       "    <thead>\n",
       "        <tr>\n",
       "            <th>primary_type</th>\n",
       "        </tr>\n",
       "    </thead>\n",
       "    <tbody>\n",
       "        <tr>\n",
       "            <td>CRIMINAL TRESPASS</td>\n",
       "        </tr>\n",
       "        <tr>\n",
       "            <td>NARCOTICS</td>\n",
       "        </tr>\n",
       "        <tr>\n",
       "            <td>ROBBERY</td>\n",
       "        </tr>\n",
       "        <tr>\n",
       "            <td>THEFT</td>\n",
       "        </tr>\n",
       "    </tbody>\n",
       "</table>"
      ],
      "text/plain": [
       "[('CRIMINAL TRESPASS',), ('NARCOTICS',), ('ROBBERY',), ('THEFT',)]"
      ]
     },
     "execution_count": 153,
     "metadata": {},
     "output_type": "execute_result"
    }
   ],
   "source": [
    "%%sql SELECT  DISTINCT(PRIMARY_TYPE)  from CHICAGO_CRIME_DATA WHERE\n",
    "LOCATION_DESCRIPTION LIKE '%GAS STATION%'"
   ]
  },
  {
   "cell_type": "code",
   "execution_count": null,
   "id": "5b254017-9436-4afb-8406-0542ebea3511",
   "metadata": {},
   "outputs": [],
   "source": [
    "#Which schools in Community Areas 10 to 15 are healthy school certified?\n"
   ]
  },
  {
   "cell_type": "code",
   "execution_count": 160,
   "id": "8157f920-78af-45d6-830a-dd686180d962",
   "metadata": {},
   "outputs": [
    {
     "name": "stdout",
     "output_type": "stream",
     "text": [
      " * ibm_db_sa://rdl92017:***@dashdb-txn-sbox-yp-dal09-14.services.dal.bluemix.net:50000/BLUDB\n",
      "Done.\n"
     ]
    },
    {
     "data": {
      "text/html": [
       "<table>\n",
       "    <thead>\n",
       "        <tr>\n",
       "            <th>name_of_school</th>\n",
       "        </tr>\n",
       "    </thead>\n",
       "    <tbody>\n",
       "        <tr>\n",
       "            <td>Rufus M Hitch Elementary School</td>\n",
       "        </tr>\n",
       "    </tbody>\n",
       "</table>"
      ],
      "text/plain": [
       "[('Rufus M Hitch Elementary School',)]"
      ]
     },
     "execution_count": 160,
     "metadata": {},
     "output_type": "execute_result"
    }
   ],
   "source": [
    "%%sql select NAME_OF_SCHOOL from CHICAGO_PUBLIC_SCHOOLS where \n",
    "     HEALTHY_SCHOOL_CERTIFIED='Yes' and COMMUNITY_AREA_NUMBER between 10 and 15"
   ]
  },
  {
   "cell_type": "code",
   "execution_count": null,
   "id": "3b1be66e-e024-4789-8421-910bf839192f",
   "metadata": {},
   "outputs": [],
   "source": [
    "#PROBLEM 8: List the top 5 Community Areas by average College Enrollment [number of students]"
   ]
  },
  {
   "cell_type": "code",
   "execution_count": 163,
   "id": "b3874da1-b06d-48ed-99b4-a811ec29367a",
   "metadata": {},
   "outputs": [
    {
     "name": "stdout",
     "output_type": "stream",
     "text": [
      " * ibm_db_sa://rdl92017:***@dashdb-txn-sbox-yp-dal09-14.services.dal.bluemix.net:50000/BLUDB\n",
      "Done.\n"
     ]
    },
    {
     "data": {
      "text/html": [
       "<table>\n",
       "    <thead>\n",
       "        <tr>\n",
       "            <th>community_area_name</th>\n",
       "            <th>avg_enrollment</th>\n",
       "        </tr>\n",
       "    </thead>\n",
       "    <tbody>\n",
       "        <tr>\n",
       "            <td>ARCHER HEIGHTS</td>\n",
       "            <td>2411.500000</td>\n",
       "        </tr>\n",
       "        <tr>\n",
       "            <td>MONTCLARE</td>\n",
       "            <td>1317.000000</td>\n",
       "        </tr>\n",
       "        <tr>\n",
       "            <td>WEST ELSDON</td>\n",
       "            <td>1233.333333</td>\n",
       "        </tr>\n",
       "        <tr>\n",
       "            <td>BRIGHTON PARK</td>\n",
       "            <td>1205.875000</td>\n",
       "        </tr>\n",
       "        <tr>\n",
       "            <td>BELMONT CRAGIN</td>\n",
       "            <td>1198.833333</td>\n",
       "        </tr>\n",
       "    </tbody>\n",
       "</table>"
      ],
      "text/plain": [
       "[('ARCHER HEIGHTS', Decimal('2411.500000')),\n",
       " ('MONTCLARE', Decimal('1317.000000')),\n",
       " ('WEST ELSDON', Decimal('1233.333333')),\n",
       " ('BRIGHTON PARK', Decimal('1205.875000')),\n",
       " ('BELMONT CRAGIN', Decimal('1198.833333'))]"
      ]
     },
     "execution_count": 163,
     "metadata": {},
     "output_type": "execute_result"
    }
   ],
   "source": [
    "%%sql select COMMUNITY_AREA_NAME, AVG(COLLEGE_ENROLLMENT) as AVG_ENROLLMENT from CHICAGO_PUBLIC_SCHOOLS \n",
    "       group by COMMUNITY_AREA_NAME order by AVG_ENROLLMENT desc limit 5"
   ]
  },
  {
   "cell_type": "code",
   "execution_count": null,
   "id": "53b29d4a-e5d1-40e9-86a1-7f7e19059b36",
   "metadata": {},
   "outputs": [],
   "source": [
    "# Use a sub-query to determine which Community Area has the least value for school Safety Score?"
   ]
  },
  {
   "cell_type": "code",
   "execution_count": 168,
   "id": "a2f15bcf-46f7-4fe8-bb3b-33185a906264",
   "metadata": {},
   "outputs": [
    {
     "name": "stdout",
     "output_type": "stream",
     "text": [
      " * ibm_db_sa://rdl92017:***@dashdb-txn-sbox-yp-dal09-14.services.dal.bluemix.net:50000/BLUDB\n",
      "Done.\n"
     ]
    },
    {
     "data": {
      "text/html": [
       "<table>\n",
       "    <thead>\n",
       "        <tr>\n",
       "            <th>community_area_name</th>\n",
       "            <th>safety_score</th>\n",
       "        </tr>\n",
       "    </thead>\n",
       "    <tbody>\n",
       "        <tr>\n",
       "            <td>WASHINGTON PARK</td>\n",
       "            <td>1</td>\n",
       "        </tr>\n",
       "    </tbody>\n",
       "</table>"
      ],
      "text/plain": [
       "[('WASHINGTON PARK', 1)]"
      ]
     },
     "execution_count": 168,
     "metadata": {},
     "output_type": "execute_result"
    }
   ],
   "source": [
    "%%sql  select COMMUNITY_AREA_NAME, SAFETY_SCORE from chicago_public_schools where\n",
    "        SAFETY_SCORE = ( select MIN(SAFETY_SCORE) from chicago_public_schools ) "
   ]
  },
  {
   "cell_type": "code",
   "execution_count": null,
   "id": "f8bbdf54-501d-40b5-8496-da2d02e00fd1",
   "metadata": {},
   "outputs": [],
   "source": [
    "#PROBLEM 10: [Without using an explicit JOIN operator] Find the Per Capita Income of the Community \n",
    "#Area which has a school Safety Score of 1\n"
   ]
  },
  {
   "cell_type": "code",
   "execution_count": 171,
   "id": "38b32a3b-f6d7-496f-a516-c830d46e1845",
   "metadata": {},
   "outputs": [
    {
     "name": "stdout",
     "output_type": "stream",
     "text": [
      " * ibm_db_sa://rdl92017:***@dashdb-txn-sbox-yp-dal09-14.services.dal.bluemix.net:50000/BLUDB\n",
      "Done.\n"
     ]
    },
    {
     "data": {
      "text/html": [
       "<table>\n",
       "    <thead>\n",
       "        <tr>\n",
       "            <th>community_area_number</th>\n",
       "            <th>community_area_name</th>\n",
       "            <th>per_capita_income</th>\n",
       "        </tr>\n",
       "    </thead>\n",
       "    <tbody>\n",
       "        <tr>\n",
       "            <td>40</td>\n",
       "            <td>Washington Park</td>\n",
       "            <td>13785</td>\n",
       "        </tr>\n",
       "    </tbody>\n",
       "</table>"
      ],
      "text/plain": [
       "[(40, 'Washington Park', 13785)]"
      ]
     },
     "execution_count": 171,
     "metadata": {},
     "output_type": "execute_result"
    }
   ],
   "source": [
    "%%sql select community_area_number, community_area_name, per_capita_income from census_data where community_area_number = \n",
    "       ( select community_area_number from chicago_public_schools where safety_score =1 ) "
   ]
  },
  {
   "cell_type": "code",
   "execution_count": null,
   "id": "48319752-0ec2-40dd-b9e7-eb0e4bf70b5c",
   "metadata": {},
   "outputs": [],
   "source": [
    "#method b  without join operator "
   ]
  },
  {
   "cell_type": "code",
   "execution_count": 172,
   "id": "5055b8c6-f2da-4f82-9856-f248364860ad",
   "metadata": {},
   "outputs": [
    {
     "name": "stdout",
     "output_type": "stream",
     "text": [
      " * ibm_db_sa://rdl92017:***@dashdb-txn-sbox-yp-dal09-14.services.dal.bluemix.net:50000/BLUDB\n",
      "Done.\n"
     ]
    },
    {
     "data": {
      "text/html": [
       "<table>\n",
       "    <thead>\n",
       "        <tr>\n",
       "            <th>community_area_number</th>\n",
       "            <th>community_area_name</th>\n",
       "            <th>per_capita_income</th>\n",
       "        </tr>\n",
       "    </thead>\n",
       "    <tbody>\n",
       "        <tr>\n",
       "            <td>40</td>\n",
       "            <td>Washington Park</td>\n",
       "            <td>13785</td>\n",
       "        </tr>\n",
       "    </tbody>\n",
       "</table>"
      ],
      "text/plain": [
       "[(40, 'Washington Park', 13785)]"
      ]
     },
     "execution_count": 172,
     "metadata": {},
     "output_type": "execute_result"
    }
   ],
   "source": [
    "%%sql select CD.community_area_number, CD.community_area_name, \n",
    "        CD.per_capita_income from census_data CD, \n",
    "    chicago_public_schools CPS where CD.community_area_number=CPS.community_area_number\n",
    "        and CPS.safety_score = 1 "
   ]
  },
  {
   "cell_type": "code",
   "execution_count": null,
   "id": "80278822-6f1d-4ded-9cfa-752db2d9a9f9",
   "metadata": {},
   "outputs": [],
   "source": []
  }
 ],
 "metadata": {
  "kernelspec": {
   "display_name": "Python 3",
   "language": "python",
   "name": "python3"
  },
  "language_info": {
   "codemirror_mode": {
    "name": "ipython",
    "version": 3
   },
   "file_extension": ".py",
   "mimetype": "text/x-python",
   "name": "python",
   "nbconvert_exporter": "python",
   "pygments_lexer": "ipython3",
   "version": "3.8.8"
  }
 },
 "nbformat": 4,
 "nbformat_minor": 5
}
